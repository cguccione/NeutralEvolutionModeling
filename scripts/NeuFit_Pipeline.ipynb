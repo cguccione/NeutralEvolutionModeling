{
 "cells": [
  {
   "cell_type": "markdown",
   "metadata": {},
   "source": [
    "# NeuFit Modeling Pipeline"
   ]
  },
  {
   "cell_type": "markdown",
   "metadata": {
    "heading_collapsed": true
   },
   "source": [
    "### Notes"
   ]
  },
  {
   "cell_type": "markdown",
   "metadata": {
    "heading_collapsed": true,
    "hidden": true
   },
   "source": [
    "#### Assumptions"
   ]
  },
  {
   "cell_type": "markdown",
   "metadata": {
    "hidden": true
   },
   "source": [
    "- This Jupyter notebook runs best in Kernel: **neufit**"
   ]
  },
  {
   "cell_type": "markdown",
   "metadata": {
    "heading_collapsed": true,
    "hidden": true
   },
   "source": [
    "#### Neufit Modifyed Args Input/Output Details "
   ]
  },
  {
   "cell_type": "markdown",
   "metadata": {
    "hidden": true
   },
   "source": [
    "- Made changes in variables from args to names below so could be run / modifyed in Jupyer \n",
    "- If not trying to do custom plotting with colored - will be easier to use command line for this\n",
    "- This also assumes that whatever dataset you chose already has the csv files created so had been run through *NeufitPipeline.ipynb*\n",
    "\n",
    "- Old args input form neufit.py file - Example with combined dataset\n",
    "```python \n",
    "args.data_file.name =/.../NeutralModels/Input_csv/combined_data.csv\n",
    "args.data_file <open file '/.../NeutralModels/Input_csv/combined_data.csv', mode 'r' at 0x120b28c00>\n",
    "args.ignore_level 0\n",
    "args.rarefaction_level 0\n",
    "args.taxonomy_file <open file '/.../NeutralModels/Input_csv/combined_taxonomy.csv', mode 'r' at 0x120b28c90>\n",
    "```\n",
    "\n",
    "\n",
    "- Modifyed varible names - Example with combined dataset\n",
    "```python \n",
    "data_file_name = '/.../NeutralModels/Input_csv/combined_data.csv'\n",
    "data_file = open(data_file_name, \"r\")\n",
    "arg_ignore_level = 0\n",
    "arg_rarefaction_level = 0\n",
    "tax_file_name = '/.../NeutralModels/Input_csv/combined_taxonomy.csv'\n",
    "tax_file = open(tax_file_name, \"r\")\n",
    "```"
   ]
  },
  {
   "cell_type": "markdown",
   "metadata": {},
   "source": [
    "## Pipeline Dependencies + Functions"
   ]
  },
  {
   "cell_type": "markdown",
   "metadata": {
    "heading_collapsed": true
   },
   "source": [
    "### Dependencies"
   ]
  },
  {
   "cell_type": "markdown",
   "metadata": {
    "heading_collapsed": true,
    "hidden": true
   },
   "source": [
    "##### Import Packages"
   ]
  },
  {
   "cell_type": "code",
   "execution_count": 2,
   "metadata": {
    "hidden": true
   },
   "outputs": [],
   "source": [
    "#Imports needed for Caitlin Functions\n",
    "import pandas as pd\n",
    "import qiime2 as q2\n",
    "from biom import load_table #https://biom-format.org/documentation/generated/biom.load_table.html\n",
    "from datetime import datetime\n",
    "import os\n",
    "\n",
    "#Imports needed for Neufit\n",
    "import numpy as np\n",
    "from lmfit import Parameters, Model, fit_report #conda-forge/lmfit\n",
    "from scipy.stats import beta #[already installed]\n",
    "from statsmodels.stats.proportion import proportion_confint #[already installed]\n",
    "from os.path import splitext #[already installed]\n",
    "from matplotlib import pyplot #[already installed]\n",
    "from math import log10 #[already installed]\n",
    "import scipy"
   ]
  },
  {
   "cell_type": "markdown",
   "metadata": {
    "heading_collapsed": true,
    "hidden": true
   },
   "source": [
    "##### File Locations"
   ]
  },
  {
   "cell_type": "code",
   "execution_count": 3,
   "metadata": {
    "hidden": true
   },
   "outputs": [],
   "source": [
    "#Datasets: keynameDatatypeCollob\n",
    "#hutchKraken\n",
    "hutchKrakenAlex_biom = '/home/cguccion/rawData/01_11_2021_Hutch340_BE_Samples_LudmilAlexandrov/biom' #location of biom files from kraken->biom pipeline\n",
    "\n",
    "#TCGA_WGS\n",
    "tcgaEhnWGSgreg_ = '/home/cguccion/rawData/April2021_Greg_TCGA_WGS/raw_from_Greg'#Location of raw data\n",
    "tcgaEhnWGSgreg_meta = str(tcgaEhnWGSgreg_ + '/' + '13722_20210405-101126-TCGA-WGS-Qiita-sample-metadata.txt')\n",
    "tcgaEhnWGSgreg_taxa = str(tcgaEhnWGSgreg_ + '/' + 'wol_gotu_taxonomy.csv')\n",
    "\n",
    "#Intermediate Files\n",
    "neufit_input_path = '/home/cguccion/NeutralEvolutionModeling/data_tax_csv' #location of _data.csv and _tax.csv files for Neufit input\n",
    "\n",
    "#Output Files\n",
    "neufit_output_path = '/home/cguccion/NeutralEvolutionModeling/neufit_output' #location of all graphs and command line outputs from running Neufit\n"
   ]
  },
  {
   "cell_type": "markdown",
   "metadata": {},
   "source": [
    "### Functions"
   ]
  },
  {
   "cell_type": "markdown",
   "metadata": {},
   "source": [
    "#### Neufit Orginal Functions"
   ]
  },
  {
   "cell_type": "markdown",
   "metadata": {
    "heading_collapsed": true
   },
   "source": [
    "##### PreSet Functions from Neufit"
   ]
  },
  {
   "cell_type": "code",
   "execution_count": 4,
   "metadata": {
    "hidden": true
   },
   "outputs": [],
   "source": [
    "# neufit: Fit a neutral community model to species abundances, e.g. from an OTU table\n",
    "#\n",
    "# For the theory behind this see Sloan et al, Environ Microbiol 2006 8:732-740.\n",
    "# To run on the example simulation data: python neufit.py sim_data.csv\n",
    "# To link with the mock taxonomy use the -t sim_taxonomy.csv option\n",
    "#\n",
    "# Copyright (C) 2018 Michael Sieber (sieber.ecoevo.de)\n",
    "# All rights reserved.\n",
    "#\n",
    "# Redistribution and use in source and binary forms, with or without\n",
    "# modification, are permitted provided that the following conditions are met:\n",
    "#\n",
    "# 1. Redistributions of source code must retain the above copyright notice, this\n",
    "#    list of conditions and the following disclaimer.\n",
    "# 2. Redistributions in binary form must reproduce the above copyright notice,\n",
    "#    this list of conditions and the following disclaimer in the documentation\n",
    "#    and/or other materials provided with the distribution.\n",
    "#\n",
    "# THIS SOFTWARE IS PROVIDED BY THE COPYRIGHT HOLDERS AND CONTRIBUTORS \"AS IS\" AND\n",
    "# ANY EXPRESS OR IMPLIED WARRANTIES, INCLUDING, BUT NOT LIMITED TO, THE IMPLIED\n",
    "# WARRANTIES OF MERCHANTABILITY AND FITNESS FOR A PARTICULAR PURPOSE ARE\n",
    "# DISCLAIMED. IN NO EVENT SHALL THE COPYRIGHT OWNER OR CONTRIBUTORS BE LIABLE FOR\n",
    "# ANY DIRECT, INDIRECT, INCIDENTAL, SPECIAL, EXEMPLARY, OR CONSEQUENTIAL DAMAGES\n",
    "# (INCLUDING, BUT NOT LIMITED TO, PROCUREMENT OF SUBSTITUTE GOODS OR SERVICES;\n",
    "# LOSS OF USE, DATA, OR PROFITS; OR BUSINESS INTERRUPTION) HOWEVER CAUSED AND\n",
    "# ON ANY THEORY OF LIABILITY, WHETHER IN CONTRACT, STRICT LIABILITY, OR TORT\n",
    "# (INCLUDING NEGLIGENCE OR OTHERWISE) ARISING IN ANY WAY OUT OF THE USE OF THIS\n",
    "# SOFTWARE, EVEN IF ADVISED OF THE POSSIBILITY OF SUCH DAMAGE.\n",
    "#\n",
    "# Github: https://github.com/misieber/neufit\n",
    "\n",
    "def beta_cdf(p, N, m):\n",
    "    # Expected long term distribution under the neutral model (truncated cumulative beta-distribution)\n",
    "    return beta.cdf(1.0, N*m*p, N*m*(1.0-p)) - beta.cdf(1.0/N, N*m*p, N*m*(1.0-p))\n",
    "def subsample(counts, depth):\n",
    "    # Subsamples counts to uniform depth, dropping all samples without enough depth\n",
    "    for sample in counts:\n",
    "        if counts[sample].sum() >= depth:\n",
    "            flattened = np.repeat(np.arange(counts[sample].size), counts[sample])\n",
    "            subsample = np.random.choice(flattened, depth, replace=False)\n",
    "            counts[sample] = np.bincount(subsample, minlength=counts[sample].size)\n",
    "        else:\n",
    "            #CG: changed the following print statment from Python2 to Python3 \n",
    "            print('dropping sample ' + sample + ' with ' + str(counts[sample].sum()) + ' reads < ' + str(depth))\n",
    "            counts = counts.drop(sample, axis=1)\n",
    "    return counts\n",
    "\n",
    "def non_negative_int(arg):\n",
    "    # Argparser type: non-negative int\n",
    "    nnint = int(arg)\n",
    "    if nnint < 0:\n",
    "        raise ArgumentTypeError(arg + ' < 0, must be non-negative')\n",
    "    return nnint"
   ]
  },
  {
   "cell_type": "markdown",
   "metadata": {
    "heading_collapsed": true
   },
   "source": [
    "##### Main Neufit Section"
   ]
  },
  {
   "cell_type": "code",
   "execution_count": 17,
   "metadata": {
    "hidden": true
   },
   "outputs": [],
   "source": [
    "'''\n",
    "All the code in the function below was written by the orginal Neufit authors, not me and is from the neufit.py file.\n",
    "neufit.py: https://github.com/misieber/neufit/blob/master/neufit.py\n",
    "\n",
    "Here are the following changes I made:\n",
    "- Turned it into a function instead of using argv as input\n",
    "    -There are specific notes on what I changed in the 'Notes: Neufit Modifyed Args Input/Output Details' section.\n",
    "-Changed was all syntax from Python2 to Python3.\n",
    "-Changed all print statments to write to file statements\n",
    "    - Made any necissary edits to allow data to be printed to file instead of terminal \n",
    "'''\n",
    "def main_neufit(output_filename, dataset_type, _data_filename, _taxonomy_filename, full_non_neutral = False, arg_ignore_level = 0, arg_rarefaction_level = 0):\n",
    "    '''Inputs:  output_filename : the name which will be at the front of all the files; ex. 'combined'\n",
    "                dataset_type : the dataset type we have from here: ('hutchKraken', 'gregTCGA')\n",
    "                _data_filename = path of []_data.csv file needed for Neufit to run\n",
    "                _taxonomy_filename = path of []_taxonomy.csv file needed for Neufit to run\n",
    "                arg_ignore_level = 0 ; default set from orginal Neufit program\n",
    "                arg_rarefaction_level = 0; default set from orginal Neufit program \n",
    "       Outputs: file_header = file path for neufit outpus: The path+dataGroup name + date stamp to be used for all parts of Neufit run: ex. /home/cguccion/NeutralEvolutionModeling/neufit_output/hutchKrakenAlex_combined_2021-08-26_13:24:22  \n",
    "                occurr_freqs = pandas df that Neufit created in the orginal program but didn't specifcally output orginally\n",
    "                    - Headers of csv: otu_id, mean_abundance, occurrence, Kingdom, Phylum, Class, Order, Family, Genus, Species, predicted_occurrence, lower_conf_int, upper_conf_int\n",
    "                    - I used this occur_freqs df in order to figure out which species is the most non-neutral\n",
    "                    - I believe this is what Neufit uses to physical plot the dots on the graph as well \n",
    "                n_reads = Number of reads (from orginal program)\n",
    "                n_samples = Number of smaples (from orginal program)\n",
    "                r_square = R^2 value (from orginal program)\n",
    "                beta_fit = stats on the preformance of the model (from orginal program)\n",
    "               *Runs the main section of neufit'''\n",
    "    \n",
    "    ##Added by Caitlin ~ Push output to file instead of printing to screen\n",
    "    \n",
    "    #Grab and format data/time\n",
    "    time = datetime.time(datetime.now())\n",
    "    date = datetime.date(datetime.now())\n",
    "    h,s = str(time).split(\".\") #Split  the string into  hours/min and seconds\n",
    "    \n",
    "    #Create file_header which holds the path / location for all future Neufit outpus\n",
    "    file_header = str(neufit_output_path) + \"/\" + str(dataset_type) + '/' + str(output_filename) + '/' + str(output_filename) + '_' + str(date) + \"_\" + str(h)\n",
    "    \n",
    "    #Creates directory for all Neufit Outputs if it doesn't already exist \n",
    "    dir_name = str(neufit_output_path) + \"/\" + str(dataset_type) + '/' + str(output_filename)\n",
    "    os.makedirs(dir_name, exist_ok=True)\n",
    "    \n",
    "    #Create and open file for Neufit Output txt file\n",
    "    fn= str(file_header) + \".txt\"\n",
    "    file = open(fn, 'w')\n",
    "    \n",
    "    #Print statments with important info\n",
    "    print(\"Running dataset: \" + str(dataset_type) + \"Category:\" + str(output_filename) + '\\n')\n",
    "    ##\n",
    "    \n",
    "    # Writes dataset info to Neufit output file + calculates and writes the number of samples/ reads in the file\n",
    "    file.write('Corresponding csv file: ' + _data_filename + '\\n')\n",
    "    abundances = pd.read_table(_data_filename, header=0, index_col=0, sep='\\t').astype(int)\n",
    "    abundances = abundances[abundances.sum(1) > arg_ignore_level]\n",
    "    file.write ('Dataset contains ' + str(abundances.shape[1]) + ' samples (sample_id, reads): \\n')\n",
    "    ##Caitlin\n",
    "    #The following loop is used instead of 'print abundances.sum(0)' so that it can be written to a file\n",
    "    for index, col in abundances.iteritems():\n",
    "        col_sum = 0\n",
    "        for i in col:\n",
    "            col_sum += i\n",
    "        file.write (index + '\\t' + str(col_sum) + '\\n')\n",
    "    file.write ('\\n')\n",
    "    ##\n",
    "\n",
    "    # Determine uniform read depth\n",
    "    if arg_rarefaction_level == 0 or arg_rarefaction_level > max(abundances.sum(0)):\n",
    "        arg_rarefaction_level = min(abundances.sum(0))\n",
    "        file.write ('rarefying to highest possible uniform read depth'),\n",
    "    else:\n",
    "        file.write ('rarefying to custom rarefaction level'),\n",
    "    file.write ('(' + str(arg_rarefaction_level) + ' reads per sample) \\n')\n",
    "\n",
    "    # Optionally subsample the abundance table, unless all samples already have the required uniform read depth\n",
    "    if not all(n_reads == arg_rarefaction_level for n_reads in abundances.sum(0)):\n",
    "        abundances = subsample(abundances, arg_rarefaction_level)\n",
    "        abundances = abundances[abundances.sum(1) > 0]\n",
    "\n",
    "    # Dataset shape\n",
    "    n_otus, n_samples = abundances.shape\n",
    "    n_reads = arg_rarefaction_level\n",
    "\n",
    "    file.write ('fitting neutral expectation to dataset with ' + str(n_samples) + ' samples and ' + str(n_otus) + ' otus \\n \\n')\n",
    "    # Calculate mean relative abundances and occurrence frequencies\n",
    "    mean_relative_abundance = (1.0*abundances.sum(1))/n_reads/n_samples\n",
    "    occurrence_frequency = (1.0*np.count_nonzero(abundances, axis=1))/n_samples\n",
    "    \n",
    "    occurr_freqs = pd.DataFrame(mean_relative_abundance, columns=['mean_abundance'])\n",
    "    if dataset_type == 'TCGA_WGS':\n",
    "        occurr_freqs.index.name = 'gOTU' #This changes the name of the first column\n",
    "    else:\n",
    "        occurr_freqs.index.name = 'otu_id'\n",
    "    occurr_freqs['occurrence'] = occurrence_frequency\n",
    "    occurr_freqs = occurr_freqs.sort_values(by=['mean_abundance'])\n",
    "\n",
    "    # Join with taxonomic information (optional)\n",
    "    if _taxonomy_filename != None: #Changed <> to !=\n",
    "        if dataset_type == 'TCGA_WGS':\n",
    "             taxonomy = pd.read_table(_taxonomy_filename, header=0, index_col=1, sep='\\t')\n",
    "        else:\n",
    "            taxonomy = pd.read_table(_taxonomy_filename, header=0, index_col=0, sep='\\t')\n",
    "        occurr_freqs = occurr_freqs.join(taxonomy)\n",
    "        \n",
    "    # Fit the neutral model\n",
    "    params = Parameters()\n",
    "    params.add('N', value=n_reads, vary=False)\n",
    "    params.add('m', value=0.5, min=0.0, max=1.0)\n",
    "    beta_model = Model(beta_cdf)\n",
    "    beta_fit = beta_model.fit(occurr_freqs['occurrence'], params, p=occurr_freqs['mean_abundance'])\n",
    "\n",
    "    # Report fit statistics\n",
    "    r_square = 1.0 - np.sum(np.square(occurr_freqs['occurrence'] - beta_fit.best_fit))/np.sum(np.square(occurr_freqs['occurrence'] - np.mean(occurr_freqs['occurrence'])))\n",
    "    file.write (fit_report(beta_fit))\n",
    "    file.write ('\\n R^2 = ' + '{:1.2f}'.format(r_square))\n",
    "    print(fit_report(beta_fit))\n",
    "    print('\\n R^2 = ' + '{:1.2f}'.format(r_square))\n",
    "    print('=========================================================')\n",
    "\n",
    "    # Adding the neutral prediction to results\n",
    "    occurr_freqs['predicted_occurrence'] = beta_fit.best_fit\n",
    "    occurr_freqs['lower_conf_int'], occurr_freqs['upper_conf_int'] = proportion_confint(occurr_freqs['predicted_occurrence']*n_samples, n_samples, alpha=0.05, method='wilson')\n",
    "\n",
    "    # Save non-neutral otus (here simply determined by lying outside the confidence intervals)\n",
    "    above = occurr_freqs[occurr_freqs['occurrence'] > occurr_freqs['upper_conf_int']]\n",
    "    below = occurr_freqs[occurr_freqs['occurrence'] < occurr_freqs['lower_conf_int']]\n",
    "    \n",
    "    #Create orginal non neutral output file from Neufit\n",
    "    if full_non_neutral == True:\n",
    "        pd.concat((above, below)).to_csv(str(file_header) + '_FullNonNeutral.csv')\n",
    "    \n",
    "    file.close()\n",
    "    \n",
    "    return(occurr_freqs, n_reads, n_samples, r_square, beta_fit, file_header)"
   ]
  },
  {
   "cell_type": "markdown",
   "metadata": {
    "heading_collapsed": true
   },
   "source": [
    "##### Neufit Plotting"
   ]
  },
  {
   "cell_type": "code",
   "execution_count": 7,
   "metadata": {
    "hidden": true
   },
   "outputs": [],
   "source": [
    "'''\n",
    "All the code in the function below was written by the orginal Neufit authors, not me and is from the neufit.py file.\n",
    "neufit.py: https://github.com/misieber/neufit/blob/master/neufit.py\n",
    "\n",
    "Here are the following changes I made:\n",
    "- Turned it into a function \n",
    "- Added a plot clearing option to avoid double keys\n",
    "'''\n",
    "def neufit_plot(occurr_freqs, n_reads, n_samples, r_square, beta_fit, file_header):\n",
    "    '''Inputs: occurr_freqs = pandas df that Neufit created in the orginal program but didn't specifcally output orginally\n",
    "                    - Headers of csv: otu_id, mean_abundance, occurrence, Kingdom, Phylum, Class, Order, Family, Genus, Species, predicted_occurrence, lower_conf_int, upper_conf_int\n",
    "                    - I used this occur_freqs df in order to figure out which species is the most non-neutral\n",
    "                    - I believe this is what Neufit uses to physical plot the dots on the graph as well \n",
    "               n_reads = Number of reads (from orginal program)\n",
    "               n_samples = Number of smaples (from orginal program)\n",
    "               r_square = R^2 value (from orginal program)\n",
    "               beta_fit = stats on the preformance of the model (from orginal program)\n",
    "               file_header = file path for all neufit outpus: The path+dataGroup name + date stamp to be used for all parts of Neufit run: ex. /home/cguccion/NeutralEvolutionModeling/neufit_output/hutchKrakenAlex_combined_2021-08-26_13:24:22  \n",
    "        Outputs: ! The orginal plot that Neufit outputs (just black dots) - will print to the screen but not save when run\n",
    "                 fn = default filename for neufit plot : customName_NeutralFitPlot.png -- Will often not need this \n",
    "                 *Creates the plot for Neufit '''\n",
    "    \n",
    "    \n",
    "    pyplot.cla() #Clears previous plot - to avoid double keys\n",
    "\n",
    "    # Prepare results plot\n",
    "    pyplot.xlabel('Mean relative abundance across samples', fontsize=15)\n",
    "    pyplot.xscale('log')\n",
    "    x_range = np.logspace(log10(min(occurr_freqs['mean_abundance'])/10), 0, 1000)\n",
    "    pyplot.xlim(min(x_range), max(x_range))\n",
    "    pyplot.xticks(fontsize=16)\n",
    "    pyplot.ylabel('Occurrence frequency in samples', fontsize=15)\n",
    "    pyplot.ylim(-0.05, 1.05)\n",
    "    pyplot.yticks(fontsize=16)\n",
    "\n",
    "    # Plot data points\n",
    "    pyplot.plot(occurr_freqs['mean_abundance'], occurr_freqs['occurrence'], 'o', markersize=6, fillstyle='full', color='black')\n",
    "\n",
    "    # Plot best fit\n",
    "    pyplot.plot(x_range, beta_cdf(x_range, n_reads, beta_fit.best_values['m']), '-', lw=5, color='darkred')\n",
    "    lower, upper = proportion_confint(beta_cdf(x_range, n_reads, beta_fit.best_values['m'])*n_samples, n_samples, alpha=0.05, method='wilson')\n",
    "    pyplot.plot(x_range, lower, '--', lw=2, color='darkred')\n",
    "    pyplot.plot(x_range, upper, '--', lw=2, color='darkred')\n",
    "    pyplot.fill_between(x_range, lower, upper, color='lightgrey')\n",
    "\n",
    "    pyplot.text(0.05, 0.9, '$R^2 = ' + '{:1.2f}'.format(r_square) + '$', fontsize=16, transform=pyplot.gca().transAxes)\n",
    "    pyplot.tight_layout()\n",
    "    \n",
    "    fn = file_header + '_NeutralFitPlot.png'\n",
    "    return(fn)"
   ]
  },
  {
   "cell_type": "markdown",
   "metadata": {},
   "source": [
    "#### Caitlin Written Functions"
   ]
  },
  {
   "cell_type": "markdown",
   "metadata": {
    "heading_collapsed": true
   },
   "source": [
    "##### biome2data_tax"
   ]
  },
  {
   "cell_type": "code",
   "execution_count": 8,
   "metadata": {
    "hidden": true
   },
   "outputs": [],
   "source": [
    "# Caitlin Guccione, 08-25-2021\n",
    "\n",
    "def biom2data_tax(datasetName, biomFilename, finalFilename):\n",
    "    '''Inputs: datasetName = filename of dataset ex. hutchKrakenAlex_biom -- found in set paths above\n",
    "               biomFilename = filename of biom file found in datasetName path above\n",
    "               finalFilename = filename to be used in _data.csv file for neuFit\n",
    "       Outputs: fnD = File location of [name]_data.csv\n",
    "                ![name]_data.csv = Creates a data.csv file to be input into Neufit located at 'neufit_input'\n",
    "                fnT = File location of [name]_taxonomy.csv\n",
    "                ![name]_taxonomy.csv = Creates a taxonomy.csv file to be input into Neufit located at 'neufit_input'\n",
    "       * Imports biom file -> pandas dataframe -> data.csv, taxonomy.csv as desired by neufit'''\n",
    "    \n",
    "    #Make filename and import data\n",
    "    fullFilename = datasetName + '/' + biomFilename\n",
    "    featureTable = load_table(fullFilename) #https://biom-format.org/documentation/generated/biom.load_table.html\n",
    "    \n",
    "    \n",
    "    \n",
    "    #Create file_header which holds the path / location for all _data and _csv outputs for this data\n",
    "    file_header = str(neufit_output_path) + \"/\" + str(dataset_type) + '/' + str(output_filename) + '/' + str(output_filename) + '_' + str(date) + \"_\" + str(h)\n",
    "    \n",
    "    #Creates directory for all Neufit Outputs if it doesn't already exist \n",
    "    dir_name = str(neufit_output_path) + \"/\" + str(dataset_type) + '/' + str(output_filename)\n",
    "    os.makedirs(dir_name, exist_ok=True)\n",
    "    \n",
    "    \n",
    "    \n",
    "    #Create _data.csv\n",
    "    pandas_featureTable = pd.DataFrame(featureTable.matrix_data.toarray(), featureTable.ids('observation'), featureTable.ids())\n",
    "    fnD = neufit_input_path + '/' + finalFilename + '_data.csv'\n",
    "    pandas_featureTable.to_csv(fnD, sep='\\t')\n",
    "    \n",
    "    #Create _taxonomy.csv\n",
    "    pandas_TaxTable = pd.DataFrame(featureTable.metadata_to_dataframe('observation'))\n",
    "    pandas_TaxTable.set_axis(['Kingdom', 'Phylum', 'Class', 'Order', 'Family', 'Genus', 'Species'], axis=1)\n",
    "    fnT = neufit_input_path + '/' + finalFilename + '_taxonomy.csv'\n",
    "    pandas_TaxTable.to_csv(fnT, sep='\\t')\n",
    "    \n",
    "    '''\n",
    "    #Create Neufit string to run progam in terminal\n",
    "    #Can now run Neufit entirely from this notebook so don't need this command\n",
    "    py = 'python2 /Users/cguccione/Documents/Classes/Kit_Lab/Tools/neufit/neufit.py '\n",
    "    fnD = finalFilename + '_data.csv'\n",
    "    fnT = finalFilename + '_taxonomy.csv'\n",
    "    neufit_command = py + fnD + ' -t ' + fnT\n",
    "    \n",
    "    return(neufit_command)\n",
    "    Outputs: ![name]_data.csv = Creates a data.csv file to be input into Neufit located at 'neufit_input'\n",
    "                ![name]_taxonomy.csv = Creates a taxonomy.csv file to be input into Neufit located at 'neufit_input'\n",
    "    '''\n",
    "    \n",
    "    return(fnD, fnT)\n"
   ]
  },
  {
   "cell_type": "markdown",
   "metadata": {
    "heading_collapsed": true
   },
   "source": [
    "##### biom_addMetaTax_customTCGAehn"
   ]
  },
  {
   "cell_type": "code",
   "execution_count": 15,
   "metadata": {
    "hidden": true
   },
   "outputs": [],
   "source": [
    "def biom_addMetaTax_customTCGAehn(datasetName, biomFilename, finalFilename):\n",
    "    '''Inputs: datasetName = filename of dataset ex. hutchKrakenAlex_biom -- found in set paths above\n",
    "               biomFilename = filename of biom file found in datasetName path above\n",
    "               finalFilename = filename to be used in _data.csv file for neuFit -- in this case will be normal or not\n",
    "       Outputs: fnD_hn = File location of head_neck_[name]_data.csv\n",
    "                fnD_e = File location of esophgous_[name]_data.csv\n",
    "                !head_neck_[name]_data.csv = Creates a data.csv file to be input into Neufit located at 'neufit_input'\n",
    "                !esophgous_[name]_data.csv = Creates a data.csv file to be input into Neufit located at 'neufit_input'\n",
    "                fnT = File location of [name]_taxonomy.csv\n",
    "                ![name]_taxonomy.csv = Creates a taxonomy.csv file to be input into Neufit located at 'neufit_input'\n",
    "       * Imports biom file -> pandas dataframe -> splits apart hn from esoph -> 2 data.csv, 1 taxonomy.csv as desired by neufit\n",
    "       * This custom because we need to seperate esophgous from head and neck patients from specific dataset'''\n",
    "    \n",
    "    #Make filename and import all data into pandas df \n",
    "    fullFilename = datasetName + '/' + biomFilename\n",
    "    featureTable = load_table(fullFilename) #Loads biom file: https://biom-format.org/documentation/generated/biom.load_table.html\n",
    "    pandas_featureTable = pd.DataFrame(featureTable.matrix_data.toarray(), featureTable.ids('observation'), featureTable.ids())  #Turn biom file into pandas df \n",
    "    meta = pd.read_csv(tcgaEhnWGSgreg_meta, sep = '\\t') #Import the metadata into a pandas df\n",
    "    pandas_TaxTable = pd.read_csv(tcgaEhnWGSgreg_taxa) #Import the taxonomy into a pandas df\n",
    "    \n",
    "    #Custom : Seperate the Head and Neck Samples from Esophgous Samples in the biom file\n",
    "    ##In case Kit asks for it: biomDF has both hn and esoph samples combined\n",
    "    hn_df = pd.DataFrame() #Biom file with just the head and neck samples\n",
    "    e_df = pd.DataFrame() #Biom file with just the esophagus samples\n",
    "    \n",
    "    for sample in pandas_featureTable.columns.values: #Loop through all the samples in the biom file\n",
    "        \n",
    "        #Use the meta data to determine what cancer type the sample correlates to \n",
    "        cancerType = meta[meta['sample_name'] == sample].reset_index().loc[0, 'primary_site'] #Finds the sample name which matches our i, then finds the corresponding primary site in that row\n",
    "        \n",
    "        #Sort each cancer type into approriate dataframes\n",
    "        if cancerType == 'Head and Neck':\n",
    "            hn_df[sample] = pandas_featureTable.loc[:, sample]\n",
    "        elif cancerType == 'Esophagus':\n",
    "            e_df[sample] = pandas_featureTable.loc[:, sample]\n",
    "        else:#This should never print - just a saftey check \n",
    "            print(\"something is off in the dataset -- not just Head and Neck and Esophagus\")\n",
    "        \n",
    "    #Create _data.csv and _taxonomy.csv files for head & neck and esophgous\n",
    "    \n",
    "    #Head and Neck\n",
    "    fnD_hn = neufit_input_path + '/' + 'head_neck_' + finalFilename + '_data.csv'\n",
    "    fnT_hn = neufit_input_path + '/' +  'head_neck_' +  finalFilename + '_taxonomy.csv'\n",
    "    pandas_TaxTable.to_csv(fnT_hn, sep='\\t')\n",
    "    pandas_featureTable.to_csv(fnD_hn, sep='\\t')\n",
    "    \n",
    "    #Esophgous\n",
    "    fnD_e = neufit_input_path + '/' + 'esophagus_' + finalFilename + '_data.csv'\n",
    "    fnT_e = neufit_input_path + '/' +  'esophagus_' +  finalFilename + '_taxonomy.csv'\n",
    "    pandas_TaxTable.to_csv(fnT_e, sep='\\t')\n",
    "    pandas_featureTable.to_csv(fnD_e, sep='\\t')\n",
    "    \n",
    "    \n",
    "    return(fnD_hn, fnD_e, fnT_hn, fnT_e)"
   ]
  },
  {
   "cell_type": "markdown",
   "metadata": {
    "heading_collapsed": true
   },
   "source": [
    "##### non_neutral_outliers"
   ]
  },
  {
   "cell_type": "code",
   "execution_count": 10,
   "metadata": {
    "hidden": true
   },
   "outputs": [],
   "source": [
    "def non_neutral_outliers(file_header, occurr_freqs, non_save, threshold = 0.5):\n",
    "    '''Inputs: file_header = file path for neufit outpus: The path+dataGroup name + date stamp to be used for all parts of Neufit run: ex. /home/cguccion/NeutralEvolutionModeling/neufit_output/hutchKrakenAlex_combined_2021-08-26_13:24:22  \n",
    "               occurr_freqs = pandas df that Neufit created in the orginal program but didn't specifcally output orginally\n",
    "                    - Headers of csv: otu_id, mean_abundance, occurrence, Kingdom, Phylum, Class, Order, Family, Genus, Species, predicted_occurrence, lower_conf_int, upper_conf_int\n",
    "                    - I used this occur_freqs df in order to figure out which species is the most non-neutral\n",
    "                    - I believe this is what Neufit uses to physical plot the dots on the graph as well\n",
    "               threshold = 0.5; autoset to 0.5, but determines what bacteria are considered non-neutral\n",
    "        Outputs: ! [name]_NonNeutralOutliers.csv\n",
    "                *Creates the most Non-neutral csv file '''\n",
    "    \n",
    "    #Create dataframe\n",
    "    standoutMicrobes = pd.DataFrame(columns = ('Difference off Neutral Model', 'Kingdom', 'Phylum', 'Class', 'Order', 'Family', 'Genus', 'Species'))\n",
    "    \n",
    "    #Loop and find most non-neutral microbes based upon threshold\n",
    "    row_count = 0\n",
    "    for i,j in occurr_freqs.iterrows():\n",
    "        diff = abs(j['occurrence'] - j['predicted_occurrence'])\n",
    "        if diff > threshold:\n",
    "            #standoutMicrobes.loc[row_count] = [diff, j['Kingdom'], j['Phylum'], j['Class'], j['Order'], j['Family'], j['Genus'], j['Species']]\n",
    "            standoutMicrobes.loc[row_count] = [diff, j['Domain'], j['Phylum'], j['Class'], j['Order'], j['Family'], j['Genus'], j['Species']]\n",
    "            row_count +=1\n",
    "    standoutMicrobes = standoutMicrobes.sort_values(by =['Difference off Neutral Model'], ascending=False)\n",
    "    \n",
    "    #Display and export non-neutral microbes as csv\n",
    "    print(\"\\nTop NonNeutral Microbes\")\n",
    "    display(standoutMicrobes)\n",
    "    print('=========================================================\\n')\n",
    "    \n",
    "    fn = file_header + '_NonNeutral_Outliers.csv'\n",
    "    \n",
    "    if non_save == False:\n",
    "        standoutMicrobes.to_csv(fn, sep = '\\t')"
   ]
  },
  {
   "cell_type": "markdown",
   "metadata": {
    "heading_collapsed": true
   },
   "source": [
    "##### custom_color_plot"
   ]
  },
  {
   "cell_type": "markdown",
   "metadata": {
    "hidden": true
   },
   "source": [
    "If you want to add another custom color:\n",
    "1. Create a new section with bacteria and Mean Abundance and Occurance lists\n",
    "2. Add to the for loop at bottom of section as well\n",
    "3. Add custum bacteria to plot"
   ]
  },
  {
   "cell_type": "code",
   "execution_count": 11,
   "metadata": {
    "hidden": true
   },
   "outputs": [],
   "source": [
    "def custom_color_plot(occurr_freqs, n_reads, n_samples, r_square, beta_fit, file_header):\n",
    "    '''Inputs: file_header = file path for neufit outpus: The path+dataGroup name + date stamp to be used for all parts of Neufit run: ex. /home/cguccion/NeutralEvolutionModeling/neufit_output/hutchKrakenAlex_combined_2021-08-26_13:24:22  \n",
    "               occurr_freqs = pandas df that Neufit created in the orginal program but didn't specifcally output orginally\n",
    "                    - Headers of csv: otu_id, mean_abundance, occurrence, Kingdom, Phylum, Class, Order, Family, Genus, Species, predicted_occurrence, lower_conf_int, upper_conf_int\n",
    "                    - I used this occur_freqs df in order to figure out which species is the most non-neutral\n",
    "                    - I believe this is what Neufit uses to physical plot the dots on the graph as well\n",
    "               n_reads = Number of reads (from orginal program)\n",
    "               n_samples = Number of smaples (from orginal program)\n",
    "               r_square = R^2 value (from orginal program)\n",
    "               beta_fit = stats on the preformance of the model (from orginal program)\n",
    "        Outputs: ! The plot that Neufit outputs + the colored dots - will print to the screen but not save when run\n",
    "                 fn = default filename for neufit plot : _NeutralFitPlot_withNonNeutralColors.png\n",
    "                 *Creates the plot for Neufit + with colored dots '''\n",
    "    \n",
    "    #Create orginal black plot\n",
    "    neufit_plot(occurr_freqs, n_reads, n_samples, r_square, beta_fit, file_header)\n",
    "    \n",
    "    #If you want to add a new custom color, follow the steps below on what to add where (more info above as well)\n",
    "    \n",
    "    # --------- STEP 1 ---------\n",
    "    # Create mean abundance and occurance list for bacteria \n",
    "\n",
    "    #Phylori\n",
    "    MA_S_pylori = [] #Mean_Abundance, Species , phylori\n",
    "    O_S_pylori = [] #Occurrance\n",
    "\n",
    "    #Proteobacteria\n",
    "    MA_P_Proteobacteria = []\n",
    "    O_P_Proteobacteria = []\n",
    "\n",
    "    #Streptococcus\n",
    "    MA_G_Streptococcus = []\n",
    "    O_G_Streptococcus = []\n",
    "\n",
    "    #Bacteroidetes\n",
    "    MA_P_Bacteroidetes = []\n",
    "    O_P_Bacteroidetes = []\n",
    "\n",
    "    # --------- STEP 2 ---------\n",
    "    # Add to customized lists when hitting bacteria in neutral list \n",
    "\n",
    "    #for i, j in neutral.iterrows():\n",
    "    for i,j in occurr_freqs.iterrows():\n",
    "        if j['Species'] == 's__pylori':\n",
    "            MA_S_pylori.append(j['mean_abundance'])\n",
    "            O_S_pylori.append(j['occurrence'])\n",
    "        if j['Phylum'] == 'p__Proteobacteria':\n",
    "            MA_P_Proteobacteria.append(j['mean_abundance'])\n",
    "            O_P_Proteobacteria.append(j['occurrence'])\n",
    "        if j['Genus'] == 'g__Streptococcus':\n",
    "            MA_G_Streptococcus.append(j['mean_abundance'])\n",
    "            O_G_Streptococcus.append(j['occurrence'])\n",
    "        if j['Phylum'] == 'p__Bacteroidetes':\n",
    "            MA_P_Bacteroidetes.append(j['mean_abundance'])\n",
    "            O_P_Bacteroidetes.append(j['occurrence'])\n",
    "\n",
    "    # --------- STEP 3 ---------\n",
    "    # Override coloring of dots in current plot with new colors\n",
    "\n",
    "    pyplot.plot(MA_P_Proteobacteria, O_P_Proteobacteria, 'o', markersize=6, fillstyle='full', color='green', label=\"Proteobacteria\")\n",
    "    pyplot.plot(MA_G_Streptococcus, O_G_Streptococcus, 'o', markersize=6, fillstyle='full', color='orange', label=\"Streptococcus\")\n",
    "    pyplot.plot(MA_P_Bacteroidetes, O_P_Bacteroidetes, 'o', markersize=6, fillstyle='full', color='purple', label=\"Bacteroidetes\")\n",
    "    pyplot.plot(MA_S_pylori, O_S_pylori, 'o', markersize=6, fillstyle='full', color='blue', label='H.pylori')\n",
    "\n",
    "        \n",
    "    plot_fn = file_header + '_NeutralFitPlot_withNonNeutralColors.png'\n",
    "    \n",
    "    return(plot_fn)"
   ]
  },
  {
   "cell_type": "markdown",
   "metadata": {
    "heading_collapsed": true
   },
   "source": [
    "##### save_plot"
   ]
  },
  {
   "cell_type": "code",
   "execution_count": 12,
   "metadata": {
    "hidden": true
   },
   "outputs": [],
   "source": [
    "def save_plot(fn):\n",
    "    ##Just saves the plot given a filename\n",
    "    pyplot.legend(loc=\"center left\")\n",
    "    pyplot.savefig(fn)"
   ]
  },
  {
   "cell_type": "markdown",
   "metadata": {
    "heading_collapsed": true
   },
   "source": [
    "##### Neufit_Pipeline_Main"
   ]
  },
  {
   "cell_type": "code",
   "execution_count": 22,
   "metadata": {
    "hidden": true
   },
   "outputs": [],
   "source": [
    "def Neufit_Pipeline_Main(output_filename, dataset_type, custom_filename, norm_graph, colored_graph, non_neutral, non_save = False, full_non_neutral = False):\n",
    "    '''\n",
    "    Inputs:    output_filename : the name which will be at the front of all the files; ex. 'combined'\n",
    "               dataset_type : the dataset type we have from here: ('hutchKraken', 'gregTCGA')\n",
    "               custom_filename : depedant on the dataset:\n",
    "                       - hutchKraken : the name of the biom file ex.'combined_biome'\n",
    "               \n",
    "               norm_graph : True/False : Prints and saves the neutral evolution graph without any coloring\n",
    "               colored_graph : True/False : Prints and saves the neutral evolution graph without any coloring\n",
    "               non_neutral : True/False : Prints and saves the most non-neutral microbes in csv file               \n",
    "               \n",
    "               Default inputs to be changed mainly for testing purposes:\n",
    "               non_save : True/False, False = default, the following will not be SAVED just printed to the screen\n",
    "                           - * This is intened for testing only! *\n",
    "                           - norm_graph, colored_graph, non_neutral_csv \n",
    "                           - **Took away this feature ** [It will still create [name]_data.csv and [name]_taxonomy.csv but will delete them after running]\n",
    "               full_non_neutral: True/False : Creates a csv file from orginal Neufit program with information about what is neutral and how far off the curve each point is\n",
    "                   - csv will have: otu_id, mean_abundance, occurrence, Kingdom, Phylum, Class, Order, Family, Genus, Species, predicted_occurrence, lower_conf_int, upper_conf_int\n",
    "\n",
    "              *The main function for the pipeline which calls all other functions*\n",
    "    \n",
    "    '''\n",
    "    \n",
    "    #Convert data from biom to csv files for Neufit\n",
    "    if dataset_type == 'hutchKraken':\n",
    "        fnData, fnTaxonomy = biom2data_tax(hutchKrakenAlex_biom, custom_filename, output_filename)\n",
    "    elif dataset_type == 'TCGA_WGS':\n",
    "        #Determine which biom file for the run\n",
    "        if output_filename == 'normal':\n",
    "            biomFilename ='116640_feature-table-TCGA-WGS-STN-ESCA-HNSC.biom'\n",
    "        elif output_filename == 'cancer':\n",
    "            biomFilename ='116639_feature-table-TCGA-WGS-PT-ESCA-HNSC.biom'\n",
    "        \n",
    "        #Turn biome file into _data and _tax files\n",
    "        fnD_hn, fnD_e, fnT_hn, fnT_e = biom_addMetaTax_customTCGAehn(tcgaEhnWGSgreg_, biomFilename, output_filename)\n",
    "        \n",
    "        #Choose the correct _data file, esoph or head and neck\n",
    "        if custom_filename == 'e':\n",
    "            fnData = fnD_e\n",
    "            fnTaxonomy = fnT_e\n",
    "            output_filename = 'esophagus_' + output_filename\n",
    "        elif custom_filename == 'hn':\n",
    "            fnData = fnD_hn\n",
    "            fnTaxonomy = fnT_hn\n",
    "            output_filename = 'headNeck_' + output_filename\n",
    "        \n",
    "    #Run Neufit\n",
    "    occurr_freqs, n_reads, n_samples, r_square, beta_fit, file_header = main_neufit(output_filename, dataset_type, fnData, fnTaxonomy, full_non_neutral)\n",
    "    \n",
    "    #Neufit Plotting and Non-neutral Outline\n",
    "    if norm_graph == True: #Neutral evolution graph, no color\n",
    "        nc_fn = neufit_plot(occurr_freqs, n_reads, n_samples, r_square, beta_fit, file_header)\n",
    "        if non_save == False:\n",
    "            save_plot(nc_fn)\n",
    "    if colored_graph == True:#Neutral evolution graph with colors\n",
    "        cc_fn = custom_color_plot(occurr_freqs, n_reads, n_samples, r_square, beta_fit, file_header)\n",
    "        if non_save == False:\n",
    "            save_plot(cc_fn)\n",
    "    if non_neutral == True:\n",
    "        non_neutral_outliers(file_header, occurr_freqs, non_save)\n",
    "        \n",
    "    #Easier to delete the Neufit text file then to not create it\n",
    "    if non_save == True:\n",
    "        neufit_fn= str(file_header) + \".txt\"\n",
    "        os.remove(neufit_fn)\n",
    "    \n",
    "    #Optional cleanup step with non_save to remove taxonomy and data files - these just overwrite themseleves so not usally a big issue\n",
    "    '''\n",
    "    if non_save == True: #Delete [name]_data.csv and [name]_taxonomy.csv to reduce cluter\n",
    "        os.remove(fnData)\n",
    "        os.remove(fnTaxonomy)\n",
    "    '''\n"
   ]
  },
  {
   "cell_type": "markdown",
   "metadata": {},
   "source": [
    "## Choose Dataset + Run Pipeline"
   ]
  },
  {
   "cell_type": "markdown",
   "metadata": {},
   "source": [
    "### Hutch Kraken Dataset: Ludmil Alexandrov"
   ]
  },
  {
   "cell_type": "markdown",
   "metadata": {
    "heading_collapsed": true
   },
   "source": [
    "##### Dataset Info"
   ]
  },
  {
   "cell_type": "markdown",
   "metadata": {
    "hidden": true
   },
   "source": [
    "**Background on Data**\n",
    "- This data was orginally in the form of Kraken data that we recived from a rotation student in Ludmill Alexandrov's lab \n",
    "    - We didn't have access to the fastq files, only the Kraken data due to a limited number of keys\n",
    "- This data is originally from Fread Hutch and consistets of progressor and non-progressor patients in reference to EAC\n",
    "\n",
    "**Information on How to Run Data**\n",
    "- This dataset comes with biome files with the taxonomic data already imported into the files\n",
    "    - This allows us to simply run **biom2data_tax** which is all set in the Neufit_Pipeline_Main Function\n",
    "- This pipeline assumes everything from Kraken (including this dataset) is already in the **biome** format    \n",
    "    - In the future we will not be using Kraken but will have the full fastq files \n",
    "    - The pipeline used previously to create the kraken-biome files uses: 'pip install krakenplot' which \n",
    "        didnt' work on the cluster (1 hour attempt) so wasn't worth implementation\n",
    "    - More details on how to convert files from Kraken to biom on the command line found on this github: https://github.com/cguccione/BEProgression2EAC/tree/main/PipelineTesting/KrakenBiome_Pipeline"
   ]
  },
  {
   "cell_type": "markdown",
   "metadata": {
    "heading_collapsed": true
   },
   "source": [
    "#### Combined Data (Everything in the dataset)"
   ]
  },
  {
   "cell_type": "code",
   "execution_count": 116,
   "metadata": {
    "hidden": true
   },
   "outputs": [
    {
     "name": "stderr",
     "output_type": "stream",
     "text": [
      "/home/cguccion/.conda/envs/neufit/lib/python3.5/site-packages/ipykernel_launcher.py:24: FutureWarning: set_axis currently defaults to operating inplace.\n",
      "This will change in a future version of pandas, use inplace=True to avoid this warning.\n"
     ]
    },
    {
     "name": "stdout",
     "output_type": "stream",
     "text": [
      "Running dataset: hutchKrakenCategory:combined\n",
      "\n",
      "[[Fit Statistics]]\n",
      "    # fitting method   = leastsq\n",
      "    # function evals   = 12\n",
      "    # data points      = 5678\n",
      "    # variables        = 1\n",
      "    chi-square         = 15.1564315\n",
      "    reduced chi-square = 0.00266980\n",
      "    Akaike info crit   = -33645.4270\n",
      "    Bayesian info crit = -33638.7826\n",
      "[[Variables]]\n",
      "    N:  2108 (fixed)\n",
      "    m:  0.32033901 +/- 0.00831252 (2.59%) (init = 0.5)\n",
      "\n",
      " R^2 = 0.82\n",
      "=========================================================\n",
      "\n",
      "Top NonNeutral Microbes\n"
     ]
    },
    {
     "data": {
      "text/html": [
       "<div>\n",
       "<style scoped>\n",
       "    .dataframe tbody tr th:only-of-type {\n",
       "        vertical-align: middle;\n",
       "    }\n",
       "\n",
       "    .dataframe tbody tr th {\n",
       "        vertical-align: top;\n",
       "    }\n",
       "\n",
       "    .dataframe thead th {\n",
       "        text-align: right;\n",
       "    }\n",
       "</style>\n",
       "<table border=\"1\" class=\"dataframe\">\n",
       "  <thead>\n",
       "    <tr style=\"text-align: right;\">\n",
       "      <th></th>\n",
       "      <th>Difference off Neutral Model</th>\n",
       "      <th>Kingdom</th>\n",
       "      <th>Phylum</th>\n",
       "      <th>Class</th>\n",
       "      <th>Order</th>\n",
       "      <th>Family</th>\n",
       "      <th>Genus</th>\n",
       "      <th>Species</th>\n",
       "    </tr>\n",
       "  </thead>\n",
       "  <tbody>\n",
       "    <tr>\n",
       "      <th>2</th>\n",
       "      <td>0.962040</td>\n",
       "      <td>k__Viruses</td>\n",
       "      <td>p__Peploviricota</td>\n",
       "      <td>c__Herviviricetes</td>\n",
       "      <td>o__Herpesvirales</td>\n",
       "      <td>f__Herpesviridae</td>\n",
       "      <td>g__Roseolovirus</td>\n",
       "      <td>s__Human betaherpesvirus 6A</td>\n",
       "    </tr>\n",
       "    <tr>\n",
       "      <th>1</th>\n",
       "      <td>0.935281</td>\n",
       "      <td>k__Viruses</td>\n",
       "      <td>p__Peploviricota</td>\n",
       "      <td>c__Herviviricetes</td>\n",
       "      <td>o__Herpesvirales</td>\n",
       "      <td>f__Herpesviridae</td>\n",
       "      <td>g__Roseolovirus</td>\n",
       "      <td>s__Human betaherpesvirus 6B</td>\n",
       "    </tr>\n",
       "    <tr>\n",
       "      <th>3</th>\n",
       "      <td>0.761747</td>\n",
       "      <td>k__Bacteria</td>\n",
       "      <td>p__Proteobacteria</td>\n",
       "      <td>c__Epsilonproteobacteria</td>\n",
       "      <td>o__Campylobacterales</td>\n",
       "      <td>f__Helicobacteraceae</td>\n",
       "      <td>g__Helicobacter</td>\n",
       "      <td>s__pylori</td>\n",
       "    </tr>\n",
       "    <tr>\n",
       "      <th>4</th>\n",
       "      <td>0.629403</td>\n",
       "      <td>k__Bacteria</td>\n",
       "      <td>p__Proteobacteria</td>\n",
       "      <td>c__Gammaproteobacteria</td>\n",
       "      <td>o__Pasteurellales</td>\n",
       "      <td>f__Pasteurellaceae</td>\n",
       "      <td>g__Haemophilus</td>\n",
       "      <td>s__parahaemolyticus</td>\n",
       "    </tr>\n",
       "    <tr>\n",
       "      <th>0</th>\n",
       "      <td>0.580051</td>\n",
       "      <td>k__Bacteria</td>\n",
       "      <td>p__Proteobacteria</td>\n",
       "      <td>c__Gammaproteobacteria</td>\n",
       "      <td>o__Pseudomonadales</td>\n",
       "      <td>f__Pseudomonadaceae</td>\n",
       "      <td>g__Pseudomonas</td>\n",
       "      <td>s__sp. J380</td>\n",
       "    </tr>\n",
       "  </tbody>\n",
       "</table>\n",
       "</div>"
      ],
      "text/plain": [
       "   Difference off Neutral Model      Kingdom             Phylum  \\\n",
       "2                      0.962040   k__Viruses   p__Peploviricota   \n",
       "1                      0.935281   k__Viruses   p__Peploviricota   \n",
       "3                      0.761747  k__Bacteria  p__Proteobacteria   \n",
       "4                      0.629403  k__Bacteria  p__Proteobacteria   \n",
       "0                      0.580051  k__Bacteria  p__Proteobacteria   \n",
       "\n",
       "                      Class                 Order                Family  \\\n",
       "2         c__Herviviricetes      o__Herpesvirales      f__Herpesviridae   \n",
       "1         c__Herviviricetes      o__Herpesvirales      f__Herpesviridae   \n",
       "3  c__Epsilonproteobacteria  o__Campylobacterales  f__Helicobacteraceae   \n",
       "4    c__Gammaproteobacteria     o__Pasteurellales    f__Pasteurellaceae   \n",
       "0    c__Gammaproteobacteria    o__Pseudomonadales   f__Pseudomonadaceae   \n",
       "\n",
       "             Genus                      Species  \n",
       "2  g__Roseolovirus  s__Human betaherpesvirus 6A  \n",
       "1  g__Roseolovirus  s__Human betaherpesvirus 6B  \n",
       "3  g__Helicobacter                    s__pylori  \n",
       "4   g__Haemophilus          s__parahaemolyticus  \n",
       "0   g__Pseudomonas                  s__sp. J380  "
      ]
     },
     "metadata": {},
     "output_type": "display_data"
    },
    {
     "name": "stdout",
     "output_type": "stream",
     "text": [
      "=========================================================\n",
      "\n"
     ]
    },
    {
     "data": {
      "image/png": "[encoded data removed]",
      "text/plain": [
       "<Figure size 432x288 with 1 Axes>"
      ]
     },
     "metadata": {
      "needs_background": "light"
     },
     "output_type": "display_data"
    }
   ],
   "source": [
    "'''Choose True or False for the following parameters:\n",
    "               norm_graph : True/False : Prints and saves the neutral evolution graph without any coloring\n",
    "               colored_graph : True/False : Prints and saves the neutral evolution graph without any coloring\n",
    "               non_neutral : True/False : Prints and saves the most non-neutral microbes in csv file\n",
    "'''\n",
    "norm_graph = True\n",
    "colored_graph = True\n",
    "non_neutral = True\n",
    "\n",
    "#Run with no output files\n",
    "#Neufit_Pipeline_Main('combined', 'hutchKraken', 'combined_biome', norm_graph, colored_graph, non_neutral, non_save = True)\n",
    "\n",
    "#Run with all possible output files\n",
    "Neufit_Pipeline_Main('combined', 'hutchKraken', 'combined_biome', norm_graph, colored_graph, non_neutral, full_non_neutral = True)"
   ]
  },
  {
   "cell_type": "markdown",
   "metadata": {
    "heading_collapsed": true
   },
   "source": [
    "#### Progressors Data (Patients who went onto progressor to EAC)"
   ]
  },
  {
   "cell_type": "code",
   "execution_count": 13,
   "metadata": {
    "hidden": true
   },
   "outputs": [
    {
     "name": "stderr",
     "output_type": "stream",
     "text": [
      "/home/cguccion/.conda/envs/neufit/lib/python3.5/site-packages/ipykernel_launcher.py:24: FutureWarning: set_axis currently defaults to operating inplace.\n",
      "This will change in a future version of pandas, use inplace=True to avoid this warning.\n"
     ]
    },
    {
     "name": "stdout",
     "output_type": "stream",
     "text": [
      "Running dataset: hutchKrakenCategory:progressors\n",
      "\n",
      "[[Fit Statistics]]\n",
      "    # fitting method   = leastsq\n",
      "    # function evals   = 16\n",
      "    # data points      = 4922\n",
      "    # variables        = 1\n",
      "    chi-square         = 17.3345341\n",
      "    reduced chi-square = 0.00352256\n",
      "    Akaike info crit   = -27801.2436\n",
      "    Bayesian info crit = -27794.7422\n",
      "[[Variables]]\n",
      "    N:  2108 (fixed)\n",
      "    m:  0.26381399 +/- 0.00751938 (2.85%) (init = 0.5)\n",
      "\n",
      " R^2 = 0.77\n",
      "=========================================================\n",
      "\n",
      "Top NonNeutral Microbes\n"
     ]
    },
    {
     "data": {
      "text/html": [
       "<div>\n",
       "<style scoped>\n",
       "    .dataframe tbody tr th:only-of-type {\n",
       "        vertical-align: middle;\n",
       "    }\n",
       "\n",
       "    .dataframe tbody tr th {\n",
       "        vertical-align: top;\n",
       "    }\n",
       "\n",
       "    .dataframe thead th {\n",
       "        text-align: right;\n",
       "    }\n",
       "</style>\n",
       "<table border=\"1\" class=\"dataframe\">\n",
       "  <thead>\n",
       "    <tr style=\"text-align: right;\">\n",
       "      <th></th>\n",
       "      <th>Difference off Neutral Model</th>\n",
       "      <th>Kingdom</th>\n",
       "      <th>Phylum</th>\n",
       "      <th>Class</th>\n",
       "      <th>Order</th>\n",
       "      <th>Family</th>\n",
       "      <th>Genus</th>\n",
       "      <th>Species</th>\n",
       "    </tr>\n",
       "  </thead>\n",
       "  <tbody>\n",
       "    <tr>\n",
       "      <th>5</th>\n",
       "      <td>0.974981</td>\n",
       "      <td>k__Viruses</td>\n",
       "      <td>p__Peploviricota</td>\n",
       "      <td>c__Herviviricetes</td>\n",
       "      <td>o__Herpesvirales</td>\n",
       "      <td>f__Herpesviridae</td>\n",
       "      <td>g__Roseolovirus</td>\n",
       "      <td>s__Human betaherpesvirus 6A</td>\n",
       "    </tr>\n",
       "    <tr>\n",
       "      <th>2</th>\n",
       "      <td>0.847567</td>\n",
       "      <td>k__Bacteria</td>\n",
       "      <td>p__Proteobacteria</td>\n",
       "      <td>c__Gammaproteobacteria</td>\n",
       "      <td>o__Pseudomonadales</td>\n",
       "      <td>f__Pseudomonadaceae</td>\n",
       "      <td>g__Pseudomonas</td>\n",
       "      <td>s__sp. J380</td>\n",
       "    </tr>\n",
       "    <tr>\n",
       "      <th>3</th>\n",
       "      <td>0.768641</td>\n",
       "      <td>k__Bacteria</td>\n",
       "      <td>p__Proteobacteria</td>\n",
       "      <td>c__Epsilonproteobacteria</td>\n",
       "      <td>o__Campylobacterales</td>\n",
       "      <td>f__Helicobacteraceae</td>\n",
       "      <td>g__Helicobacter</td>\n",
       "      <td>s__pylori</td>\n",
       "    </tr>\n",
       "    <tr>\n",
       "      <th>1</th>\n",
       "      <td>0.693801</td>\n",
       "      <td>k__Bacteria</td>\n",
       "      <td>p__Proteobacteria</td>\n",
       "      <td>c__Betaproteobacteria</td>\n",
       "      <td>o__Burkholderiales</td>\n",
       "      <td>f__Comamonadaceae</td>\n",
       "      <td>g__Comamonas</td>\n",
       "      <td>s__thiooxydans</td>\n",
       "    </tr>\n",
       "    <tr>\n",
       "      <th>4</th>\n",
       "      <td>0.637458</td>\n",
       "      <td>k__Bacteria</td>\n",
       "      <td>p__Proteobacteria</td>\n",
       "      <td>c__Gammaproteobacteria</td>\n",
       "      <td>o__Pasteurellales</td>\n",
       "      <td>f__Pasteurellaceae</td>\n",
       "      <td>g__Haemophilus</td>\n",
       "      <td>s__parahaemolyticus</td>\n",
       "    </tr>\n",
       "    <tr>\n",
       "      <th>0</th>\n",
       "      <td>0.617201</td>\n",
       "      <td>k__Bacteria</td>\n",
       "      <td>p__Firmicutes</td>\n",
       "      <td>c__Bacilli</td>\n",
       "      <td>o__Lactobacillales</td>\n",
       "      <td>f__Streptococcaceae</td>\n",
       "      <td>g__Streptococcus</td>\n",
       "      <td>s__vestibularis</td>\n",
       "    </tr>\n",
       "  </tbody>\n",
       "</table>\n",
       "</div>"
      ],
      "text/plain": [
       "   Difference off Neutral Model      Kingdom             Phylum  \\\n",
       "5                      0.974981   k__Viruses   p__Peploviricota   \n",
       "2                      0.847567  k__Bacteria  p__Proteobacteria   \n",
       "3                      0.768641  k__Bacteria  p__Proteobacteria   \n",
       "1                      0.693801  k__Bacteria  p__Proteobacteria   \n",
       "4                      0.637458  k__Bacteria  p__Proteobacteria   \n",
       "0                      0.617201  k__Bacteria      p__Firmicutes   \n",
       "\n",
       "                      Class                 Order                Family  \\\n",
       "5         c__Herviviricetes      o__Herpesvirales      f__Herpesviridae   \n",
       "2    c__Gammaproteobacteria    o__Pseudomonadales   f__Pseudomonadaceae   \n",
       "3  c__Epsilonproteobacteria  o__Campylobacterales  f__Helicobacteraceae   \n",
       "1     c__Betaproteobacteria    o__Burkholderiales     f__Comamonadaceae   \n",
       "4    c__Gammaproteobacteria     o__Pasteurellales    f__Pasteurellaceae   \n",
       "0                c__Bacilli    o__Lactobacillales   f__Streptococcaceae   \n",
       "\n",
       "              Genus                      Species  \n",
       "5   g__Roseolovirus  s__Human betaherpesvirus 6A  \n",
       "2    g__Pseudomonas                  s__sp. J380  \n",
       "3   g__Helicobacter                    s__pylori  \n",
       "1      g__Comamonas               s__thiooxydans  \n",
       "4    g__Haemophilus          s__parahaemolyticus  \n",
       "0  g__Streptococcus              s__vestibularis  "
      ]
     },
     "metadata": {},
     "output_type": "display_data"
    },
    {
     "name": "stdout",
     "output_type": "stream",
     "text": [
      "=========================================================\n",
      "\n"
     ]
    },
    {
     "data": {
      "image/png": "[encoded data removed]",
      "text/plain": [
       "<Figure size 432x288 with 1 Axes>"
      ]
     },
     "metadata": {
      "needs_background": "light"
     },
     "output_type": "display_data"
    }
   ],
   "source": [
    "'''Choose True or False for the following parameters:\n",
    "               norm_graph : True/False : Prints and saves the neutral evolution graph without any coloring\n",
    "               colored_graph : True/False : Prints and saves the neutral evolution graph without any coloring\n",
    "               non_neutral : True/False : Prints and saves the most non-neutral microbes in csv file\n",
    "'''\n",
    "norm_graph = True\n",
    "colored_graph = True\n",
    "non_neutral = True\n",
    "\n",
    "#Run with all possible output files\n",
    "Neufit_Pipeline_Main('progressors', 'hutchKraken', 'P_biome', norm_graph, colored_graph, non_neutral, full_non_neutral = True)"
   ]
  },
  {
   "cell_type": "markdown",
   "metadata": {
    "heading_collapsed": true
   },
   "source": [
    "#### Progressor Data Time Point 1 Only (Patients who went onto progressor to EAC, but were healthy at this timepoint (timepoint 1))"
   ]
  },
  {
   "cell_type": "code",
   "execution_count": 14,
   "metadata": {
    "hidden": true
   },
   "outputs": [
    {
     "name": "stderr",
     "output_type": "stream",
     "text": [
      "/home/cguccion/.conda/envs/neufit/lib/python3.5/site-packages/ipykernel_launcher.py:24: FutureWarning: set_axis currently defaults to operating inplace.\n",
      "This will change in a future version of pandas, use inplace=True to avoid this warning.\n"
     ]
    },
    {
     "name": "stdout",
     "output_type": "stream",
     "text": [
      "Running dataset: hutchKrakenCategory:progressorsT1\n",
      "\n",
      "[[Fit Statistics]]\n",
      "    # fitting method   = leastsq\n",
      "    # function evals   = 15\n",
      "    # data points      = 3999\n",
      "    # variables        = 1\n",
      "    chi-square         = 17.9852171\n",
      "    reduced chi-square = 0.00449855\n",
      "    Akaike info crit   = -21609.5936\n",
      "    Bayesian info crit = -21603.2998\n",
      "[[Variables]]\n",
      "    N:  2108 (fixed)\n",
      "    m:  0.26525056 +/- 0.00869845 (3.28%) (init = 0.5)\n",
      "\n",
      " R^2 = 0.75\n",
      "=========================================================\n",
      "\n",
      "Top NonNeutral Microbes\n"
     ]
    },
    {
     "data": {
      "text/html": [
       "<div>\n",
       "<style scoped>\n",
       "    .dataframe tbody tr th:only-of-type {\n",
       "        vertical-align: middle;\n",
       "    }\n",
       "\n",
       "    .dataframe tbody tr th {\n",
       "        vertical-align: top;\n",
       "    }\n",
       "\n",
       "    .dataframe thead th {\n",
       "        text-align: right;\n",
       "    }\n",
       "</style>\n",
       "<table border=\"1\" class=\"dataframe\">\n",
       "  <thead>\n",
       "    <tr style=\"text-align: right;\">\n",
       "      <th></th>\n",
       "      <th>Difference off Neutral Model</th>\n",
       "      <th>Kingdom</th>\n",
       "      <th>Phylum</th>\n",
       "      <th>Class</th>\n",
       "      <th>Order</th>\n",
       "      <th>Family</th>\n",
       "      <th>Genus</th>\n",
       "      <th>Species</th>\n",
       "    </tr>\n",
       "  </thead>\n",
       "  <tbody>\n",
       "    <tr>\n",
       "      <th>5</th>\n",
       "      <td>0.974458</td>\n",
       "      <td>k__Viruses</td>\n",
       "      <td>p__Peploviricota</td>\n",
       "      <td>c__Herviviricetes</td>\n",
       "      <td>o__Herpesvirales</td>\n",
       "      <td>f__Herpesviridae</td>\n",
       "      <td>g__Roseolovirus</td>\n",
       "      <td>s__Human betaherpesvirus 6A</td>\n",
       "    </tr>\n",
       "    <tr>\n",
       "      <th>6</th>\n",
       "      <td>0.737500</td>\n",
       "      <td>k__Bacteria</td>\n",
       "      <td>p__Proteobacteria</td>\n",
       "      <td>c__Epsilonproteobacteria</td>\n",
       "      <td>o__Campylobacterales</td>\n",
       "      <td>f__Helicobacteraceae</td>\n",
       "      <td>g__Helicobacter</td>\n",
       "      <td>s__pylori</td>\n",
       "    </tr>\n",
       "    <tr>\n",
       "      <th>4</th>\n",
       "      <td>0.735523</td>\n",
       "      <td>k__Bacteria</td>\n",
       "      <td>p__Proteobacteria</td>\n",
       "      <td>c__Gammaproteobacteria</td>\n",
       "      <td>o__Pseudomonadales</td>\n",
       "      <td>f__Pseudomonadaceae</td>\n",
       "      <td>g__Pseudomonas</td>\n",
       "      <td>s__oleovorans</td>\n",
       "    </tr>\n",
       "    <tr>\n",
       "      <th>2</th>\n",
       "      <td>0.708946</td>\n",
       "      <td>k__Bacteria</td>\n",
       "      <td>p__Firmicutes</td>\n",
       "      <td>c__Clostridia</td>\n",
       "      <td>o__Clostridiales</td>\n",
       "      <td>f__Ruminococcaceae</td>\n",
       "      <td>g__Faecalibacterium</td>\n",
       "      <td>s__prausnitzii</td>\n",
       "    </tr>\n",
       "    <tr>\n",
       "      <th>1</th>\n",
       "      <td>0.644570</td>\n",
       "      <td>k__Bacteria</td>\n",
       "      <td>p__Proteobacteria</td>\n",
       "      <td>c__Alphaproteobacteria</td>\n",
       "      <td>o__Rhodobacterales</td>\n",
       "      <td>f__Rhodobacteraceae</td>\n",
       "      <td>g__Paracoccus</td>\n",
       "      <td>s__yeei</td>\n",
       "    </tr>\n",
       "    <tr>\n",
       "      <th>3</th>\n",
       "      <td>0.606642</td>\n",
       "      <td>k__Bacteria</td>\n",
       "      <td>p__Proteobacteria</td>\n",
       "      <td>c__Gammaproteobacteria</td>\n",
       "      <td>o__Pseudomonadales</td>\n",
       "      <td>f__Pseudomonadaceae</td>\n",
       "      <td>g__Pseudomonas</td>\n",
       "      <td>s__sp. phDV1</td>\n",
       "    </tr>\n",
       "    <tr>\n",
       "      <th>0</th>\n",
       "      <td>0.549255</td>\n",
       "      <td>k__Bacteria</td>\n",
       "      <td>p__Firmicutes</td>\n",
       "      <td>c__Bacilli</td>\n",
       "      <td>o__Lactobacillales</td>\n",
       "      <td>f__Lactobacillaceae</td>\n",
       "      <td>g__Lactobacillus</td>\n",
       "      <td>s__amylovorus</td>\n",
       "    </tr>\n",
       "  </tbody>\n",
       "</table>\n",
       "</div>"
      ],
      "text/plain": [
       "   Difference off Neutral Model      Kingdom             Phylum  \\\n",
       "5                      0.974458   k__Viruses   p__Peploviricota   \n",
       "6                      0.737500  k__Bacteria  p__Proteobacteria   \n",
       "4                      0.735523  k__Bacteria  p__Proteobacteria   \n",
       "2                      0.708946  k__Bacteria      p__Firmicutes   \n",
       "1                      0.644570  k__Bacteria  p__Proteobacteria   \n",
       "3                      0.606642  k__Bacteria  p__Proteobacteria   \n",
       "0                      0.549255  k__Bacteria      p__Firmicutes   \n",
       "\n",
       "                      Class                 Order                Family  \\\n",
       "5         c__Herviviricetes      o__Herpesvirales      f__Herpesviridae   \n",
       "6  c__Epsilonproteobacteria  o__Campylobacterales  f__Helicobacteraceae   \n",
       "4    c__Gammaproteobacteria    o__Pseudomonadales   f__Pseudomonadaceae   \n",
       "2             c__Clostridia      o__Clostridiales    f__Ruminococcaceae   \n",
       "1    c__Alphaproteobacteria    o__Rhodobacterales   f__Rhodobacteraceae   \n",
       "3    c__Gammaproteobacteria    o__Pseudomonadales   f__Pseudomonadaceae   \n",
       "0                c__Bacilli    o__Lactobacillales   f__Lactobacillaceae   \n",
       "\n",
       "                 Genus                      Species  \n",
       "5      g__Roseolovirus  s__Human betaherpesvirus 6A  \n",
       "6      g__Helicobacter                    s__pylori  \n",
       "4       g__Pseudomonas                s__oleovorans  \n",
       "2  g__Faecalibacterium               s__prausnitzii  \n",
       "1        g__Paracoccus                      s__yeei  \n",
       "3       g__Pseudomonas                 s__sp. phDV1  \n",
       "0     g__Lactobacillus                s__amylovorus  "
      ]
     },
     "metadata": {},
     "output_type": "display_data"
    },
    {
     "name": "stdout",
     "output_type": "stream",
     "text": [
      "=========================================================\n",
      "\n"
     ]
    },
    {
     "data": {
      "image/png": "[encoded data removed]",
      "text/plain": [
       "<Figure size 432x288 with 1 Axes>"
      ]
     },
     "metadata": {
      "needs_background": "light"
     },
     "output_type": "display_data"
    }
   ],
   "source": [
    "'''Choose True or False for the following parameters:\n",
    "               norm_graph : True/False : Prints and saves the neutral evolution graph without any coloring\n",
    "               colored_graph : True/False : Prints and saves the neutral evolution graph without any coloring\n",
    "               non_neutral : True/False : Prints and saves the most non-neutral microbes in csv file\n",
    "'''\n",
    "norm_graph = True\n",
    "colored_graph = True\n",
    "non_neutral = True\n",
    "\n",
    "#Run with all possible output files\n",
    "Neufit_Pipeline_Main('progressorsT1', 'hutchKraken', 'P_T1_biome', norm_graph, colored_graph, non_neutral, full_non_neutral = True)"
   ]
  },
  {
   "cell_type": "markdown",
   "metadata": {
    "heading_collapsed": true
   },
   "source": [
    "#### Progressor Data Time Point 2 Only (Patients who went onto progressor to EAC, and had cancer at this timepoint (timepoint 2))"
   ]
  },
  {
   "cell_type": "code",
   "execution_count": 15,
   "metadata": {
    "hidden": true
   },
   "outputs": [
    {
     "name": "stderr",
     "output_type": "stream",
     "text": [
      "/home/cguccion/.conda/envs/neufit/lib/python3.5/site-packages/ipykernel_launcher.py:24: FutureWarning: set_axis currently defaults to operating inplace.\n",
      "This will change in a future version of pandas, use inplace=True to avoid this warning.\n"
     ]
    },
    {
     "name": "stdout",
     "output_type": "stream",
     "text": [
      "Running dataset: hutchKrakenCategory:progressorsT2\n",
      "\n",
      "[[Fit Statistics]]\n",
      "    # fitting method   = leastsq\n",
      "    # function evals   = 17\n",
      "    # data points      = 3988\n",
      "    # variables        = 1\n",
      "    chi-square         = 18.8623427\n",
      "    reduced chi-square = 0.00473096\n",
      "    Akaike info crit   = -21349.2640\n",
      "    Bayesian info crit = -21342.9730\n",
      "[[Variables]]\n",
      "    N:  2127 (fixed)\n",
      "    m:  0.27188636 +/- 0.00902171 (3.32%) (init = 0.5)\n",
      "\n",
      " R^2 = 0.75\n",
      "=========================================================\n",
      "\n",
      "Top NonNeutral Microbes\n"
     ]
    },
    {
     "data": {
      "text/html": [
       "<div>\n",
       "<style scoped>\n",
       "    .dataframe tbody tr th:only-of-type {\n",
       "        vertical-align: middle;\n",
       "    }\n",
       "\n",
       "    .dataframe tbody tr th {\n",
       "        vertical-align: top;\n",
       "    }\n",
       "\n",
       "    .dataframe thead th {\n",
       "        text-align: right;\n",
       "    }\n",
       "</style>\n",
       "<table border=\"1\" class=\"dataframe\">\n",
       "  <thead>\n",
       "    <tr style=\"text-align: right;\">\n",
       "      <th></th>\n",
       "      <th>Difference off Neutral Model</th>\n",
       "      <th>Kingdom</th>\n",
       "      <th>Phylum</th>\n",
       "      <th>Class</th>\n",
       "      <th>Order</th>\n",
       "      <th>Family</th>\n",
       "      <th>Genus</th>\n",
       "      <th>Species</th>\n",
       "    </tr>\n",
       "  </thead>\n",
       "  <tbody>\n",
       "    <tr>\n",
       "      <th>8</th>\n",
       "      <td>0.975000</td>\n",
       "      <td>k__Viruses</td>\n",
       "      <td>p__Peploviricota</td>\n",
       "      <td>c__Herviviricetes</td>\n",
       "      <td>o__Herpesvirales</td>\n",
       "      <td>f__Herpesviridae</td>\n",
       "      <td>g__Roseolovirus</td>\n",
       "      <td>s__Human betaherpesvirus 6A</td>\n",
       "    </tr>\n",
       "    <tr>\n",
       "      <th>7</th>\n",
       "      <td>0.934599</td>\n",
       "      <td>k__Bacteria</td>\n",
       "      <td>p__Proteobacteria</td>\n",
       "      <td>c__Gammaproteobacteria</td>\n",
       "      <td>o__Pseudomonadales</td>\n",
       "      <td>f__Pseudomonadaceae</td>\n",
       "      <td>g__Pseudomonas</td>\n",
       "      <td>s__sp. J380</td>\n",
       "    </tr>\n",
       "    <tr>\n",
       "      <th>6</th>\n",
       "      <td>0.834790</td>\n",
       "      <td>k__Bacteria</td>\n",
       "      <td>p__Proteobacteria</td>\n",
       "      <td>c__Betaproteobacteria</td>\n",
       "      <td>o__Burkholderiales</td>\n",
       "      <td>f__Comamonadaceae</td>\n",
       "      <td>g__Comamonas</td>\n",
       "      <td>s__thiooxydans</td>\n",
       "    </tr>\n",
       "    <tr>\n",
       "      <th>5</th>\n",
       "      <td>0.752509</td>\n",
       "      <td>k__Bacteria</td>\n",
       "      <td>p__Firmicutes</td>\n",
       "      <td>c__Bacilli</td>\n",
       "      <td>o__Lactobacillales</td>\n",
       "      <td>f__Streptococcaceae</td>\n",
       "      <td>g__Streptococcus</td>\n",
       "      <td>s__vestibularis</td>\n",
       "    </tr>\n",
       "    <tr>\n",
       "      <th>4</th>\n",
       "      <td>0.732554</td>\n",
       "      <td>k__Bacteria</td>\n",
       "      <td>p__Proteobacteria</td>\n",
       "      <td>c__Epsilonproteobacteria</td>\n",
       "      <td>o__Campylobacterales</td>\n",
       "      <td>f__Helicobacteraceae</td>\n",
       "      <td>g__Helicobacter</td>\n",
       "      <td>s__pylori</td>\n",
       "    </tr>\n",
       "    <tr>\n",
       "      <th>2</th>\n",
       "      <td>0.630468</td>\n",
       "      <td>k__Bacteria</td>\n",
       "      <td>p__Firmicutes</td>\n",
       "      <td>c__Negativicutes</td>\n",
       "      <td>o__Selenomonadales</td>\n",
       "      <td>f__Selenomonadaceae</td>\n",
       "      <td>g__Selenomonas</td>\n",
       "      <td>s__sputigena</td>\n",
       "    </tr>\n",
       "    <tr>\n",
       "      <th>1</th>\n",
       "      <td>0.621452</td>\n",
       "      <td>k__Bacteria</td>\n",
       "      <td>p__Proteobacteria</td>\n",
       "      <td>c__Gammaproteobacteria</td>\n",
       "      <td>o__Pseudomonadales</td>\n",
       "      <td>f__Pseudomonadaceae</td>\n",
       "      <td>g__Pseudomonas</td>\n",
       "      <td>s__sp. MYb193</td>\n",
       "    </tr>\n",
       "    <tr>\n",
       "      <th>9</th>\n",
       "      <td>0.575000</td>\n",
       "      <td>k__Bacteria</td>\n",
       "      <td>p__Proteobacteria</td>\n",
       "      <td>c__Gammaproteobacteria</td>\n",
       "      <td>o__Pasteurellales</td>\n",
       "      <td>f__Pasteurellaceae</td>\n",
       "      <td>g__Haemophilus</td>\n",
       "      <td>s__parahaemolyticus</td>\n",
       "    </tr>\n",
       "    <tr>\n",
       "      <th>0</th>\n",
       "      <td>0.554301</td>\n",
       "      <td>k__Bacteria</td>\n",
       "      <td>p__Actinobacteria</td>\n",
       "      <td>c__Actinobacteria</td>\n",
       "      <td>o__Bifidobacteriales</td>\n",
       "      <td>f__Bifidobacteriaceae</td>\n",
       "      <td>g__Bifidobacterium</td>\n",
       "      <td>s__animalis</td>\n",
       "    </tr>\n",
       "    <tr>\n",
       "      <th>3</th>\n",
       "      <td>0.533661</td>\n",
       "      <td>k__Bacteria</td>\n",
       "      <td>p__Firmicutes</td>\n",
       "      <td>c__Negativicutes</td>\n",
       "      <td>o__Selenomonadales</td>\n",
       "      <td>f__Selenomonadaceae</td>\n",
       "      <td>g__Selenomonas</td>\n",
       "      <td>s__sp. oral taxon 478</td>\n",
       "    </tr>\n",
       "  </tbody>\n",
       "</table>\n",
       "</div>"
      ],
      "text/plain": [
       "   Difference off Neutral Model      Kingdom             Phylum  \\\n",
       "8                      0.975000   k__Viruses   p__Peploviricota   \n",
       "7                      0.934599  k__Bacteria  p__Proteobacteria   \n",
       "6                      0.834790  k__Bacteria  p__Proteobacteria   \n",
       "5                      0.752509  k__Bacteria      p__Firmicutes   \n",
       "4                      0.732554  k__Bacteria  p__Proteobacteria   \n",
       "2                      0.630468  k__Bacteria      p__Firmicutes   \n",
       "1                      0.621452  k__Bacteria  p__Proteobacteria   \n",
       "9                      0.575000  k__Bacteria  p__Proteobacteria   \n",
       "0                      0.554301  k__Bacteria  p__Actinobacteria   \n",
       "3                      0.533661  k__Bacteria      p__Firmicutes   \n",
       "\n",
       "                      Class                 Order                 Family  \\\n",
       "8         c__Herviviricetes      o__Herpesvirales       f__Herpesviridae   \n",
       "7    c__Gammaproteobacteria    o__Pseudomonadales    f__Pseudomonadaceae   \n",
       "6     c__Betaproteobacteria    o__Burkholderiales      f__Comamonadaceae   \n",
       "5                c__Bacilli    o__Lactobacillales    f__Streptococcaceae   \n",
       "4  c__Epsilonproteobacteria  o__Campylobacterales   f__Helicobacteraceae   \n",
       "2          c__Negativicutes    o__Selenomonadales    f__Selenomonadaceae   \n",
       "1    c__Gammaproteobacteria    o__Pseudomonadales    f__Pseudomonadaceae   \n",
       "9    c__Gammaproteobacteria     o__Pasteurellales     f__Pasteurellaceae   \n",
       "0         c__Actinobacteria  o__Bifidobacteriales  f__Bifidobacteriaceae   \n",
       "3          c__Negativicutes    o__Selenomonadales    f__Selenomonadaceae   \n",
       "\n",
       "                Genus                      Species  \n",
       "8     g__Roseolovirus  s__Human betaherpesvirus 6A  \n",
       "7      g__Pseudomonas                  s__sp. J380  \n",
       "6        g__Comamonas               s__thiooxydans  \n",
       "5    g__Streptococcus              s__vestibularis  \n",
       "4     g__Helicobacter                    s__pylori  \n",
       "2      g__Selenomonas                 s__sputigena  \n",
       "1      g__Pseudomonas                s__sp. MYb193  \n",
       "9      g__Haemophilus          s__parahaemolyticus  \n",
       "0  g__Bifidobacterium                  s__animalis  \n",
       "3      g__Selenomonas        s__sp. oral taxon 478  "
      ]
     },
     "metadata": {},
     "output_type": "display_data"
    },
    {
     "name": "stdout",
     "output_type": "stream",
     "text": [
      "=========================================================\n",
      "\n"
     ]
    },
    {
     "data": {
      "image/png": "[encoded data removed]",
      "text/plain": [
       "<Figure size 432x288 with 1 Axes>"
      ]
     },
     "metadata": {
      "needs_background": "light"
     },
     "output_type": "display_data"
    }
   ],
   "source": [
    "'''Choose True or False for the following parameters:\n",
    "               norm_graph : True/False : Prints and saves the neutral evolution graph without any coloring\n",
    "               colored_graph : True/False : Prints and saves the neutral evolution graph without any coloring\n",
    "               non_neutral : True/False : Prints and saves the most non-neutral microbes in csv file\n",
    "'''\n",
    "norm_graph = True\n",
    "colored_graph = True\n",
    "non_neutral = True\n",
    "\n",
    "#Run with all possible output files\n",
    "Neufit_Pipeline_Main('progressorsT2', 'hutchKraken', 'P_T2_biome', norm_graph, colored_graph, non_neutral, full_non_neutral = True)"
   ]
  },
  {
   "cell_type": "markdown",
   "metadata": {
    "heading_collapsed": true
   },
   "source": [
    "#### NonProgressor Data  (Patients who went never progressed to EAC"
   ]
  },
  {
   "cell_type": "code",
   "execution_count": 16,
   "metadata": {
    "hidden": true
   },
   "outputs": [
    {
     "name": "stderr",
     "output_type": "stream",
     "text": [
      "/home/cguccion/.conda/envs/neufit/lib/python3.5/site-packages/ipykernel_launcher.py:24: FutureWarning: set_axis currently defaults to operating inplace.\n",
      "This will change in a future version of pandas, use inplace=True to avoid this warning.\n"
     ]
    },
    {
     "name": "stdout",
     "output_type": "stream",
     "text": [
      "Running dataset: hutchKrakenCategory:nonProgressors\n",
      "\n",
      "[[Fit Statistics]]\n",
      "    # fitting method   = leastsq\n",
      "    # function evals   = 16\n",
      "    # data points      = 4908\n",
      "    # variables        = 1\n",
      "    chi-square         = 13.9790894\n",
      "    reduced chi-square = 0.00284881\n",
      "    Akaike info crit   = -28764.0786\n",
      "    Bayesian info crit = -28757.5800\n",
      "[[Variables]]\n",
      "    N:  2251 (fixed)\n",
      "    m:  0.40075898 +/- 0.01125044 (2.81%) (init = 0.5)\n",
      "\n",
      " R^2 = 0.84\n",
      "=========================================================\n",
      "\n",
      "Top NonNeutral Microbes\n"
     ]
    },
    {
     "data": {
      "text/html": [
       "<div>\n",
       "<style scoped>\n",
       "    .dataframe tbody tr th:only-of-type {\n",
       "        vertical-align: middle;\n",
       "    }\n",
       "\n",
       "    .dataframe tbody tr th {\n",
       "        vertical-align: top;\n",
       "    }\n",
       "\n",
       "    .dataframe thead th {\n",
       "        text-align: right;\n",
       "    }\n",
       "</style>\n",
       "<table border=\"1\" class=\"dataframe\">\n",
       "  <thead>\n",
       "    <tr style=\"text-align: right;\">\n",
       "      <th></th>\n",
       "      <th>Difference off Neutral Model</th>\n",
       "      <th>Kingdom</th>\n",
       "      <th>Phylum</th>\n",
       "      <th>Class</th>\n",
       "      <th>Order</th>\n",
       "      <th>Family</th>\n",
       "      <th>Genus</th>\n",
       "      <th>Species</th>\n",
       "    </tr>\n",
       "  </thead>\n",
       "  <tbody>\n",
       "    <tr>\n",
       "      <th>1</th>\n",
       "      <td>0.955536</td>\n",
       "      <td>k__Viruses</td>\n",
       "      <td>p__Peploviricota</td>\n",
       "      <td>c__Herviviricetes</td>\n",
       "      <td>o__Herpesvirales</td>\n",
       "      <td>f__Herpesviridae</td>\n",
       "      <td>g__Roseolovirus</td>\n",
       "      <td>s__Human betaherpesvirus 6B</td>\n",
       "    </tr>\n",
       "    <tr>\n",
       "      <th>2</th>\n",
       "      <td>0.727777</td>\n",
       "      <td>k__Bacteria</td>\n",
       "      <td>p__Proteobacteria</td>\n",
       "      <td>c__Epsilonproteobacteria</td>\n",
       "      <td>o__Campylobacterales</td>\n",
       "      <td>f__Helicobacteraceae</td>\n",
       "      <td>g__Helicobacter</td>\n",
       "      <td>s__pylori</td>\n",
       "    </tr>\n",
       "    <tr>\n",
       "      <th>3</th>\n",
       "      <td>0.661111</td>\n",
       "      <td>k__Bacteria</td>\n",
       "      <td>p__Proteobacteria</td>\n",
       "      <td>c__Gammaproteobacteria</td>\n",
       "      <td>o__Pasteurellales</td>\n",
       "      <td>f__Pasteurellaceae</td>\n",
       "      <td>g__Haemophilus</td>\n",
       "      <td>s__parahaemolyticus</td>\n",
       "    </tr>\n",
       "    <tr>\n",
       "      <th>0</th>\n",
       "      <td>0.520290</td>\n",
       "      <td>k__Bacteria</td>\n",
       "      <td>p__Bacteroidetes</td>\n",
       "      <td>c__Bacteroidia</td>\n",
       "      <td>o__Bacteroidales</td>\n",
       "      <td>f__Tannerellaceae</td>\n",
       "      <td>g__Tannerella</td>\n",
       "      <td>s__sp. oral taxon HOT-286</td>\n",
       "    </tr>\n",
       "  </tbody>\n",
       "</table>\n",
       "</div>"
      ],
      "text/plain": [
       "   Difference off Neutral Model      Kingdom             Phylum  \\\n",
       "1                      0.955536   k__Viruses   p__Peploviricota   \n",
       "2                      0.727777  k__Bacteria  p__Proteobacteria   \n",
       "3                      0.661111  k__Bacteria  p__Proteobacteria   \n",
       "0                      0.520290  k__Bacteria   p__Bacteroidetes   \n",
       "\n",
       "                      Class                 Order                Family  \\\n",
       "1         c__Herviviricetes      o__Herpesvirales      f__Herpesviridae   \n",
       "2  c__Epsilonproteobacteria  o__Campylobacterales  f__Helicobacteraceae   \n",
       "3    c__Gammaproteobacteria     o__Pasteurellales    f__Pasteurellaceae   \n",
       "0            c__Bacteroidia      o__Bacteroidales     f__Tannerellaceae   \n",
       "\n",
       "             Genus                      Species  \n",
       "1  g__Roseolovirus  s__Human betaherpesvirus 6B  \n",
       "2  g__Helicobacter                    s__pylori  \n",
       "3   g__Haemophilus          s__parahaemolyticus  \n",
       "0    g__Tannerella    s__sp. oral taxon HOT-286  "
      ]
     },
     "metadata": {},
     "output_type": "display_data"
    },
    {
     "name": "stdout",
     "output_type": "stream",
     "text": [
      "=========================================================\n",
      "\n"
     ]
    },
    {
     "data": {
      "image/png": "[encoded data removed]",
      "text/plain": [
       "<Figure size 432x288 with 1 Axes>"
      ]
     },
     "metadata": {
      "needs_background": "light"
     },
     "output_type": "display_data"
    }
   ],
   "source": [
    "'''Choose True or False for the following parameters:\n",
    "               norm_graph : True/False : Prints and saves the neutral evolution graph without any coloring\n",
    "               colored_graph : True/False : Prints and saves the neutral evolution graph without any coloring\n",
    "               non_neutral : True/False : Prints and saves the most non-neutral microbes in csv file\n",
    "'''\n",
    "norm_graph = True\n",
    "colored_graph = True\n",
    "non_neutral = True\n",
    "\n",
    "#Run with all possible output files\n",
    "Neufit_Pipeline_Main('nonProgressors', 'hutchKraken', 'NP_biome', norm_graph, colored_graph, non_neutral, full_non_neutral = True)"
   ]
  },
  {
   "cell_type": "markdown",
   "metadata": {
    "heading_collapsed": true
   },
   "source": [
    "#### NonProgressor Data Time Point 1 Only (Patients who did not progress to EAC ever (timepoint 1)"
   ]
  },
  {
   "cell_type": "code",
   "execution_count": 17,
   "metadata": {
    "hidden": true
   },
   "outputs": [
    {
     "name": "stderr",
     "output_type": "stream",
     "text": [
      "/home/cguccion/.conda/envs/neufit/lib/python3.5/site-packages/ipykernel_launcher.py:24: FutureWarning: set_axis currently defaults to operating inplace.\n",
      "This will change in a future version of pandas, use inplace=True to avoid this warning.\n"
     ]
    },
    {
     "name": "stdout",
     "output_type": "stream",
     "text": [
      "Running dataset: hutchKrakenCategory:nonProgressorsT1\n",
      "\n",
      "[[Fit Statistics]]\n",
      "    # fitting method   = leastsq\n",
      "    # function evals   = 20\n",
      "    # data points      = 3965\n",
      "    # variables        = 1\n",
      "    chi-square         = 14.8384935\n",
      "    reduced chi-square = 0.00374331\n",
      "    Akaike info crit   = -22154.5644\n",
      "    Bayesian info crit = -22148.2791\n",
      "[[Variables]]\n",
      "    N:  2401 (fixed)\n",
      "    m:  0.44967032 +/- 0.01498043 (3.33%) (init = 0.5)\n",
      "\n",
      " R^2 = 0.83\n",
      "=========================================================\n",
      "\n",
      "Top NonNeutral Microbes\n"
     ]
    },
    {
     "data": {
      "text/html": [
       "<div>\n",
       "<style scoped>\n",
       "    .dataframe tbody tr th:only-of-type {\n",
       "        vertical-align: middle;\n",
       "    }\n",
       "\n",
       "    .dataframe tbody tr th {\n",
       "        vertical-align: top;\n",
       "    }\n",
       "\n",
       "    .dataframe thead th {\n",
       "        text-align: right;\n",
       "    }\n",
       "</style>\n",
       "<table border=\"1\" class=\"dataframe\">\n",
       "  <thead>\n",
       "    <tr style=\"text-align: right;\">\n",
       "      <th></th>\n",
       "      <th>Difference off Neutral Model</th>\n",
       "      <th>Kingdom</th>\n",
       "      <th>Phylum</th>\n",
       "      <th>Class</th>\n",
       "      <th>Order</th>\n",
       "      <th>Family</th>\n",
       "      <th>Genus</th>\n",
       "      <th>Species</th>\n",
       "    </tr>\n",
       "  </thead>\n",
       "  <tbody>\n",
       "    <tr>\n",
       "      <th>1</th>\n",
       "      <td>0.962500</td>\n",
       "      <td>k__Viruses</td>\n",
       "      <td>p__Peploviricota</td>\n",
       "      <td>c__Herviviricetes</td>\n",
       "      <td>o__Herpesvirales</td>\n",
       "      <td>f__Herpesviridae</td>\n",
       "      <td>g__Roseolovirus</td>\n",
       "      <td>s__Human betaherpesvirus 6B</td>\n",
       "    </tr>\n",
       "    <tr>\n",
       "      <th>2</th>\n",
       "      <td>0.700000</td>\n",
       "      <td>k__Bacteria</td>\n",
       "      <td>p__Proteobacteria</td>\n",
       "      <td>c__Epsilonproteobacteria</td>\n",
       "      <td>o__Campylobacterales</td>\n",
       "      <td>f__Helicobacteraceae</td>\n",
       "      <td>g__Helicobacter</td>\n",
       "      <td>s__pylori</td>\n",
       "    </tr>\n",
       "    <tr>\n",
       "      <th>0</th>\n",
       "      <td>0.637499</td>\n",
       "      <td>k__Bacteria</td>\n",
       "      <td>p__Proteobacteria</td>\n",
       "      <td>c__Gammaproteobacteria</td>\n",
       "      <td>o__Pasteurellales</td>\n",
       "      <td>f__Pasteurellaceae</td>\n",
       "      <td>g__Haemophilus</td>\n",
       "      <td>s__parahaemolyticus</td>\n",
       "    </tr>\n",
       "  </tbody>\n",
       "</table>\n",
       "</div>"
      ],
      "text/plain": [
       "   Difference off Neutral Model      Kingdom             Phylum  \\\n",
       "1                      0.962500   k__Viruses   p__Peploviricota   \n",
       "2                      0.700000  k__Bacteria  p__Proteobacteria   \n",
       "0                      0.637499  k__Bacteria  p__Proteobacteria   \n",
       "\n",
       "                      Class                 Order                Family  \\\n",
       "1         c__Herviviricetes      o__Herpesvirales      f__Herpesviridae   \n",
       "2  c__Epsilonproteobacteria  o__Campylobacterales  f__Helicobacteraceae   \n",
       "0    c__Gammaproteobacteria     o__Pasteurellales    f__Pasteurellaceae   \n",
       "\n",
       "             Genus                      Species  \n",
       "1  g__Roseolovirus  s__Human betaherpesvirus 6B  \n",
       "2  g__Helicobacter                    s__pylori  \n",
       "0   g__Haemophilus          s__parahaemolyticus  "
      ]
     },
     "metadata": {},
     "output_type": "display_data"
    },
    {
     "name": "stdout",
     "output_type": "stream",
     "text": [
      "=========================================================\n",
      "\n"
     ]
    },
    {
     "data": {
      "image/png": "[encoded data removed]",
      "text/plain": [
       "<Figure size 432x288 with 1 Axes>"
      ]
     },
     "metadata": {
      "needs_background": "light"
     },
     "output_type": "display_data"
    }
   ],
   "source": [
    "'''Choose True or False for the following parameters:\n",
    "               norm_graph : True/False : Prints and saves the neutral evolution graph without any coloring\n",
    "               colored_graph : True/False : Prints and saves the neutral evolution graph without any coloring\n",
    "               non_neutral : True/False : Prints and saves the most non-neutral microbes in csv file\n",
    "'''\n",
    "norm_graph = True\n",
    "colored_graph = True\n",
    "non_neutral = True\n",
    "\n",
    "#Run with all possible output files\n",
    "Neufit_Pipeline_Main('nonProgressorsT1', 'hutchKraken', 'NP_T1_biome', norm_graph, colored_graph, non_neutral, full_non_neutral = True)"
   ]
  },
  {
   "cell_type": "markdown",
   "metadata": {
    "heading_collapsed": true
   },
   "source": [
    "#### NonProgressor Data Time Point 2 Only (Patients who did not progress to EAC ever, now at thier second check (timepoint 2)"
   ]
  },
  {
   "cell_type": "code",
   "execution_count": 18,
   "metadata": {
    "hidden": true,
    "scrolled": true
   },
   "outputs": [
    {
     "name": "stderr",
     "output_type": "stream",
     "text": [
      "/home/cguccion/.conda/envs/neufit/lib/python3.5/site-packages/ipykernel_launcher.py:24: FutureWarning: set_axis currently defaults to operating inplace.\n",
      "This will change in a future version of pandas, use inplace=True to avoid this warning.\n"
     ]
    },
    {
     "name": "stdout",
     "output_type": "stream",
     "text": [
      "Running dataset: hutchKrakenCategory:nonProgressorsT2\n",
      "\n",
      "[[Fit Statistics]]\n",
      "    # fitting method   = leastsq\n",
      "    # function evals   = 14\n",
      "    # data points      = 3905\n",
      "    # variables        = 1\n",
      "    chi-square         = 15.6939701\n",
      "    reduced chi-square = 0.00401997\n",
      "    Akaike info crit   = -21540.8560\n",
      "    Bayesian info crit = -21534.5860\n",
      "[[Variables]]\n",
      "    N:  2251 (fixed)\n",
      "    m:  0.35687991 +/- 0.01136385 (3.18%) (init = 0.5)\n",
      "\n",
      " R^2 = 0.82\n",
      "=========================================================\n",
      "\n",
      "Top NonNeutral Microbes\n"
     ]
    },
    {
     "data": {
      "text/html": [
       "<div>\n",
       "<style scoped>\n",
       "    .dataframe tbody tr th:only-of-type {\n",
       "        vertical-align: middle;\n",
       "    }\n",
       "\n",
       "    .dataframe tbody tr th {\n",
       "        vertical-align: top;\n",
       "    }\n",
       "\n",
       "    .dataframe thead th {\n",
       "        text-align: right;\n",
       "    }\n",
       "</style>\n",
       "<table border=\"1\" class=\"dataframe\">\n",
       "  <thead>\n",
       "    <tr style=\"text-align: right;\">\n",
       "      <th></th>\n",
       "      <th>Difference off Neutral Model</th>\n",
       "      <th>Kingdom</th>\n",
       "      <th>Phylum</th>\n",
       "      <th>Class</th>\n",
       "      <th>Order</th>\n",
       "      <th>Family</th>\n",
       "      <th>Genus</th>\n",
       "      <th>Species</th>\n",
       "    </tr>\n",
       "  </thead>\n",
       "  <tbody>\n",
       "    <tr>\n",
       "      <th>0</th>\n",
       "      <td>0.925510</td>\n",
       "      <td>k__Viruses</td>\n",
       "      <td>p__Peploviricota</td>\n",
       "      <td>c__Herviviricetes</td>\n",
       "      <td>o__Herpesvirales</td>\n",
       "      <td>f__Herpesviridae</td>\n",
       "      <td>g__Roseolovirus</td>\n",
       "      <td>s__Human betaherpesvirus 6B</td>\n",
       "    </tr>\n",
       "    <tr>\n",
       "      <th>3</th>\n",
       "      <td>0.712500</td>\n",
       "      <td>k__Bacteria</td>\n",
       "      <td>p__Proteobacteria</td>\n",
       "      <td>c__Gammaproteobacteria</td>\n",
       "      <td>o__Pasteurellales</td>\n",
       "      <td>f__Pasteurellaceae</td>\n",
       "      <td>g__Haemophilus</td>\n",
       "      <td>s__parahaemolyticus</td>\n",
       "    </tr>\n",
       "    <tr>\n",
       "      <th>1</th>\n",
       "      <td>0.708657</td>\n",
       "      <td>k__Bacteria</td>\n",
       "      <td>p__Proteobacteria</td>\n",
       "      <td>c__Epsilonproteobacteria</td>\n",
       "      <td>o__Campylobacterales</td>\n",
       "      <td>f__Helicobacteraceae</td>\n",
       "      <td>g__Helicobacter</td>\n",
       "      <td>s__pylori</td>\n",
       "    </tr>\n",
       "    <tr>\n",
       "      <th>2</th>\n",
       "      <td>0.561282</td>\n",
       "      <td>k__Bacteria</td>\n",
       "      <td>p__Bacteroidetes</td>\n",
       "      <td>c__Bacteroidia</td>\n",
       "      <td>o__Bacteroidales</td>\n",
       "      <td>f__Tannerellaceae</td>\n",
       "      <td>g__Tannerella</td>\n",
       "      <td>s__sp. oral taxon HOT-286</td>\n",
       "    </tr>\n",
       "  </tbody>\n",
       "</table>\n",
       "</div>"
      ],
      "text/plain": [
       "   Difference off Neutral Model      Kingdom             Phylum  \\\n",
       "0                      0.925510   k__Viruses   p__Peploviricota   \n",
       "3                      0.712500  k__Bacteria  p__Proteobacteria   \n",
       "1                      0.708657  k__Bacteria  p__Proteobacteria   \n",
       "2                      0.561282  k__Bacteria   p__Bacteroidetes   \n",
       "\n",
       "                      Class                 Order                Family  \\\n",
       "0         c__Herviviricetes      o__Herpesvirales      f__Herpesviridae   \n",
       "3    c__Gammaproteobacteria     o__Pasteurellales    f__Pasteurellaceae   \n",
       "1  c__Epsilonproteobacteria  o__Campylobacterales  f__Helicobacteraceae   \n",
       "2            c__Bacteroidia      o__Bacteroidales     f__Tannerellaceae   \n",
       "\n",
       "             Genus                      Species  \n",
       "0  g__Roseolovirus  s__Human betaherpesvirus 6B  \n",
       "3   g__Haemophilus          s__parahaemolyticus  \n",
       "1  g__Helicobacter                    s__pylori  \n",
       "2    g__Tannerella    s__sp. oral taxon HOT-286  "
      ]
     },
     "metadata": {},
     "output_type": "display_data"
    },
    {
     "name": "stdout",
     "output_type": "stream",
     "text": [
      "=========================================================\n",
      "\n"
     ]
    },
    {
     "data": {
      "image/png": "[encoded data removed]",
      "text/plain": [
       "<Figure size 432x288 with 1 Axes>"
      ]
     },
     "metadata": {
      "needs_background": "light"
     },
     "output_type": "display_data"
    }
   ],
   "source": [
    "'''Choose True or False for the following parameters:\n",
    "               norm_graph : True/False : Prints and saves the neutral evolution graph without any coloring\n",
    "               colored_graph : True/False : Prints and saves the neutral evolution graph without any coloring\n",
    "               non_neutral : True/False : Prints and saves the most non-neutral microbes in csv file\n",
    "'''\n",
    "norm_graph = True\n",
    "colored_graph = True\n",
    "non_neutral = True\n",
    "\n",
    "#Run with all possible output files\n",
    "Neufit_Pipeline_Main('nonProgressorsT2', 'hutchKraken', 'NP_T2_biome', norm_graph, colored_graph, non_neutral, full_non_neutral = True)"
   ]
  },
  {
   "cell_type": "markdown",
   "metadata": {},
   "source": [
    "### TCGA WGS Esophagus / Head and Neck Cancer Dataset: Greg Poore"
   ]
  },
  {
   "cell_type": "markdown",
   "metadata": {},
   "source": [
    "##### Dateset Info"
   ]
  },
  {
   "cell_type": "markdown",
   "metadata": {
    "heading_collapsed": true
   },
   "source": [
    "#### Esophagus Normal (Paired Tissue Normal)"
   ]
  },
  {
   "cell_type": "code",
   "execution_count": 24,
   "metadata": {
    "hidden": true
   },
   "outputs": [
    {
     "name": "stdout",
     "output_type": "stream",
     "text": [
      "Running dataset: TCGA_WGSCategory:esophagus_normal\n",
      "\n",
      "[[Fit Statistics]]\n",
      "    # fitting method   = leastsq\n",
      "    # function evals   = 35\n",
      "    # data points      = 1223\n",
      "    # variables        = 1\n",
      "    chi-square         = 12.2214902\n",
      "    reduced chi-square = 0.01000122\n",
      "    Akaike info crit   = -5630.97441\n",
      "    Bayesian info crit = -5625.86535\n",
      "[[Variables]]\n",
      "    N:  3195 (fixed)\n",
      "    m:  0.01731002 +/- 8.9785e-04 (5.19%) (init = 0.5)\n",
      "\n",
      " R^2 = 0.39\n",
      "=========================================================\n",
      "\n",
      "Top NonNeutral Microbes\n"
     ]
    },
    {
     "data": {
      "text/html": [
       "<div>\n",
       "<style scoped>\n",
       "    .dataframe tbody tr th:only-of-type {\n",
       "        vertical-align: middle;\n",
       "    }\n",
       "\n",
       "    .dataframe tbody tr th {\n",
       "        vertical-align: top;\n",
       "    }\n",
       "\n",
       "    .dataframe thead th {\n",
       "        text-align: right;\n",
       "    }\n",
       "</style>\n",
       "<table border=\"1\" class=\"dataframe\">\n",
       "  <thead>\n",
       "    <tr style=\"text-align: right;\">\n",
       "      <th></th>\n",
       "      <th>Difference off Neutral Model</th>\n",
       "      <th>Kingdom</th>\n",
       "      <th>Phylum</th>\n",
       "      <th>Class</th>\n",
       "      <th>Order</th>\n",
       "      <th>Family</th>\n",
       "      <th>Genus</th>\n",
       "      <th>Species</th>\n",
       "    </tr>\n",
       "  </thead>\n",
       "  <tbody>\n",
       "    <tr>\n",
       "      <th>4</th>\n",
       "      <td>0.820826</td>\n",
       "      <td>k__Bacteria</td>\n",
       "      <td>p__Proteobacteria</td>\n",
       "      <td>c__Alphaproteobacteria</td>\n",
       "      <td>o__Rhizobiales</td>\n",
       "      <td>f__Bradyrhizobiaceae</td>\n",
       "      <td>g__Bradyrhizobium</td>\n",
       "      <td>s__Bradyrhizobium elkanii</td>\n",
       "    </tr>\n",
       "    <tr>\n",
       "      <th>3</th>\n",
       "      <td>0.713125</td>\n",
       "      <td>k__Bacteria</td>\n",
       "      <td>p__Actinobacteria</td>\n",
       "      <td>c__Actinobacteria</td>\n",
       "      <td>o__Propionibacteriales</td>\n",
       "      <td>f__Propionibacteriaceae</td>\n",
       "      <td>g__Cutibacterium</td>\n",
       "      <td>s__Cutibacterium acnes</td>\n",
       "    </tr>\n",
       "    <tr>\n",
       "      <th>5</th>\n",
       "      <td>0.696056</td>\n",
       "      <td>k__Bacteria</td>\n",
       "      <td>p__Actinobacteria</td>\n",
       "      <td>c__Actinobacteria</td>\n",
       "      <td>o__Propionibacteriales</td>\n",
       "      <td>f__Propionibacteriaceae</td>\n",
       "      <td>g__Cutibacterium</td>\n",
       "      <td>s__Cutibacterium acnes</td>\n",
       "    </tr>\n",
       "    <tr>\n",
       "      <th>2</th>\n",
       "      <td>0.688347</td>\n",
       "      <td>k__Bacteria</td>\n",
       "      <td>p__Actinobacteria</td>\n",
       "      <td>c__Actinobacteria</td>\n",
       "      <td>o__Propionibacteriales</td>\n",
       "      <td>f__Propionibacteriaceae</td>\n",
       "      <td>g__Cutibacterium</td>\n",
       "      <td>s__Cutibacterium acnes</td>\n",
       "    </tr>\n",
       "    <tr>\n",
       "      <th>1</th>\n",
       "      <td>0.676576</td>\n",
       "      <td>k__Bacteria</td>\n",
       "      <td>p__Proteobacteria</td>\n",
       "      <td>c__Alphaproteobacteria</td>\n",
       "      <td>o__Sphingomonadales</td>\n",
       "      <td>f__Sphingomonadaceae</td>\n",
       "      <td>g__Sphingomonas</td>\n",
       "      <td>s__Sphingomonas taxi</td>\n",
       "    </tr>\n",
       "    <tr>\n",
       "      <th>6</th>\n",
       "      <td>0.629099</td>\n",
       "      <td>k__Bacteria</td>\n",
       "      <td>p__Actinobacteria</td>\n",
       "      <td>c__Actinobacteria</td>\n",
       "      <td>o__Propionibacteriales</td>\n",
       "      <td>f__Propionibacteriaceae</td>\n",
       "      <td>g__Cutibacterium</td>\n",
       "      <td>s__Cutibacterium acnes</td>\n",
       "    </tr>\n",
       "    <tr>\n",
       "      <th>0</th>\n",
       "      <td>0.567437</td>\n",
       "      <td>k__Bacteria</td>\n",
       "      <td>p__Proteobacteria</td>\n",
       "      <td>c__Betaproteobacteria</td>\n",
       "      <td>o__Burkholderiales</td>\n",
       "      <td>f__Alcaligenaceae</td>\n",
       "      <td>g__Orrella</td>\n",
       "      <td>s__Orrella dioscoreae</td>\n",
       "    </tr>\n",
       "  </tbody>\n",
       "</table>\n",
       "</div>"
      ],
      "text/plain": [
       "   Difference off Neutral Model      Kingdom             Phylum  \\\n",
       "4                      0.820826  k__Bacteria  p__Proteobacteria   \n",
       "3                      0.713125  k__Bacteria  p__Actinobacteria   \n",
       "5                      0.696056  k__Bacteria  p__Actinobacteria   \n",
       "2                      0.688347  k__Bacteria  p__Actinobacteria   \n",
       "1                      0.676576  k__Bacteria  p__Proteobacteria   \n",
       "6                      0.629099  k__Bacteria  p__Actinobacteria   \n",
       "0                      0.567437  k__Bacteria  p__Proteobacteria   \n",
       "\n",
       "                    Class                   Order                   Family  \\\n",
       "4  c__Alphaproteobacteria          o__Rhizobiales     f__Bradyrhizobiaceae   \n",
       "3       c__Actinobacteria  o__Propionibacteriales  f__Propionibacteriaceae   \n",
       "5       c__Actinobacteria  o__Propionibacteriales  f__Propionibacteriaceae   \n",
       "2       c__Actinobacteria  o__Propionibacteriales  f__Propionibacteriaceae   \n",
       "1  c__Alphaproteobacteria     o__Sphingomonadales     f__Sphingomonadaceae   \n",
       "6       c__Actinobacteria  o__Propionibacteriales  f__Propionibacteriaceae   \n",
       "0   c__Betaproteobacteria      o__Burkholderiales        f__Alcaligenaceae   \n",
       "\n",
       "               Genus                    Species  \n",
       "4  g__Bradyrhizobium  s__Bradyrhizobium elkanii  \n",
       "3   g__Cutibacterium     s__Cutibacterium acnes  \n",
       "5   g__Cutibacterium     s__Cutibacterium acnes  \n",
       "2   g__Cutibacterium     s__Cutibacterium acnes  \n",
       "1    g__Sphingomonas       s__Sphingomonas taxi  \n",
       "6   g__Cutibacterium     s__Cutibacterium acnes  \n",
       "0         g__Orrella      s__Orrella dioscoreae  "
      ]
     },
     "metadata": {},
     "output_type": "display_data"
    },
    {
     "name": "stdout",
     "output_type": "stream",
     "text": [
      "=========================================================\n",
      "\n"
     ]
    },
    {
     "data": {
      "image/png": "[encoded data removed]",
      "text/plain": [
       "<Figure size 432x288 with 1 Axes>"
      ]
     },
     "metadata": {
      "needs_background": "light"
     },
     "output_type": "display_data"
    }
   ],
   "source": [
    "'''Choose True or False for the following parameters:\n",
    "               norm_graph : True/False : Prints and saves the neutral evolution graph without any coloring\n",
    "               colored_graph : True/False : Prints and saves the neutral evolution graph without any coloring\n",
    "               non_neutral : True/False : Prints and saves the most non-neutral microbes in csv file\n",
    "'''\n",
    "norm_graph = True\n",
    "colored_graph = True\n",
    "non_neutral = True\n",
    "\n",
    "#Options: S1: normal/cancer; S2:e (esophgous) / hn (head and neck)\n",
    "\n",
    "#Run with no output files\n",
    "#Neufit_Pipeline_Main('normal', 'TCGA_WGS', 'e', norm_graph, colored_graph, non_neutral, non_save = True)\n",
    "\n",
    "#Run with all possible output files\n",
    "Neufit_Pipeline_Main('normal', 'TCGA_WGS', 'e', norm_graph, colored_graph, non_neutral, full_non_neutral = True)\n"
   ]
  },
  {
   "cell_type": "markdown",
   "metadata": {
    "heading_collapsed": true
   },
   "source": [
    "#### Esophagus Cancer"
   ]
  },
  {
   "cell_type": "code",
   "execution_count": 25,
   "metadata": {
    "hidden": true
   },
   "outputs": [
    {
     "name": "stdout",
     "output_type": "stream",
     "text": [
      "Running dataset: TCGA_WGSCategory:esophagus_cancer\n",
      "\n",
      "[[Fit Statistics]]\n",
      "    # fitting method   = leastsq\n",
      "    # function evals   = 23\n",
      "    # data points      = 2105\n",
      "    # variables        = 1\n",
      "    chi-square         = 10.8841622\n",
      "    reduced chi-square = 0.00517308\n",
      "    Akaike info crit   = -11080.3241\n",
      "    Bayesian info crit = -11074.6720\n",
      "[[Variables]]\n",
      "    N:  3530 (fixed)\n",
      "    m:  0.01188954 +/- 4.4364e-04 (3.73%) (init = 0.5)\n",
      "\n",
      " R^2 = 0.55\n",
      "=========================================================\n",
      "\n",
      "Top NonNeutral Microbes\n"
     ]
    },
    {
     "data": {
      "text/html": [
       "<div>\n",
       "<style scoped>\n",
       "    .dataframe tbody tr th:only-of-type {\n",
       "        vertical-align: middle;\n",
       "    }\n",
       "\n",
       "    .dataframe tbody tr th {\n",
       "        vertical-align: top;\n",
       "    }\n",
       "\n",
       "    .dataframe thead th {\n",
       "        text-align: right;\n",
       "    }\n",
       "</style>\n",
       "<table border=\"1\" class=\"dataframe\">\n",
       "  <thead>\n",
       "    <tr style=\"text-align: right;\">\n",
       "      <th></th>\n",
       "      <th>Difference off Neutral Model</th>\n",
       "      <th>Kingdom</th>\n",
       "      <th>Phylum</th>\n",
       "      <th>Class</th>\n",
       "      <th>Order</th>\n",
       "      <th>Family</th>\n",
       "      <th>Genus</th>\n",
       "      <th>Species</th>\n",
       "    </tr>\n",
       "  </thead>\n",
       "  <tbody>\n",
       "    <tr>\n",
       "      <th>3</th>\n",
       "      <td>0.637588</td>\n",
       "      <td>k__Bacteria</td>\n",
       "      <td>p__Proteobacteria</td>\n",
       "      <td>c__Alphaproteobacteria</td>\n",
       "      <td>o__Rhizobiales</td>\n",
       "      <td>f__Bradyrhizobiaceae</td>\n",
       "      <td>g__Bradyrhizobium</td>\n",
       "      <td>s__Bradyrhizobium elkanii</td>\n",
       "    </tr>\n",
       "    <tr>\n",
       "      <th>4</th>\n",
       "      <td>0.571380</td>\n",
       "      <td>k__Bacteria</td>\n",
       "      <td>p__Spirochaetes</td>\n",
       "      <td>c__Spirochaetia</td>\n",
       "      <td>o__Spirochaetales</td>\n",
       "      <td>f__Spirochaetaceae</td>\n",
       "      <td>g__Treponema</td>\n",
       "      <td>s__Treponema denticola</td>\n",
       "    </tr>\n",
       "    <tr>\n",
       "      <th>0</th>\n",
       "      <td>0.571272</td>\n",
       "      <td>k__Bacteria</td>\n",
       "      <td>p__Bacteroidetes</td>\n",
       "      <td>c__Bacteroidia</td>\n",
       "      <td>o__Bacteroidales</td>\n",
       "      <td>f__Porphyromonadaceae</td>\n",
       "      <td>g__Sanguibacteroides</td>\n",
       "      <td>s__Sanguibacteroides justesenii</td>\n",
       "    </tr>\n",
       "    <tr>\n",
       "      <th>2</th>\n",
       "      <td>0.520151</td>\n",
       "      <td>k__Bacteria</td>\n",
       "      <td>p__Proteobacteria</td>\n",
       "      <td>c__Alphaproteobacteria</td>\n",
       "      <td>o__Sphingomonadales</td>\n",
       "      <td>f__Sphingomonadaceae</td>\n",
       "      <td>g__Sphingomonas</td>\n",
       "      <td>s__Sphingomonas taxi</td>\n",
       "    </tr>\n",
       "    <tr>\n",
       "      <th>1</th>\n",
       "      <td>0.503718</td>\n",
       "      <td>k__Bacteria</td>\n",
       "      <td>p__Firmicutes</td>\n",
       "      <td>c__Erysipelotrichia</td>\n",
       "      <td>o__Erysipelotrichales</td>\n",
       "      <td>f__Erysipelotrichaceae</td>\n",
       "      <td>g__Faecalitalea</td>\n",
       "      <td>s__Faecalitalea cylindroides</td>\n",
       "    </tr>\n",
       "  </tbody>\n",
       "</table>\n",
       "</div>"
      ],
      "text/plain": [
       "   Difference off Neutral Model      Kingdom             Phylum  \\\n",
       "3                      0.637588  k__Bacteria  p__Proteobacteria   \n",
       "4                      0.571380  k__Bacteria    p__Spirochaetes   \n",
       "0                      0.571272  k__Bacteria   p__Bacteroidetes   \n",
       "2                      0.520151  k__Bacteria  p__Proteobacteria   \n",
       "1                      0.503718  k__Bacteria      p__Firmicutes   \n",
       "\n",
       "                    Class                  Order                  Family  \\\n",
       "3  c__Alphaproteobacteria         o__Rhizobiales    f__Bradyrhizobiaceae   \n",
       "4         c__Spirochaetia      o__Spirochaetales      f__Spirochaetaceae   \n",
       "0          c__Bacteroidia       o__Bacteroidales   f__Porphyromonadaceae   \n",
       "2  c__Alphaproteobacteria    o__Sphingomonadales    f__Sphingomonadaceae   \n",
       "1     c__Erysipelotrichia  o__Erysipelotrichales  f__Erysipelotrichaceae   \n",
       "\n",
       "                  Genus                          Species  \n",
       "3     g__Bradyrhizobium        s__Bradyrhizobium elkanii  \n",
       "4          g__Treponema           s__Treponema denticola  \n",
       "0  g__Sanguibacteroides  s__Sanguibacteroides justesenii  \n",
       "2       g__Sphingomonas             s__Sphingomonas taxi  \n",
       "1       g__Faecalitalea     s__Faecalitalea cylindroides  "
      ]
     },
     "metadata": {},
     "output_type": "display_data"
    },
    {
     "name": "stdout",
     "output_type": "stream",
     "text": [
      "=========================================================\n",
      "\n"
     ]
    },
    {
     "data": {
      "image/png": "[encoded data removed]",
      "text/plain": [
       "<Figure size 432x288 with 1 Axes>"
      ]
     },
     "metadata": {
      "needs_background": "light"
     },
     "output_type": "display_data"
    }
   ],
   "source": [
    "'''Choose True or False for the following parameters:\n",
    "               norm_graph : True/False : Prints and saves the neutral evolution graph without any coloring\n",
    "               colored_graph : True/False : Prints and saves the neutral evolution graph without any coloring\n",
    "               non_neutral : True/False : Prints and saves the most non-neutral microbes in csv file\n",
    "'''\n",
    "norm_graph = True\n",
    "colored_graph = True\n",
    "non_neutral = True\n",
    "#Options: S1: normal/cancer; S2:e (esophgous) / hn (head and neck)\n",
    "\n",
    "#Run with all possible output files\n",
    "Neufit_Pipeline_Main('cancer', 'TCGA_WGS', 'e', norm_graph, colored_graph, non_neutral, full_non_neutral = True)"
   ]
  },
  {
   "cell_type": "markdown",
   "metadata": {
    "heading_collapsed": true
   },
   "source": [
    "#### Head and Neck Normal (Paired Tissue Normal)"
   ]
  },
  {
   "cell_type": "code",
   "execution_count": 26,
   "metadata": {
    "hidden": true
   },
   "outputs": [
    {
     "name": "stdout",
     "output_type": "stream",
     "text": [
      "Running dataset: TCGA_WGSCategory:headNeck_normal\n",
      "\n",
      "[[Fit Statistics]]\n",
      "    # fitting method   = leastsq\n",
      "    # function evals   = 33\n",
      "    # data points      = 1171\n",
      "    # variables        = 1\n",
      "    chi-square         = 12.5119915\n",
      "    reduced chi-square = 0.01069401\n",
      "    Akaike info crit   = -5313.08218\n",
      "    Bayesian info crit = -5308.01656\n",
      "[[Variables]]\n",
      "    N:  3195 (fixed)\n",
      "    m:  0.01776435 +/- 9.4386e-04 (5.31%) (init = 0.5)\n",
      "\n",
      " R^2 = 0.38\n",
      "=========================================================\n",
      "\n",
      "Top NonNeutral Microbes\n"
     ]
    },
    {
     "data": {
      "text/html": [
       "<div>\n",
       "<style scoped>\n",
       "    .dataframe tbody tr th:only-of-type {\n",
       "        vertical-align: middle;\n",
       "    }\n",
       "\n",
       "    .dataframe tbody tr th {\n",
       "        vertical-align: top;\n",
       "    }\n",
       "\n",
       "    .dataframe thead th {\n",
       "        text-align: right;\n",
       "    }\n",
       "</style>\n",
       "<table border=\"1\" class=\"dataframe\">\n",
       "  <thead>\n",
       "    <tr style=\"text-align: right;\">\n",
       "      <th></th>\n",
       "      <th>Difference off Neutral Model</th>\n",
       "      <th>Kingdom</th>\n",
       "      <th>Phylum</th>\n",
       "      <th>Class</th>\n",
       "      <th>Order</th>\n",
       "      <th>Family</th>\n",
       "      <th>Genus</th>\n",
       "      <th>Species</th>\n",
       "    </tr>\n",
       "  </thead>\n",
       "  <tbody>\n",
       "    <tr>\n",
       "      <th>5</th>\n",
       "      <td>0.764627</td>\n",
       "      <td>k__Bacteria</td>\n",
       "      <td>p__Proteobacteria</td>\n",
       "      <td>c__Alphaproteobacteria</td>\n",
       "      <td>o__Rhizobiales</td>\n",
       "      <td>f__Bradyrhizobiaceae</td>\n",
       "      <td>g__Bradyrhizobium</td>\n",
       "      <td>s__Bradyrhizobium elkanii</td>\n",
       "    </tr>\n",
       "    <tr>\n",
       "      <th>4</th>\n",
       "      <td>0.718959</td>\n",
       "      <td>k__Bacteria</td>\n",
       "      <td>p__Actinobacteria</td>\n",
       "      <td>c__Actinobacteria</td>\n",
       "      <td>o__Propionibacteriales</td>\n",
       "      <td>f__Propionibacteriaceae</td>\n",
       "      <td>g__Cutibacterium</td>\n",
       "      <td>s__Cutibacterium acnes</td>\n",
       "    </tr>\n",
       "    <tr>\n",
       "      <th>1</th>\n",
       "      <td>0.717978</td>\n",
       "      <td>k__Bacteria</td>\n",
       "      <td>p__Proteobacteria</td>\n",
       "      <td>c__Alphaproteobacteria</td>\n",
       "      <td>o__Sphingomonadales</td>\n",
       "      <td>f__Sphingomonadaceae</td>\n",
       "      <td>g__Sphingomonas</td>\n",
       "      <td>s__Sphingomonas taxi</td>\n",
       "    </tr>\n",
       "    <tr>\n",
       "      <th>2</th>\n",
       "      <td>0.669120</td>\n",
       "      <td>k__Bacteria</td>\n",
       "      <td>p__Actinobacteria</td>\n",
       "      <td>c__Actinobacteria</td>\n",
       "      <td>o__Propionibacteriales</td>\n",
       "      <td>f__Propionibacteriaceae</td>\n",
       "      <td>g__Cutibacterium</td>\n",
       "      <td>s__Cutibacterium acnes</td>\n",
       "    </tr>\n",
       "    <tr>\n",
       "      <th>3</th>\n",
       "      <td>0.634243</td>\n",
       "      <td>k__Bacteria</td>\n",
       "      <td>p__Actinobacteria</td>\n",
       "      <td>c__Actinobacteria</td>\n",
       "      <td>o__Propionibacteriales</td>\n",
       "      <td>f__Propionibacteriaceae</td>\n",
       "      <td>g__Cutibacterium</td>\n",
       "      <td>s__Cutibacterium acnes</td>\n",
       "    </tr>\n",
       "    <tr>\n",
       "      <th>6</th>\n",
       "      <td>0.614093</td>\n",
       "      <td>k__Bacteria</td>\n",
       "      <td>p__Actinobacteria</td>\n",
       "      <td>c__Actinobacteria</td>\n",
       "      <td>o__Propionibacteriales</td>\n",
       "      <td>f__Propionibacteriaceae</td>\n",
       "      <td>g__Cutibacterium</td>\n",
       "      <td>s__Cutibacterium acnes</td>\n",
       "    </tr>\n",
       "    <tr>\n",
       "      <th>0</th>\n",
       "      <td>0.601892</td>\n",
       "      <td>k__Bacteria</td>\n",
       "      <td>p__Proteobacteria</td>\n",
       "      <td>c__Betaproteobacteria</td>\n",
       "      <td>o__Burkholderiales</td>\n",
       "      <td>f__Alcaligenaceae</td>\n",
       "      <td>g__Orrella</td>\n",
       "      <td>s__Orrella dioscoreae</td>\n",
       "    </tr>\n",
       "    <tr>\n",
       "      <th>7</th>\n",
       "      <td>0.533129</td>\n",
       "      <td>k__Bacteria</td>\n",
       "      <td>p__Bacteroidetes</td>\n",
       "      <td>c__Bacteroidia</td>\n",
       "      <td>o__Bacteroidales</td>\n",
       "      <td>f__Prevotellaceae</td>\n",
       "      <td>g__Prevotella</td>\n",
       "      <td>s__Prevotella oris</td>\n",
       "    </tr>\n",
       "  </tbody>\n",
       "</table>\n",
       "</div>"
      ],
      "text/plain": [
       "   Difference off Neutral Model      Kingdom             Phylum  \\\n",
       "5                      0.764627  k__Bacteria  p__Proteobacteria   \n",
       "4                      0.718959  k__Bacteria  p__Actinobacteria   \n",
       "1                      0.717978  k__Bacteria  p__Proteobacteria   \n",
       "2                      0.669120  k__Bacteria  p__Actinobacteria   \n",
       "3                      0.634243  k__Bacteria  p__Actinobacteria   \n",
       "6                      0.614093  k__Bacteria  p__Actinobacteria   \n",
       "0                      0.601892  k__Bacteria  p__Proteobacteria   \n",
       "7                      0.533129  k__Bacteria   p__Bacteroidetes   \n",
       "\n",
       "                    Class                   Order                   Family  \\\n",
       "5  c__Alphaproteobacteria          o__Rhizobiales     f__Bradyrhizobiaceae   \n",
       "4       c__Actinobacteria  o__Propionibacteriales  f__Propionibacteriaceae   \n",
       "1  c__Alphaproteobacteria     o__Sphingomonadales     f__Sphingomonadaceae   \n",
       "2       c__Actinobacteria  o__Propionibacteriales  f__Propionibacteriaceae   \n",
       "3       c__Actinobacteria  o__Propionibacteriales  f__Propionibacteriaceae   \n",
       "6       c__Actinobacteria  o__Propionibacteriales  f__Propionibacteriaceae   \n",
       "0   c__Betaproteobacteria      o__Burkholderiales        f__Alcaligenaceae   \n",
       "7          c__Bacteroidia        o__Bacteroidales        f__Prevotellaceae   \n",
       "\n",
       "               Genus                    Species  \n",
       "5  g__Bradyrhizobium  s__Bradyrhizobium elkanii  \n",
       "4   g__Cutibacterium     s__Cutibacterium acnes  \n",
       "1    g__Sphingomonas       s__Sphingomonas taxi  \n",
       "2   g__Cutibacterium     s__Cutibacterium acnes  \n",
       "3   g__Cutibacterium     s__Cutibacterium acnes  \n",
       "6   g__Cutibacterium     s__Cutibacterium acnes  \n",
       "0         g__Orrella      s__Orrella dioscoreae  \n",
       "7      g__Prevotella         s__Prevotella oris  "
      ]
     },
     "metadata": {},
     "output_type": "display_data"
    },
    {
     "name": "stdout",
     "output_type": "stream",
     "text": [
      "=========================================================\n",
      "\n"
     ]
    },
    {
     "data": {
      "image/png": "[encoded data removed]",
      "text/plain": [
       "<Figure size 432x288 with 1 Axes>"
      ]
     },
     "metadata": {
      "needs_background": "light"
     },
     "output_type": "display_data"
    }
   ],
   "source": [
    "'''Choose True or False for the following parameters:\n",
    "               norm_graph : True/False : Prints and saves the neutral evolution graph without any coloring\n",
    "               colored_graph : True/False : Prints and saves the neutral evolution graph without any coloring\n",
    "               non_neutral : True/False : Prints and saves the most non-neutral microbes in csv file\n",
    "'''\n",
    "norm_graph = True\n",
    "colored_graph = True\n",
    "non_neutral = True\n",
    "#Options: S1: normal/cancer; S2:e (esophgous) / hn (head and neck)\n",
    "\n",
    "#Run with all possible output files\n",
    "Neufit_Pipeline_Main('normal', 'TCGA_WGS', 'hn', norm_graph, colored_graph, non_neutral, full_non_neutral = True)"
   ]
  },
  {
   "cell_type": "markdown",
   "metadata": {},
   "source": [
    "#### Head and Neck Cancer"
   ]
  },
  {
   "cell_type": "code",
   "execution_count": 23,
   "metadata": {},
   "outputs": [
    {
     "name": "stdout",
     "output_type": "stream",
     "text": [
      "Running dataset: TCGA_WGSCategory:headNeck_cancer\n",
      "\n",
      "[[Fit Statistics]]\n",
      "    # fitting method   = leastsq\n",
      "    # function evals   = 23\n",
      "    # data points      = 2147\n",
      "    # variables        = 1\n",
      "    chi-square         = 10.9261897\n",
      "    reduced chi-square = 0.00509142\n",
      "    Akaike info crit   = -11335.5860\n",
      "    Bayesian info crit = -11329.9141\n",
      "[[Variables]]\n",
      "    N:  3530 (fixed)\n",
      "    m:  0.01222510 +/- 4.5143e-04 (3.69%) (init = 0.5)\n",
      "\n",
      " R^2 = 0.55\n",
      "=========================================================\n",
      "\n",
      "Top NonNeutral Microbes\n"
     ]
    },
    {
     "data": {
      "text/html": [
       "<div>\n",
       "<style scoped>\n",
       "    .dataframe tbody tr th:only-of-type {\n",
       "        vertical-align: middle;\n",
       "    }\n",
       "\n",
       "    .dataframe tbody tr th {\n",
       "        vertical-align: top;\n",
       "    }\n",
       "\n",
       "    .dataframe thead th {\n",
       "        text-align: right;\n",
       "    }\n",
       "</style>\n",
       "<table border=\"1\" class=\"dataframe\">\n",
       "  <thead>\n",
       "    <tr style=\"text-align: right;\">\n",
       "      <th></th>\n",
       "      <th>Difference off Neutral Model</th>\n",
       "      <th>Kingdom</th>\n",
       "      <th>Phylum</th>\n",
       "      <th>Class</th>\n",
       "      <th>Order</th>\n",
       "      <th>Family</th>\n",
       "      <th>Genus</th>\n",
       "      <th>Species</th>\n",
       "    </tr>\n",
       "  </thead>\n",
       "  <tbody>\n",
       "    <tr>\n",
       "      <th>4</th>\n",
       "      <td>0.664301</td>\n",
       "      <td>k__Bacteria</td>\n",
       "      <td>p__Proteobacteria</td>\n",
       "      <td>c__Alphaproteobacteria</td>\n",
       "      <td>o__Rhizobiales</td>\n",
       "      <td>f__Bradyrhizobiaceae</td>\n",
       "      <td>g__Bradyrhizobium</td>\n",
       "      <td>s__Bradyrhizobium elkanii</td>\n",
       "    </tr>\n",
       "    <tr>\n",
       "      <th>5</th>\n",
       "      <td>0.559510</td>\n",
       "      <td>k__Bacteria</td>\n",
       "      <td>p__Spirochaetes</td>\n",
       "      <td>c__Spirochaetia</td>\n",
       "      <td>o__Spirochaetales</td>\n",
       "      <td>f__Spirochaetaceae</td>\n",
       "      <td>g__Treponema</td>\n",
       "      <td>s__Treponema denticola</td>\n",
       "    </tr>\n",
       "    <tr>\n",
       "      <th>2</th>\n",
       "      <td>0.532011</td>\n",
       "      <td>k__Bacteria</td>\n",
       "      <td>p__Firmicutes</td>\n",
       "      <td>c__Erysipelotrichia</td>\n",
       "      <td>o__Erysipelotrichales</td>\n",
       "      <td>f__Erysipelotrichaceae</td>\n",
       "      <td>g__Faecalitalea</td>\n",
       "      <td>s__Faecalitalea cylindroides</td>\n",
       "    </tr>\n",
       "    <tr>\n",
       "      <th>0</th>\n",
       "      <td>0.531654</td>\n",
       "      <td>k__Bacteria</td>\n",
       "      <td>p__Bacteroidetes</td>\n",
       "      <td>c__Bacteroidia</td>\n",
       "      <td>o__Bacteroidales</td>\n",
       "      <td>f__Porphyromonadaceae</td>\n",
       "      <td>g__Sanguibacteroides</td>\n",
       "      <td>s__Sanguibacteroides justesenii</td>\n",
       "    </tr>\n",
       "    <tr>\n",
       "      <th>3</th>\n",
       "      <td>0.525487</td>\n",
       "      <td>k__Bacteria</td>\n",
       "      <td>p__Proteobacteria</td>\n",
       "      <td>c__Alphaproteobacteria</td>\n",
       "      <td>o__Sphingomonadales</td>\n",
       "      <td>f__Sphingomonadaceae</td>\n",
       "      <td>g__Sphingomonas</td>\n",
       "      <td>s__Sphingomonas taxi</td>\n",
       "    </tr>\n",
       "    <tr>\n",
       "      <th>1</th>\n",
       "      <td>0.506416</td>\n",
       "      <td>k__Bacteria</td>\n",
       "      <td>p__Proteobacteria</td>\n",
       "      <td>c__Betaproteobacteria</td>\n",
       "      <td>o__Burkholderiales</td>\n",
       "      <td>f__Alcaligenaceae</td>\n",
       "      <td>g__Orrella</td>\n",
       "      <td>s__Orrella dioscoreae</td>\n",
       "    </tr>\n",
       "  </tbody>\n",
       "</table>\n",
       "</div>"
      ],
      "text/plain": [
       "   Difference off Neutral Model      Kingdom             Phylum  \\\n",
       "4                      0.664301  k__Bacteria  p__Proteobacteria   \n",
       "5                      0.559510  k__Bacteria    p__Spirochaetes   \n",
       "2                      0.532011  k__Bacteria      p__Firmicutes   \n",
       "0                      0.531654  k__Bacteria   p__Bacteroidetes   \n",
       "3                      0.525487  k__Bacteria  p__Proteobacteria   \n",
       "1                      0.506416  k__Bacteria  p__Proteobacteria   \n",
       "\n",
       "                    Class                  Order                  Family  \\\n",
       "4  c__Alphaproteobacteria         o__Rhizobiales    f__Bradyrhizobiaceae   \n",
       "5         c__Spirochaetia      o__Spirochaetales      f__Spirochaetaceae   \n",
       "2     c__Erysipelotrichia  o__Erysipelotrichales  f__Erysipelotrichaceae   \n",
       "0          c__Bacteroidia       o__Bacteroidales   f__Porphyromonadaceae   \n",
       "3  c__Alphaproteobacteria    o__Sphingomonadales    f__Sphingomonadaceae   \n",
       "1   c__Betaproteobacteria     o__Burkholderiales       f__Alcaligenaceae   \n",
       "\n",
       "                  Genus                          Species  \n",
       "4     g__Bradyrhizobium        s__Bradyrhizobium elkanii  \n",
       "5          g__Treponema           s__Treponema denticola  \n",
       "2       g__Faecalitalea     s__Faecalitalea cylindroides  \n",
       "0  g__Sanguibacteroides  s__Sanguibacteroides justesenii  \n",
       "3       g__Sphingomonas             s__Sphingomonas taxi  \n",
       "1            g__Orrella            s__Orrella dioscoreae  "
      ]
     },
     "metadata": {},
     "output_type": "display_data"
    },
    {
     "name": "stdout",
     "output_type": "stream",
     "text": [
      "=========================================================\n",
      "\n"
     ]
    },
    {
     "data": {
      "image/png": "[encoded data removed]",
      "text/plain": [
       "<Figure size 432x288 with 1 Axes>"
      ]
     },
     "metadata": {
      "needs_background": "light"
     },
     "output_type": "display_data"
    }
   ],
   "source": [
    "'''Choose True or False for the following parameters:\n",
    "               norm_graph : True/False : Prints and saves the neutral evolution graph without any coloring\n",
    "               colored_graph : True/False : Prints and saves the neutral evolution graph without any coloring\n",
    "               non_neutral : True/False : Prints and saves the most non-neutral microbes in csv file\n",
    "'''\n",
    "norm_graph = True\n",
    "colored_graph = True\n",
    "non_neutral = True\n",
    "#Options: S1: normal/cancer; S2:e (esophgous) / hn (head and neck)\n",
    "\n",
    "Neufit_Pipeline_Main('cancer', 'TCGA_WGS', 'hn', norm_graph, colored_graph, non_neutral, full_non_neutral = True)"
   ]
  }
 ],
 "metadata": {
  "kernelspec": {
   "display_name": "neufit",
   "language": "python",
   "name": "neufit"
  },
  "language_info": {
   "codemirror_mode": {
    "name": "ipython",
    "version": 3
   },
   "file_extension": ".py",
   "mimetype": "text/x-python",
   "name": "python",
   "nbconvert_exporter": "python",
   "pygments_lexer": "ipython3",
   "version": "3.5.5"
  }
 },
 "nbformat": 4,
 "nbformat_minor": 2
}

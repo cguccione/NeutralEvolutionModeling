{
 "cells": [
  {
   "cell_type": "markdown",
   "metadata": {},
   "source": [
    "# NeuFit Modeling Pipeline"
   ]
  },
  {
   "cell_type": "markdown",
   "metadata": {},
   "source": [
    "#### Assumptions"
   ]
  },
  {
   "cell_type": "markdown",
   "metadata": {},
   "source": [
    "- This Jupyter notebook runs best in Kernel: **neufit**"
   ]
  },
  {
   "cell_type": "markdown",
   "metadata": {},
   "source": [
    "##### Import Packages"
   ]
  },
  {
   "cell_type": "code",
   "execution_count": null,
   "metadata": {},
   "outputs": [],
   "source": [
    "#Imports needed for Caitlin Functions\n",
    "import pandas as pd\n",
    "import qiime2 as q2\n",
    "from biom import load_table #https://biom-format.org/documentation/generated/biom.load_table.html\n",
    "from datetime import datetime\n",
    "import os\n",
    "\n",
    "#Imports needed for Neufit\n",
    "import numpy as np\n",
    "from lmfit import Parameters, Model, fit_report #conda-forge/lmfit\n",
    "from scipy.stats import beta #[already installed]\n",
    "from statsmodels.stats.proportion import proportion_confint #[already installed]\n",
    "from os.path import splitext #[already installed]\n",
    "from matplotlib import pyplot #[already installed]\n",
    "from math import log10 #[already installed]\n",
    "import scipy"
   ]
  },
  {
   "cell_type": "markdown",
   "metadata": {},
   "source": [
    "##### File Locations"
   ]
  },
  {
   "cell_type": "code",
   "execution_count": null,
   "metadata": {},
   "outputs": [],
   "source": [
    "#Datasets: keynameDatatypeCollob\n",
    "#hutchKraken\n",
    "hutchKrakenAlex_biom = '/home/cguccion/rawData/01_11_2021_Hutch340_BE_Samples_LudmilAlexandrov/biom' #location of biom files from kraken->biom pipeline\n",
    "\n",
    "#TCGA_WGS\n",
    "tcgaEhnWGSgreg_ = '/home/cguccion/rawData/April2021_Greg_TCGA_WGS/raw_from_Greg'#Location of raw data\n",
    "\n",
    "##Two metadata options here: #1 from Greg orginally, #2 With TCGA Incorperated\n",
    "#tcgaEhnWGSgreg_meta = str(tcgaEhnWGSgreg_ + '/' + '13722_20210405-101126-TCGA-WGS-Qiita-sample-metadata.txt') #Greg OG\n",
    "#tcgaEhnWGSgreg_meta = str('/home/cguccion/rawData/April2021_Greg_TCGA_WGS/meta_expansion/13722_20210405-101126-TCGA-WGS-Qiita-sample-metadata_esoph_hnc_metaExpand.txt') #TCGA\n",
    "tcgaEhnWGSgreg_meta = str('/home/cguccion/rawData/April2021_Greg_TCGA_WGS/meta_expansion/13722_20210405-101126-TCGA-WGS-Qiita-sample-metadata_esoph_hnc_MetaExpand.txt') #TCGA\n",
    "\n",
    "tcgaEhnWGSgreg_taxa = str(tcgaEhnWGSgreg_ + '/' + 'wol_gotu_taxonomy.csv')\n",
    "\n",
    "#Intermediate Files\n",
    "neufit_input_path = '/home/cguccion/NeutralEvolutionModeling/ipynb/data_tax_csv' #location of _data.csv and _tax.csv files for Neufit input\n",
    "\n",
    "#Output Files\n",
    "neufit_output_path = '/home/cguccion/NeutralEvolutionModeling/ipynb/neufit_output' #location of all graphs and command line outputs from running Neufit"
   ]
  },
  {
   "cell_type": "markdown",
   "metadata": {},
   "source": [
    "##### Import Functions"
   ]
  },
  {
   "cell_type": "code",
   "execution_count": null,
   "metadata": {},
   "outputs": [],
   "source": [
    "from nevo.neutral_fit import neufit\n",
    "from nevo.utils import biom2data_tax\n",
    "\n",
    "import matplotlib\n",
    "%matplotlib inline"
   ]
  },
  {
   "cell_type": "markdown",
   "metadata": {},
   "source": [
    "## Choose Dataset + Run Pipeline"
   ]
  },
  {
   "cell_type": "markdown",
   "metadata": {},
   "source": [
    "### Hutch Kraken Dataset: Ludmil Alexandrov"
   ]
  },
  {
   "cell_type": "markdown",
   "metadata": {},
   "source": [
    "##### Dataset Info"
   ]
  },
  {
   "cell_type": "markdown",
   "metadata": {
    "heading_collapsed": true
   },
   "source": [
    "#### Combined Data (Everything in the dataset)"
   ]
  },
  {
   "cell_type": "code",
   "execution_count": null,
   "metadata": {
    "hidden": true
   },
   "outputs": [],
   "source": [
    "'''Choose True or False for the following parameters:\n",
    "               norm_graph : True/False : Prints and saves the neutral evolution graph without any coloring\n",
    "               colored_graph : True/False : Prints and saves the neutral evolution graph without any coloring\n",
    "               non_neutral : True/False : Prints and saves the most non-neutral microbes in csv file\n",
    "'''\n",
    "norm_graph = True\n",
    "colored_graph = True\n",
    "non_neutral = True\n",
    "\n",
    "#Run with no output files\n",
    "Neufit_Pipeline_Main('combined', 'hutchKraken', 'combined_biome', norm_graph, colored_graph, non_neutral, non_save = True)\n",
    "\n",
    "#Run with all possible output files\n",
    "#Neufit_Pipeline_Main('combined', 'hutchKraken', 'combined_biome', norm_graph, colored_graph, non_neutral, full_non_neutral = True)"
   ]
  },
  {
   "cell_type": "markdown",
   "metadata": {
    "heading_collapsed": true
   },
   "source": [
    "#### Progressors Data (Patients who went onto progressor to EAC)"
   ]
  },
  {
   "cell_type": "code",
   "execution_count": null,
   "metadata": {
    "hidden": true
   },
   "outputs": [],
   "source": [
    "'''Choose True or False for the following parameters:\n",
    "               norm_graph : True/False : Prints and saves the neutral evolution graph without any coloring\n",
    "               colored_graph : True/False : Prints and saves the neutral evolution graph without any coloring\n",
    "               non_neutral : True/False : Prints and saves the most non-neutral microbes in csv file\n",
    "'''\n",
    "norm_graph = True\n",
    "colored_graph = True\n",
    "non_neutral = True\n",
    "\n",
    "#Run with all possible output files\n",
    "Neufit_Pipeline_Main('progressors', 'hutchKraken', 'P_biome', norm_graph, colored_graph, non_neutral, full_non_neutral = True)"
   ]
  },
  {
   "cell_type": "markdown",
   "metadata": {
    "heading_collapsed": true
   },
   "source": [
    "#### Progressor Data Time Point 1 Only (Patients who went onto progressor to EAC, but were healthy at this timepoint (timepoint 1))"
   ]
  },
  {
   "cell_type": "code",
   "execution_count": null,
   "metadata": {
    "hidden": true
   },
   "outputs": [],
   "source": [
    "'''Choose True or False for the following parameters:\n",
    "               norm_graph : True/False : Prints and saves the neutral evolution graph without any coloring\n",
    "               colored_graph : True/False : Prints and saves the neutral evolution graph without any coloring\n",
    "               non_neutral : True/False : Prints and saves the most non-neutral microbes in csv file\n",
    "'''\n",
    "norm_graph = True\n",
    "colored_graph = True\n",
    "non_neutral = True\n",
    "\n",
    "#Run with all possible output files\n",
    "Neufit_Pipeline_Main('progressorsT1', 'hutchKraken', 'P_T1_biome', norm_graph, colored_graph, non_neutral, full_non_neutral = True)"
   ]
  },
  {
   "cell_type": "markdown",
   "metadata": {
    "heading_collapsed": true
   },
   "source": [
    "#### Progressor Data Time Point 2 Only (Patients who went onto progressor to EAC, and had cancer at this timepoint (timepoint 2))"
   ]
  },
  {
   "cell_type": "code",
   "execution_count": null,
   "metadata": {
    "hidden": true
   },
   "outputs": [],
   "source": [
    "'''Choose True or False for the following parameters:\n",
    "               norm_graph : True/False : Prints and saves the neutral evolution graph without any coloring\n",
    "               colored_graph : True/False : Prints and saves the neutral evolution graph without any coloring\n",
    "               non_neutral : True/False : Prints and saves the most non-neutral microbes in csv file\n",
    "'''\n",
    "norm_graph = True\n",
    "colored_graph = True\n",
    "non_neutral = True\n",
    "\n",
    "#Run with all possible output files\n",
    "Neufit_Pipeline_Main('progressorsT2', 'hutchKraken', 'P_T2_biome', norm_graph, colored_graph, non_neutral, full_non_neutral = True)"
   ]
  },
  {
   "cell_type": "markdown",
   "metadata": {
    "heading_collapsed": true
   },
   "source": [
    "#### NonProgressor Data  (Patients who went never progressed to EAC"
   ]
  },
  {
   "cell_type": "code",
   "execution_count": null,
   "metadata": {
    "hidden": true
   },
   "outputs": [],
   "source": [
    "'''Choose True or False for the following parameters:\n",
    "               norm_graph : True/False : Prints and saves the neutral evolution graph without any coloring\n",
    "               colored_graph : True/False : Prints and saves the neutral evolution graph without any coloring\n",
    "               non_neutral : True/False : Prints and saves the most non-neutral microbes in csv file\n",
    "'''\n",
    "norm_graph = True\n",
    "colored_graph = True\n",
    "non_neutral = True\n",
    "\n",
    "#Run with all possible output files\n",
    "Neufit_Pipeline_Main('nonProgressors', 'hutchKraken', 'NP_biome', norm_graph, colored_graph, non_neutral, full_non_neutral = True)"
   ]
  },
  {
   "cell_type": "markdown",
   "metadata": {
    "heading_collapsed": true
   },
   "source": [
    "#### NonProgressor Data Time Point 1 Only (Patients who did not progress to EAC ever (timepoint 1)"
   ]
  },
  {
   "cell_type": "code",
   "execution_count": null,
   "metadata": {
    "hidden": true
   },
   "outputs": [],
   "source": [
    "'''Choose True or False for the following parameters:\n",
    "               norm_graph : True/False : Prints and saves the neutral evolution graph without any coloring\n",
    "               colored_graph : True/False : Prints and saves the neutral evolution graph without any coloring\n",
    "               non_neutral : True/False : Prints and saves the most non-neutral microbes in csv file\n",
    "'''\n",
    "norm_graph = True\n",
    "colored_graph = True\n",
    "non_neutral = True\n",
    "\n",
    "#Run with all possible output files\n",
    "Neufit_Pipeline_Main('nonProgressorsT1', 'hutchKraken', 'NP_T1_biome', norm_graph, colored_graph, non_neutral, full_non_neutral = True)"
   ]
  },
  {
   "cell_type": "markdown",
   "metadata": {
    "heading_collapsed": true
   },
   "source": [
    "#### NonProgressor Data Time Point 2 Only (Patients who did not progress to EAC ever, now at thier second check (timepoint 2)"
   ]
  },
  {
   "cell_type": "code",
   "execution_count": null,
   "metadata": {
    "hidden": true
   },
   "outputs": [],
   "source": [
    "'''Choose True or False for the following parameters:\n",
    "               norm_graph : True/False : Prints and saves the neutral evolution graph without any coloring\n",
    "               colored_graph : True/False : Prints and saves the neutral evolution graph without any coloring\n",
    "               non_neutral : True/False : Prints and saves the most non-neutral microbes in csv file\n",
    "'''\n",
    "norm_graph = True\n",
    "colored_graph = True\n",
    "non_neutral = True\n",
    "\n",
    "#Run with all possible output files\n",
    "Neufit_Pipeline_Main('nonProgressorsT2', 'hutchKraken', 'NP_T2_biome', norm_graph, colored_graph, non_neutral, full_non_neutral = True)"
   ]
  },
  {
   "cell_type": "markdown",
   "metadata": {},
   "source": [
    "### TCGA WGS Esophagus / Head and Neck Cancer Dataset: Greg Poore"
   ]
  },
  {
   "cell_type": "markdown",
   "metadata": {
    "heading_collapsed": true
   },
   "source": [
    "#### Esophagus Normal (Paired Tissue Normal)"
   ]
  },
  {
   "cell_type": "code",
   "execution_count": null,
   "metadata": {
    "hidden": true
   },
   "outputs": [],
   "source": [
    "'''Choose True or False for the following parameters:\n",
    "               norm_graph : True/False : Prints and saves the neutral evolution graph without any coloring\n",
    "               colored_graph : True/False : Prints and saves the neutral evolution graph without any coloring\n",
    "               non_neutral : True/False : Prints and saves the most non-neutral microbes in csv file\n",
    "'''\n",
    "norm_graph = True\n",
    "colored_graph = True\n",
    "non_neutral = True\n",
    "\n",
    "#Options: S1: normal/cancer; S2:e (esophgous) / hn (head and neck)\n",
    "\n",
    "#Run with no output files\n",
    "#Neufit_Pipeline_Main('normal', 'TCGA_WGS', 'e', norm_graph, colored_graph, non_neutral, non_save = True)\n",
    "\n",
    "#Run with all possible output files\n",
    "Neufit_Pipeline_Main('normal', 'TCGA_WGS', 'e', norm_graph, colored_graph, non_neutral, full_non_neutral = True)\n",
    "\n"
   ]
  },
  {
   "cell_type": "markdown",
   "metadata": {
    "heading_collapsed": true
   },
   "source": [
    "#### Esophgous Cancer: Squamous Cell Carcinoma"
   ]
  },
  {
   "cell_type": "code",
   "execution_count": null,
   "metadata": {
    "hidden": true
   },
   "outputs": [],
   "source": [
    "'''Choose True or False for the following parameters:\n",
    "               norm_graph : True/False : Prints and saves the neutral evolution graph without any coloring\n",
    "               colored_graph : True/False : Prints and saves the neutral evolution graph without any coloring\n",
    "               non_neutral : True/False : Prints and saves the most non-neutral microbes in csv file\n",
    "'''\n",
    "norm_graph = True\n",
    "colored_graph = True\n",
    "non_neutral = True\n",
    "#Options: S1: normal/cancer; S2:e (esophgous) / hn (head and neck) / e_scc (esoph, squmous cell)\n",
    "\n",
    "#Run with all possible output files\n",
    "Neufit_Pipeline_Main('cancer', 'TCGA_WGS', 'e_scc', norm_graph, colored_graph, non_neutral, full_non_neutral = True)"
   ]
  },
  {
   "cell_type": "markdown",
   "metadata": {
    "heading_collapsed": true
   },
   "source": [
    "#### Head and Neck Normal (Paired Tissue Normal)"
   ]
  },
  {
   "cell_type": "code",
   "execution_count": null,
   "metadata": {
    "hidden": true
   },
   "outputs": [],
   "source": [
    "'''Choose True or False for the following parameters:\n",
    "               norm_graph : True/False : Prints and saves the neutral evolution graph without any coloring\n",
    "               colored_graph : True/False : Prints and saves the neutral evolution graph without any coloring\n",
    "               non_neutral : True/False : Prints and saves the most non-neutral microbes in csv file\n",
    "'''\n",
    "norm_graph = True\n",
    "colored_graph = True\n",
    "non_neutral = True\n",
    "#Options: S1: normal/cancer; S2:e (esophgous) / hn (head and neck)\n",
    "\n",
    "#Run with all possible output files\n",
    "Neufit_Pipeline_Main('normal', 'TCGA_WGS', 'hn', norm_graph, colored_graph, non_neutral, full_non_neutral = True)"
   ]
  },
  {
   "cell_type": "markdown",
   "metadata": {
    "heading_collapsed": true
   },
   "source": [
    "#### Head and Neck Cancer"
   ]
  },
  {
   "cell_type": "code",
   "execution_count": null,
   "metadata": {
    "hidden": true
   },
   "outputs": [],
   "source": [
    "'''Choose True or False for the following parameters:\n",
    "               norm_graph : True/False : Prints and saves the neutral evolution graph without any coloring\n",
    "               colored_graph : True/False : Prints and saves the neutral evolution graph without any coloring\n",
    "               non_neutral : True/False : Prints and saves the most non-neutral microbes in csv file\n",
    "'''\n",
    "norm_graph = True\n",
    "colored_graph = True\n",
    "non_neutral = True\n",
    "#Options: S1: normal/cancer; S2:e (esophgous) / hn (head and neck)\n",
    "\n",
    "Neufit_Pipeline_Main('cancer', 'TCGA_WGS', 'hn', norm_graph, colored_graph, non_neutral, full_non_neutral = True)"
   ]
  }
 ],
 "metadata": {
  "kernelspec": {
   "display_name": "neufit",
   "language": "python",
   "name": "neufit"
  },
  "language_info": {
   "codemirror_mode": {
    "name": "ipython",
    "version": 3
   },
   "file_extension": ".py",
   "mimetype": "text/x-python",
   "name": "python",
   "nbconvert_exporter": "python",
   "pygments_lexer": "ipython3",
   "version": "3.5.5"
  }
 },
 "nbformat": 4,
 "nbformat_minor": 2
}

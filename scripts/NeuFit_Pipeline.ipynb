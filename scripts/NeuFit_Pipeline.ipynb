{
 "cells": [
  {
   "cell_type": "markdown",
   "metadata": {},
   "source": [
    "# NeuFit Modeling Pipeline"
   ]
  },
  {
   "cell_type": "markdown",
   "metadata": {
    "heading_collapsed": true
   },
   "source": [
    "### Notes"
   ]
  },
  {
   "cell_type": "markdown",
   "metadata": {
    "heading_collapsed": true,
    "hidden": true
   },
   "source": [
    "#### Assumptions"
   ]
  },
  {
   "cell_type": "markdown",
   "metadata": {
    "hidden": true
   },
   "source": [
    "- This Jupyter notebook runs best in Kernel: **neufit**"
   ]
  },
  {
   "cell_type": "markdown",
   "metadata": {
    "heading_collapsed": true,
    "hidden": true
   },
   "source": [
    "#### Neufit Modifyed Args Input/Output Details "
   ]
  },
  {
   "cell_type": "markdown",
   "metadata": {
    "hidden": true
   },
   "source": [
    "- Made changes in variables from args to names below so could be run / modifyed in Jupyer \n",
    "- If not trying to do custom plotting with colored - will be easier to use command line for this\n",
    "- This also assumes that whatever dataset you chose already has the csv files created so had been run through *NeufitPipeline.ipynb*\n",
    "\n",
    "- Old args input form neufit.py file - Example with combined dataset\n",
    "```python \n",
    "args.data_file.name =/.../NeutralModels/Input_csv/combined_data.csv\n",
    "args.data_file <open file '/.../NeutralModels/Input_csv/combined_data.csv', mode 'r' at 0x120b28c00>\n",
    "args.ignore_level 0\n",
    "args.rarefaction_level 0\n",
    "args.taxonomy_file <open file '/.../NeutralModels/Input_csv/combined_taxonomy.csv', mode 'r' at 0x120b28c90>\n",
    "```\n",
    "\n",
    "\n",
    "- Modifyed varible names - Example with combined dataset\n",
    "```python \n",
    "data_file_name = '/.../NeutralModels/Input_csv/combined_data.csv'\n",
    "data_file = open(data_file_name, \"r\")\n",
    "arg_ignore_level = 0\n",
    "arg_rarefaction_level = 0\n",
    "tax_file_name = '/.../NeutralModels/Input_csv/combined_taxonomy.csv'\n",
    "tax_file = open(tax_file_name, \"r\")\n",
    "```"
   ]
  },
  {
   "cell_type": "markdown",
   "metadata": {
    "heading_collapsed": true
   },
   "source": [
    "## Pipeline Dependencies + Functions"
   ]
  },
  {
   "cell_type": "markdown",
   "metadata": {
    "heading_collapsed": true,
    "hidden": true
   },
   "source": [
    "### Dependencies"
   ]
  },
  {
   "cell_type": "markdown",
   "metadata": {
    "heading_collapsed": true,
    "hidden": true
   },
   "source": [
    "##### Import Packages"
   ]
  },
  {
   "cell_type": "code",
   "execution_count": 84,
   "metadata": {
    "hidden": true
   },
   "outputs": [],
   "source": [
    "#Imports needed for Caitlin Functions\n",
    "import pandas as pd\n",
    "import qiime2 as q2\n",
    "from biom import load_table #https://biom-format.org/documentation/generated/biom.load_table.html\n",
    "from datetime import datetime\n",
    "import os\n",
    "\n",
    "#Imports needed for Neufit\n",
    "import numpy as np\n",
    "from lmfit import Parameters, Model, fit_report #conda-forge/lmfit\n",
    "from scipy.stats import beta #[already installed]\n",
    "from statsmodels.stats.proportion import proportion_confint #[already installed]\n",
    "from os.path import splitext #[already installed]\n",
    "from matplotlib import pyplot #[already installed]\n",
    "from math import log10 #[already installed]\n",
    "import scipy"
   ]
  },
  {
   "cell_type": "markdown",
   "metadata": {
    "hidden": true
   },
   "source": [
    "##### File Locations"
   ]
  },
  {
   "cell_type": "code",
   "execution_count": 2,
   "metadata": {
    "hidden": true
   },
   "outputs": [],
   "source": [
    "#Datasets: keynameDatatypeCollob\n",
    "hutchKrakenAlex_biom = '/home/cguccion/rawData/01_11_2021_Hutch340_BE_Samples_LudmilAlexandrov/biom' #location of biom files from kraken->biom pipeline\n",
    "TCGA_HNEC_EAC_WGS_Greg = '/home/cguccion/rawData/April2021_Greg_TCGA_WGS'\n",
    "\n",
    "#Intermediate Files\n",
    "neufit_input_path = '/home/cguccion/NeutralEvolutionModeling/data_tax_csv' #location of _data.csv and _tax.csv files for Neufit input\n",
    "\n",
    "#Output Files\n",
    "neufit_output_path = '/home/cguccion/NeutralEvolutionModeling/neufit_output' #location of all graphs and command line outputs from running Neufit\n"
   ]
  },
  {
   "cell_type": "markdown",
   "metadata": {
    "heading_collapsed": true,
    "hidden": true
   },
   "source": [
    "### Functions"
   ]
  },
  {
   "cell_type": "markdown",
   "metadata": {
    "hidden": true
   },
   "source": [
    "#### Neufit Orginal Functions"
   ]
  },
  {
   "cell_type": "markdown",
   "metadata": {
    "heading_collapsed": true,
    "hidden": true
   },
   "source": [
    "##### PreSet Functions from Neufit"
   ]
  },
  {
   "cell_type": "code",
   "execution_count": 3,
   "metadata": {
    "hidden": true
   },
   "outputs": [],
   "source": [
    "# neufit: Fit a neutral community model to species abundances, e.g. from an OTU table\n",
    "#\n",
    "# For the theory behind this see Sloan et al, Environ Microbiol 2006 8:732-740.\n",
    "# To run on the example simulation data: python neufit.py sim_data.csv\n",
    "# To link with the mock taxonomy use the -t sim_taxonomy.csv option\n",
    "#\n",
    "# Copyright (C) 2018 Michael Sieber (sieber.ecoevo.de)\n",
    "# All rights reserved.\n",
    "#\n",
    "# Redistribution and use in source and binary forms, with or without\n",
    "# modification, are permitted provided that the following conditions are met:\n",
    "#\n",
    "# 1. Redistributions of source code must retain the above copyright notice, this\n",
    "#    list of conditions and the following disclaimer.\n",
    "# 2. Redistributions in binary form must reproduce the above copyright notice,\n",
    "#    this list of conditions and the following disclaimer in the documentation\n",
    "#    and/or other materials provided with the distribution.\n",
    "#\n",
    "# THIS SOFTWARE IS PROVIDED BY THE COPYRIGHT HOLDERS AND CONTRIBUTORS \"AS IS\" AND\n",
    "# ANY EXPRESS OR IMPLIED WARRANTIES, INCLUDING, BUT NOT LIMITED TO, THE IMPLIED\n",
    "# WARRANTIES OF MERCHANTABILITY AND FITNESS FOR A PARTICULAR PURPOSE ARE\n",
    "# DISCLAIMED. IN NO EVENT SHALL THE COPYRIGHT OWNER OR CONTRIBUTORS BE LIABLE FOR\n",
    "# ANY DIRECT, INDIRECT, INCIDENTAL, SPECIAL, EXEMPLARY, OR CONSEQUENTIAL DAMAGES\n",
    "# (INCLUDING, BUT NOT LIMITED TO, PROCUREMENT OF SUBSTITUTE GOODS OR SERVICES;\n",
    "# LOSS OF USE, DATA, OR PROFITS; OR BUSINESS INTERRUPTION) HOWEVER CAUSED AND\n",
    "# ON ANY THEORY OF LIABILITY, WHETHER IN CONTRACT, STRICT LIABILITY, OR TORT\n",
    "# (INCLUDING NEGLIGENCE OR OTHERWISE) ARISING IN ANY WAY OUT OF THE USE OF THIS\n",
    "# SOFTWARE, EVEN IF ADVISED OF THE POSSIBILITY OF SUCH DAMAGE.\n",
    "#\n",
    "# Github: https://github.com/misieber/neufit\n",
    "\n",
    "def beta_cdf(p, N, m):\n",
    "    # Expected long term distribution under the neutral model (truncated cumulative beta-distribution)\n",
    "    return beta.cdf(1.0, N*m*p, N*m*(1.0-p)) - beta.cdf(1.0/N, N*m*p, N*m*(1.0-p))\n",
    "def subsample(counts, depth):\n",
    "    # Subsamples counts to uniform depth, dropping all samples without enough depth\n",
    "    for sample in counts:\n",
    "        if counts[sample].sum() >= depth:\n",
    "            flattened = np.repeat(np.arange(counts[sample].size), counts[sample])\n",
    "            subsample = np.random.choice(flattened, depth, replace=False)\n",
    "            counts[sample] = np.bincount(subsample, minlength=counts[sample].size)\n",
    "        else:\n",
    "            #CG: changed the following print statment from Python2 to Python3 \n",
    "            print('dropping sample ' + sample + ' with ' + str(counts[sample].sum()) + ' reads < ' + str(depth))\n",
    "            counts = counts.drop(sample, axis=1)\n",
    "    return counts\n",
    "\n",
    "def non_negative_int(arg):\n",
    "    # Argparser type: non-negative int\n",
    "    nnint = int(arg)\n",
    "    if nnint < 0:\n",
    "        raise ArgumentTypeError(arg + ' < 0, must be non-negative')\n",
    "    return nnint"
   ]
  },
  {
   "cell_type": "markdown",
   "metadata": {
    "heading_collapsed": true,
    "hidden": true
   },
   "source": [
    "##### Main Neufit Section"
   ]
  },
  {
   "cell_type": "code",
   "execution_count": 102,
   "metadata": {
    "hidden": true
   },
   "outputs": [],
   "source": [
    "'''\n",
    "All the code in the function below was written by the orginal Neufit authors, not me and is from the neufit.py file.\n",
    "neufit.py: https://github.com/misieber/neufit/blob/master/neufit.py\n",
    "\n",
    "Here are the following changes I made:\n",
    "- Turned it into a function instead of using argv as input\n",
    "    -There are specific notes on what I changed in the 'Notes: Neufit Modifyed Args Input/Output Details' section.\n",
    "-Changed was all syntax from Python2 to Python3.\n",
    "-Changed all print statments to write to file statements\n",
    "    - Made any necissary edits to allow data to be printed to file instead of terminal \n",
    "'''\n",
    "def main_neufit(output_filename, dataset_type, _data_filename, _taxonomy_filename, full_non_neutral = False, arg_ignore_level = 0, arg_rarefaction_level = 0):\n",
    "    '''Inputs:  output_filename : the name which will be at the front of all the files; ex. 'combined'\n",
    "                dataset_type : the dataset type we have from here: ('hutchKraken', 'gregTCGA')\n",
    "                _data_filename = path of []_data.csv file needed for Neufit to run\n",
    "                _taxonomy_filename = path of []_taxonomy.csv file needed for Neufit to run\n",
    "                arg_ignore_level = 0 ; default set from orginal Neufit program\n",
    "                arg_rarefaction_level = 0; default set from orginal Neufit program \n",
    "       Outputs: file_header = file path for neufit outpus: The path+dataGroup name + date stamp to be used for all parts of Neufit run: ex. /home/cguccion/NeutralEvolutionModeling/neufit_output/hutchKrakenAlex_combined_2021-08-26_13:24:22  \n",
    "                occurr_freqs = pandas df that Neufit created in the orginal program but didn't specifcally output orginally\n",
    "                    - Headers of csv: otu_id, mean_abundance, occurrence, Kingdom, Phylum, Class, Order, Family, Genus, Species, predicted_occurrence, lower_conf_int, upper_conf_int\n",
    "                    - I used this occur_freqs df in order to figure out which species is the most non-neutral\n",
    "                    - I believe this is what Neufit uses to physical plot the dots on the graph as well \n",
    "                n_reads = Number of reads (from orginal program)\n",
    "                n_samples = Number of smaples (from orginal program)\n",
    "                r_square = R^2 value (from orginal program)\n",
    "                beta_fit = stats on the preformance of the model (from orginal program)\n",
    "               *Runs the main section of neufit'''\n",
    "    \n",
    "    ##Added by Caitlin ~ Push output to file instead of printing to screen\n",
    "    \n",
    "    #Grab and format data/time\n",
    "    time = datetime.time(datetime.now())\n",
    "    date = datetime.date(datetime.now())\n",
    "    h,s = str(time).split(\".\") #Split  the string into  hours/min and seconds\n",
    "    \n",
    "    #Create file_header which holds the path / location for all future Neufit outpus\n",
    "    file_header = str(neufit_output_path) + \"/\" + str(dataset_type) + '/' + str(output_filename) + '/' + str(output_filename) + '_' + str(date) + \"_\" + str(h)\n",
    "    \n",
    "    #Creates directory for all Neufit Outputs if it doesn't already exist \n",
    "    dir_name = str(neufit_output_path) + \"/\" + str(dataset_type) + '/' + str(output_filename)\n",
    "    os.makedirs(dir_name, exist_ok=True)\n",
    "    \n",
    "    #Create and open file for Neufit Output txt file\n",
    "    fn= str(file_header) + \".txt\"\n",
    "    file = open(fn, 'w')\n",
    "    \n",
    "    #Print statments with important info\n",
    "    print(\"Running dataset: \" + str(dataset_type) + \"Category:\" + str(output_filename) + '\\n')\n",
    "    ##\n",
    "    \n",
    "    # Writes dataset info to Neufit output file + calculates and writes the number of samples/ reads in the file\n",
    "    file.write('Corresponding csv file: ' + _data_filename + '\\n')\n",
    "    abundances = pd.read_table(_data_filename, header=0, index_col=0, sep='\\t').astype(int)\n",
    "    abundances = abundances[abundances.sum(1) > arg_ignore_level]\n",
    "    file.write ('Dataset contains ' + str(abundances.shape[1]) + ' samples (sample_id, reads): \\n')\n",
    "    ##Caitlin\n",
    "    #The following loop is used instead of 'print abundances.sum(0)' so that it can be written to a file\n",
    "    for index, col in abundances.iteritems():\n",
    "        col_sum = 0\n",
    "        for i in col:\n",
    "            col_sum += i\n",
    "        file.write (index + '\\t' + str(col_sum) + '\\n')\n",
    "    file.write ('\\n')\n",
    "    ##\n",
    "\n",
    "    # Determine uniform read depth\n",
    "    if arg_rarefaction_level == 0 or arg_rarefaction_level > max(abundances.sum(0)):\n",
    "        arg_rarefaction_level = min(abundances.sum(0))\n",
    "        file.write ('rarefying to highest possible uniform read depth'),\n",
    "    else:\n",
    "        file.write ('rarefying to custom rarefaction level'),\n",
    "    file.write ('(' + str(arg_rarefaction_level) + ' reads per sample) \\n')\n",
    "\n",
    "    # Optionally subsample the abundance table, unless all samples already have the required uniform read depth\n",
    "    if not all(n_reads == arg_rarefaction_level for n_reads in abundances.sum(0)):\n",
    "        abundances = subsample(abundances, arg_rarefaction_level)\n",
    "        abundances = abundances[abundances.sum(1) > 0]\n",
    "\n",
    "    # Dataset shape\n",
    "    n_otus, n_samples = abundances.shape\n",
    "    n_reads = arg_rarefaction_level\n",
    "\n",
    "    file.write ('fitting neutral expectation to dataset with ' + str(n_samples) + ' samples and ' + str(n_otus) + ' otus \\n \\n')\n",
    "    # Calculate mean relative abundances and occurrence frequencies\n",
    "    mean_relative_abundance = (1.0*abundances.sum(1))/n_reads/n_samples\n",
    "    occurrence_frequency = (1.0*np.count_nonzero(abundances, axis=1))/n_samples\n",
    "\n",
    "    occurr_freqs = pd.DataFrame(mean_relative_abundance, columns=['mean_abundance'])\n",
    "    occurr_freqs.index.name = 'otu_id'\n",
    "    occurr_freqs['occurrence'] = occurrence_frequency\n",
    "    occurr_freqs = occurr_freqs.sort_values(by=['mean_abundance'])\n",
    "\n",
    "    # Join with taxonomic information (optional)\n",
    "    if _taxonomy_filename != None: #Changed <> to !=\n",
    "        taxonomy = pd.read_table(_taxonomy_filename, header=0, index_col=0, sep='\\t')\n",
    "        taxonomy.index.name = 'otu_id'\n",
    "        occurr_freqs = occurr_freqs.join(taxonomy)\n",
    "    # Fit the neutral model\n",
    "    params = Parameters()\n",
    "    params.add('N', value=n_reads, vary=False)\n",
    "    params.add('m', value=0.5, min=0.0, max=1.0)\n",
    "    beta_model = Model(beta_cdf)\n",
    "    beta_fit = beta_model.fit(occurr_freqs['occurrence'], params, p=occurr_freqs['mean_abundance'])\n",
    "\n",
    "    # Report fit statistics\n",
    "    r_square = 1.0 - np.sum(np.square(occurr_freqs['occurrence'] - beta_fit.best_fit))/np.sum(np.square(occurr_freqs['occurrence'] - np.mean(occurr_freqs['occurrence'])))\n",
    "    file.write (fit_report(beta_fit))\n",
    "    file.write ('\\n R^2 = ' + '{:1.2f}'.format(r_square))\n",
    "    print(fit_report(beta_fit))\n",
    "    print('\\n R^2 = ' + '{:1.2f}'.format(r_square))\n",
    "    print('=========================================================')\n",
    "\n",
    "    # Adding the neutral prediction to results\n",
    "    occurr_freqs['predicted_occurrence'] = beta_fit.best_fit\n",
    "    occurr_freqs['lower_conf_int'], occurr_freqs['upper_conf_int'] = proportion_confint(occurr_freqs['predicted_occurrence']*n_samples, n_samples, alpha=0.05, method='wilson')\n",
    "\n",
    "    # Save non-neutral otus (here simply determined by lying outside the confidence intervals)\n",
    "    above = occurr_freqs[occurr_freqs['occurrence'] > occurr_freqs['upper_conf_int']]\n",
    "    below = occurr_freqs[occurr_freqs['occurrence'] < occurr_freqs['lower_conf_int']]\n",
    "    \n",
    "    #Create orginal non neutral output file from Neufit\n",
    "    if full_non_neutral == True:\n",
    "        pd.concat((above, below)).to_csv(str(file_header) + '_FullNonNeutral.csv')\n",
    "    \n",
    "    file.close()\n",
    "    \n",
    "    return(occurr_freqs, n_reads, n_samples, r_square, beta_fit, file_header)"
   ]
  },
  {
   "cell_type": "markdown",
   "metadata": {
    "heading_collapsed": true,
    "hidden": true
   },
   "source": [
    "##### Neufit Plotting"
   ]
  },
  {
   "cell_type": "code",
   "execution_count": 32,
   "metadata": {
    "hidden": true
   },
   "outputs": [],
   "source": [
    "'''\n",
    "All the code in the function below was written by the orginal Neufit authors, not me and is from the neufit.py file.\n",
    "neufit.py: https://github.com/misieber/neufit/blob/master/neufit.py\n",
    "\n",
    "Here are the following changes I made:\n",
    "- Turned it into a function \n",
    "- Added a plot clearing option to avoid double keys\n",
    "'''\n",
    "def neufit_plot(occurr_freqs, n_reads, n_samples, r_square, beta_fit, file_header):\n",
    "    '''Inputs: occurr_freqs = pandas df that Neufit created in the orginal program but didn't specifcally output orginally\n",
    "                    - Headers of csv: otu_id, mean_abundance, occurrence, Kingdom, Phylum, Class, Order, Family, Genus, Species, predicted_occurrence, lower_conf_int, upper_conf_int\n",
    "                    - I used this occur_freqs df in order to figure out which species is the most non-neutral\n",
    "                    - I believe this is what Neufit uses to physical plot the dots on the graph as well \n",
    "               n_reads = Number of reads (from orginal program)\n",
    "               n_samples = Number of smaples (from orginal program)\n",
    "               r_square = R^2 value (from orginal program)\n",
    "               beta_fit = stats on the preformance of the model (from orginal program)\n",
    "               file_header = file path for all neufit outpus: The path+dataGroup name + date stamp to be used for all parts of Neufit run: ex. /home/cguccion/NeutralEvolutionModeling/neufit_output/hutchKrakenAlex_combined_2021-08-26_13:24:22  \n",
    "        Outputs: ! The orginal plot that Neufit outputs (just black dots) - will print to the screen but not save when run\n",
    "                 fn = default filename for neufit plot : customName_NeutralFitPlot.png -- Will often not need this \n",
    "                 *Creates the plot for Neufit '''\n",
    "    \n",
    "    \n",
    "    pyplot.cla() #Clears previous plot - to avoid double keys\n",
    "\n",
    "    # Prepare results plot\n",
    "    pyplot.xlabel('Mean relative abundance across samples', fontsize=15)\n",
    "    pyplot.xscale('log')\n",
    "    x_range = np.logspace(log10(min(occurr_freqs['mean_abundance'])/10), 0, 1000)\n",
    "    pyplot.xlim(min(x_range), max(x_range))\n",
    "    pyplot.xticks(fontsize=16)\n",
    "    pyplot.ylabel('Occurrence frequency in samples', fontsize=15)\n",
    "    pyplot.ylim(-0.05, 1.05)\n",
    "    pyplot.yticks(fontsize=16)\n",
    "\n",
    "    # Plot data points\n",
    "    pyplot.plot(occurr_freqs['mean_abundance'], occurr_freqs['occurrence'], 'o', markersize=6, fillstyle='full', color='black')\n",
    "\n",
    "    # Plot best fit\n",
    "    pyplot.plot(x_range, beta_cdf(x_range, n_reads, beta_fit.best_values['m']), '-', lw=5, color='darkred')\n",
    "    lower, upper = proportion_confint(beta_cdf(x_range, n_reads, beta_fit.best_values['m'])*n_samples, n_samples, alpha=0.05, method='wilson')\n",
    "    pyplot.plot(x_range, lower, '--', lw=2, color='darkred')\n",
    "    pyplot.plot(x_range, upper, '--', lw=2, color='darkred')\n",
    "    pyplot.fill_between(x_range, lower, upper, color='lightgrey')\n",
    "\n",
    "    pyplot.text(0.05, 0.9, '$R^2 = ' + '{:1.2f}'.format(r_square) + '$', fontsize=16, transform=pyplot.gca().transAxes)\n",
    "    pyplot.tight_layout()\n",
    "    \n",
    "    fn = file_header + '_NeutralFitPlot.png'\n",
    "    return(fn)"
   ]
  },
  {
   "cell_type": "markdown",
   "metadata": {
    "hidden": true
   },
   "source": [
    "#### Caitlin Written Functions"
   ]
  },
  {
   "cell_type": "markdown",
   "metadata": {
    "heading_collapsed": true,
    "hidden": true
   },
   "source": [
    "##### biome2data_tax"
   ]
  },
  {
   "cell_type": "code",
   "execution_count": 112,
   "metadata": {
    "hidden": true
   },
   "outputs": [],
   "source": [
    "# Caitlin Guccione, 08-25-2021\n",
    "\n",
    "def biom2data_tax(datasetName, biomFilename, finalFilename):\n",
    "    '''Inputs: datasetName = filename of dataset ex. hutchKrakenAlex_biom -- found in set paths above\n",
    "               biomFilename = filename of biom file found in datasetName path above\n",
    "               finalFilename = filename to be used in _data.csv file for neuFit\n",
    "       Outputs: fnD = File location of [name]_data.csv\n",
    "                ![name]_data.csv = Creates a data.csv file to be input into Neufit located at 'neufit_input'\n",
    "                fnT = File location of [name]_taxonomy.csv\n",
    "                ![name]_taxonomy.csv = Creates a taxonomy.csv file to be input into Neufit located at 'neufit_input'\n",
    "       * Imports biom file -> pandas dataframe -> data.csv, taxonomy.csv as desired by neufit'''\n",
    "    \n",
    "    #Make filename and import data\n",
    "    fullFilename = datasetName + '/' + biomFilename\n",
    "    featureTable = load_table(fullFilename) #https://biom-format.org/documentation/generated/biom.load_table.html\n",
    "    \n",
    "    #Create _data.csv\n",
    "    pandas_featureTable = pd.DataFrame(featureTable.matrix_data.toarray(), featureTable.ids('observation'), featureTable.ids())\n",
    "    fnD = neufit_input_path + '/' + finalFilename + '_data.csv'\n",
    "    pandas_featureTable.to_csv(fnD, sep='\\t')\n",
    "    \n",
    "    #Create _taxonomy.csv\n",
    "    pandas_TaxTable = pd.DataFrame(featureTable.metadata_to_dataframe('observation'))\n",
    "    pandas_TaxTable.set_axis(['Kingdom', 'Phylum', 'Class', 'Order', 'Family', 'Genus', 'Species'], axis=1)\n",
    "    fnT = neufit_input_path + '/' + finalFilename + '_taxonomy.csv'\n",
    "    pandas_TaxTable.to_csv(fnT, sep='\\t')\n",
    "    \n",
    "    '''\n",
    "    #Create Neufit string to run progam in terminal\n",
    "    #Can now run Neufit entirely from this notebook so don't need this command\n",
    "    py = 'python2 /Users/cguccione/Documents/Classes/Kit_Lab/Tools/neufit/neufit.py '\n",
    "    fnD = finalFilename + '_data.csv'\n",
    "    fnT = finalFilename + '_taxonomy.csv'\n",
    "    neufit_command = py + fnD + ' -t ' + fnT\n",
    "    \n",
    "    return(neufit_command)\n",
    "    Outputs: ![name]_data.csv = Creates a data.csv file to be input into Neufit located at 'neufit_input'\n",
    "                ![name]_taxonomy.csv = Creates a taxonomy.csv file to be input into Neufit located at 'neufit_input'\n",
    "    '''\n",
    "    \n",
    "    return(fnD, fnT)\n"
   ]
  },
  {
   "cell_type": "markdown",
   "metadata": {
    "heading_collapsed": true,
    "hidden": true
   },
   "source": [
    "##### non_neutral_outliers"
   ]
  },
  {
   "cell_type": "code",
   "execution_count": 38,
   "metadata": {
    "hidden": true
   },
   "outputs": [],
   "source": [
    "def non_neutral_outliers(file_header, occurr_freqs, non_save, threshold = 0.5):\n",
    "    '''Inputs: file_header = file path for neufit outpus: The path+dataGroup name + date stamp to be used for all parts of Neufit run: ex. /home/cguccion/NeutralEvolutionModeling/neufit_output/hutchKrakenAlex_combined_2021-08-26_13:24:22  \n",
    "               occurr_freqs = pandas df that Neufit created in the orginal program but didn't specifcally output orginally\n",
    "                    - Headers of csv: otu_id, mean_abundance, occurrence, Kingdom, Phylum, Class, Order, Family, Genus, Species, predicted_occurrence, lower_conf_int, upper_conf_int\n",
    "                    - I used this occur_freqs df in order to figure out which species is the most non-neutral\n",
    "                    - I believe this is what Neufit uses to physical plot the dots on the graph as well\n",
    "               threshold = 0.5; autoset to 0.5, but determines what bacteria are considered non-neutral\n",
    "        Outputs: ! [name]_NonNeutralOutliers.csv\n",
    "                *Creates the most Non-neutral csv file '''\n",
    "    \n",
    "    #Create dataframe\n",
    "    standoutMicrobes = pd.DataFrame(columns = ('Difference off Neutral Model', 'Kingdom', 'Phylum', 'Class', 'Order', 'Family', 'Genus', 'Species'))\n",
    "    \n",
    "    #Loop and find most non-neutral microbes based upon threshold\n",
    "    row_count = 0\n",
    "    for i,j in occurr_freqs.iterrows():\n",
    "        diff = abs(j['occurrence'] - j['predicted_occurrence'])\n",
    "        if diff > threshold:\n",
    "            standoutMicrobes.loc[row_count] = [diff, j['Kingdom'], j['Phylum'], j['Class'], j['Order'], j['Family'], j['Genus'], j['Species']]\n",
    "            row_count +=1\n",
    "    standoutMicrobes = standoutMicrobes.sort_values(by =['Difference off Neutral Model'], ascending=False)\n",
    "    \n",
    "    #Display and export non-neutral microbes as csv\n",
    "    print(\"\\nTop NonNeutral Microbes\")\n",
    "    display(standoutMicrobes)\n",
    "    print('=========================================================\\n')\n",
    "    \n",
    "    fn = file_header + '_NonNeutral_Outliers.csv'\n",
    "    \n",
    "    if non_save == False:\n",
    "        standoutMicrobes.to_csv(fn, sep = '\\t')"
   ]
  },
  {
   "cell_type": "markdown",
   "metadata": {
    "heading_collapsed": true,
    "hidden": true
   },
   "source": [
    "##### custom_color_plot"
   ]
  },
  {
   "cell_type": "markdown",
   "metadata": {
    "hidden": true
   },
   "source": [
    "If you want to add another custom color:\n",
    "1. Create a new section with bacteria and Mean Abundance and Occurance lists\n",
    "2. Add to the for loop at bottom of section as well\n",
    "3. Add custum bacteria to plot"
   ]
  },
  {
   "cell_type": "code",
   "execution_count": 31,
   "metadata": {
    "hidden": true
   },
   "outputs": [],
   "source": [
    "def custom_color_plot(occurr_freqs, n_reads, n_samples, r_square, beta_fit, file_header):\n",
    "    '''Inputs: file_header = file path for neufit outpus: The path+dataGroup name + date stamp to be used for all parts of Neufit run: ex. /home/cguccion/NeutralEvolutionModeling/neufit_output/hutchKrakenAlex_combined_2021-08-26_13:24:22  \n",
    "               occurr_freqs = pandas df that Neufit created in the orginal program but didn't specifcally output orginally\n",
    "                    - Headers of csv: otu_id, mean_abundance, occurrence, Kingdom, Phylum, Class, Order, Family, Genus, Species, predicted_occurrence, lower_conf_int, upper_conf_int\n",
    "                    - I used this occur_freqs df in order to figure out which species is the most non-neutral\n",
    "                    - I believe this is what Neufit uses to physical plot the dots on the graph as well\n",
    "               n_reads = Number of reads (from orginal program)\n",
    "               n_samples = Number of smaples (from orginal program)\n",
    "               r_square = R^2 value (from orginal program)\n",
    "               beta_fit = stats on the preformance of the model (from orginal program)\n",
    "        Outputs: ! The plot that Neufit outputs + the colored dots - will print to the screen but not save when run\n",
    "                 fn = default filename for neufit plot : _NeutralFitPlot_withNonNeutralColors.png\n",
    "                 *Creates the plot for Neufit + with colored dots '''\n",
    "    \n",
    "    #Create orginal black plot\n",
    "    neufit_plot(occurr_freqs, n_reads, n_samples, r_square, beta_fit, file_header)\n",
    "    \n",
    "    #If you want to add a new custom color, follow the steps below on what to add where (more info above as well)\n",
    "    \n",
    "    # --------- STEP 1 ---------\n",
    "    # Create mean abundance and occurance list for bacteria \n",
    "\n",
    "    #Phylori\n",
    "    MA_S_pylori = [] #Mean_Abundance, Species , phylori\n",
    "    O_S_pylori = [] #Occurrance\n",
    "\n",
    "    #Proteobacteria\n",
    "    MA_P_Proteobacteria = []\n",
    "    O_P_Proteobacteria = []\n",
    "\n",
    "    #Streptococcus\n",
    "    MA_G_Streptococcus = []\n",
    "    O_G_Streptococcus = []\n",
    "\n",
    "    #Bacteroidetes\n",
    "    MA_P_Bacteroidetes = []\n",
    "    O_P_Bacteroidetes = []\n",
    "\n",
    "    # --------- STEP 2 ---------\n",
    "    # Add to customized lists when hitting bacteria in neutral list \n",
    "\n",
    "    #for i, j in neutral.iterrows():\n",
    "    for i,j in occurr_freqs.iterrows():\n",
    "        if j['Species'] == 's__pylori':\n",
    "            MA_S_pylori.append(j['mean_abundance'])\n",
    "            O_S_pylori.append(j['occurrence'])\n",
    "        if j['Phylum'] == 'p__Proteobacteria':\n",
    "            MA_P_Proteobacteria.append(j['mean_abundance'])\n",
    "            O_P_Proteobacteria.append(j['occurrence'])\n",
    "        if j['Genus'] == 'g__Streptococcus':\n",
    "            MA_G_Streptococcus.append(j['mean_abundance'])\n",
    "            O_G_Streptococcus.append(j['occurrence'])\n",
    "        if j['Phylum'] == 'p__Bacteroidetes':\n",
    "            MA_P_Bacteroidetes.append(j['mean_abundance'])\n",
    "            O_P_Bacteroidetes.append(j['occurrence'])\n",
    "\n",
    "    # --------- STEP 3 ---------\n",
    "    # Override coloring of dots in current plot with new colors\n",
    "\n",
    "    pyplot.plot(MA_P_Proteobacteria, O_P_Proteobacteria, 'o', markersize=6, fillstyle='full', color='green', label=\"Proteobacteria\")\n",
    "    pyplot.plot(MA_G_Streptococcus, O_G_Streptococcus, 'o', markersize=6, fillstyle='full', color='orange', label=\"Streptococcus\")\n",
    "    pyplot.plot(MA_P_Bacteroidetes, O_P_Bacteroidetes, 'o', markersize=6, fillstyle='full', color='purple', label=\"Bacteroidetes\")\n",
    "    pyplot.plot(MA_S_pylori, O_S_pylori, 'o', markersize=6, fillstyle='full', color='blue', label='H.pylori')\n",
    "\n",
    "        \n",
    "    plot_fn = file_header + '_NeutralFitPlot_withNonNeutralColors.png'\n",
    "    \n",
    "    return(plot_fn)"
   ]
  },
  {
   "cell_type": "markdown",
   "metadata": {
    "heading_collapsed": true,
    "hidden": true
   },
   "source": [
    "##### save_plot"
   ]
  },
  {
   "cell_type": "code",
   "execution_count": 10,
   "metadata": {
    "hidden": true
   },
   "outputs": [],
   "source": [
    "def save_plot(fn):\n",
    "    ##Just saves the plot given a filename\n",
    "    pyplot.legend(loc=\"center left\")\n",
    "    pyplot.savefig(fn)"
   ]
  },
  {
   "cell_type": "markdown",
   "metadata": {
    "hidden": true
   },
   "source": [
    "##### Neufit_Pipeline_Main"
   ]
  },
  {
   "cell_type": "code",
   "execution_count": 115,
   "metadata": {
    "hidden": true
   },
   "outputs": [],
   "source": [
    "def Neufit_Pipeline_Main(output_filename, dataset_type, custom_filename, norm_graph, colored_graph, non_neutral, non_save = False, full_non_neutral = False):\n",
    "    '''\n",
    "    Inputs:    output_filename : the name which will be at the front of all the files; ex. 'combined'\n",
    "               dataset_type : the dataset type we have from here: ('hutchKraken', 'gregTCGA')\n",
    "               custom_filename : depedant on the dataset:\n",
    "                       - hutchKraken : the name of the biom file ex.'combined_biome'\n",
    "               \n",
    "               norm_graph : True/False : Prints and saves the neutral evolution graph without any coloring\n",
    "               colored_graph : True/False : Prints and saves the neutral evolution graph without any coloring\n",
    "               non_neutral : True/False : Prints and saves the most non-neutral microbes in csv file               \n",
    "               \n",
    "               Default inputs to be changed mainly for testing purposes:\n",
    "               non_save : True/False, False = default, the following will not be SAVED just printed to the screen\n",
    "                           - * This is intened for testing only! *\n",
    "                           - norm_graph, colored_graph, non_neutral_csv \n",
    "                           - **Took away this feature ** [It will still create [name]_data.csv and [name]_taxonomy.csv but will delete them after running]\n",
    "               full_non_neutral: True/False : Creates a csv file from orginal Neufit program with information about what is neutral and how far off the curve each point is\n",
    "                   - csv will have: otu_id, mean_abundance, occurrence, Kingdom, Phylum, Class, Order, Family, Genus, Species, predicted_occurrence, lower_conf_int, upper_conf_int\n",
    "\n",
    "              *The main function for the pipeline which calls all other functions*\n",
    "    \n",
    "    '''\n",
    "    \n",
    "    #Convert data from biom to csv files for Neufit\n",
    "    if dataset_type == 'hutchKraken':\n",
    "        fnData, fnTaxonomy = biom2data_tax(hutchKrakenAlex_biom, custom_filename, output_filename)\n",
    "    elif dataset_type == 'gregTCGA':\n",
    "        print()\n",
    "        \n",
    "    #Run Neufit\n",
    "    occurr_freqs, n_reads, n_samples, r_square, beta_fit, file_header = main_neufit(output_filename, dataset_type, fnData, fnTaxonomy, full_non_neutral)\n",
    "    \n",
    "    #Neufit Plotting and Non-neutral Outline\n",
    "    if norm_graph == True: #Neutral evolution graph, no color\n",
    "        nc_fn = neufit_plot(occurr_freqs, n_reads, n_samples, r_square, beta_fit, file_header)\n",
    "        if non_save == False:\n",
    "            save_plot(nc_fn)\n",
    "    if colored_graph == True:#Neutral evolution graph with colors\n",
    "        cc_fn = custom_color_plot(occurr_freqs, n_reads, n_samples, r_square, beta_fit, file_header)\n",
    "        if non_save == False:\n",
    "            save_plot(cc_fn)\n",
    "    if non_neutral == True:\n",
    "        non_neutral_outliers(file_header, occurr_freqs, non_save)\n",
    "        \n",
    "    #Easier to delete the Neufit text file then to not create it\n",
    "    if non_save == True:\n",
    "        neufit_fn= str(file_header) + \".txt\"\n",
    "        os.remove(neufit_fn)\n",
    "    \n",
    "    #Optional cleanup step with non_save to remove taxonomy and data files - these just overwrite themseleves so not usally a big issue\n",
    "    '''\n",
    "    if non_save == True: #Delete [name]_data.csv and [name]_taxonomy.csv to reduce cluter\n",
    "        os.remove(fnData)\n",
    "        os.remove(fnTaxonomy)\n",
    "    '''\n"
   ]
  },
  {
   "cell_type": "markdown",
   "metadata": {},
   "source": [
    "## Choose Dataset + Run Pipeline"
   ]
  },
  {
   "cell_type": "markdown",
   "metadata": {},
   "source": [
    "### Hutch Kraken Dataset: Ludmil Alexandrov"
   ]
  },
  {
   "cell_type": "markdown",
   "metadata": {
    "heading_collapsed": true
   },
   "source": [
    "##### Dataset Info"
   ]
  },
  {
   "cell_type": "markdown",
   "metadata": {
    "hidden": true
   },
   "source": [
    "**Background on Data**\n",
    "- This data was orginally in the form of Kraken data that we recived from a rotation student in Ludmill Alexandrov's lab \n",
    "    - We didn't have access to the fastq files, only the Kraken data due to a limited number of keys\n",
    "- This data is originally from Fread Hutch and consistets of progressor and non-progressor patients in reference to EAC\n",
    "\n",
    "**Information on How to Run Data**\n",
    "- This dataset comes with biome files with the taxonomic data already imported into the files\n",
    "    - This allows us to simply run **biom2data_tax** which is all set in the Neufit_Pipeline_Main Function\n",
    "- This pipeline assumes everything from Kraken (including this dataset) is already in the **biome** format    \n",
    "    - In the future we will not be using Kraken but will have the full fastq files \n",
    "    - The pipeline used previously to create the kraken-biome files uses: 'pip install krakenplot' which \n",
    "        didnt' work on the cluster (1 hour attempt) so wasn't worth implementation\n",
    "    - More details on how to convert files from Kraken to biom on the command line found on this github: https://github.com/cguccione/BEProgression2EAC/tree/main/PipelineTesting/KrakenBiome_Pipeline"
   ]
  },
  {
   "cell_type": "markdown",
   "metadata": {
    "heading_collapsed": true
   },
   "source": [
    "#### Combined Data (Everything in the dataset)"
   ]
  },
  {
   "cell_type": "code",
   "execution_count": 116,
   "metadata": {
    "hidden": true
   },
   "outputs": [
    {
     "name": "stderr",
     "output_type": "stream",
     "text": [
      "/home/cguccion/.conda/envs/neufit/lib/python3.5/site-packages/ipykernel_launcher.py:24: FutureWarning: set_axis currently defaults to operating inplace.\n",
      "This will change in a future version of pandas, use inplace=True to avoid this warning.\n"
     ]
    },
    {
     "name": "stdout",
     "output_type": "stream",
     "text": [
      "Running dataset: hutchKrakenCategory:combined\n",
      "\n",
      "[[Fit Statistics]]\n",
      "    # fitting method   = leastsq\n",
      "    # function evals   = 12\n",
      "    # data points      = 5678\n",
      "    # variables        = 1\n",
      "    chi-square         = 15.1564315\n",
      "    reduced chi-square = 0.00266980\n",
      "    Akaike info crit   = -33645.4270\n",
      "    Bayesian info crit = -33638.7826\n",
      "[[Variables]]\n",
      "    N:  2108 (fixed)\n",
      "    m:  0.32033901 +/- 0.00831252 (2.59%) (init = 0.5)\n",
      "\n",
      " R^2 = 0.82\n",
      "=========================================================\n",
      "\n",
      "Top NonNeutral Microbes\n"
     ]
    },
    {
     "data": {
      "text/html": [
       "<div>\n",
       "<style scoped>\n",
       "    .dataframe tbody tr th:only-of-type {\n",
       "        vertical-align: middle;\n",
       "    }\n",
       "\n",
       "    .dataframe tbody tr th {\n",
       "        vertical-align: top;\n",
       "    }\n",
       "\n",
       "    .dataframe thead th {\n",
       "        text-align: right;\n",
       "    }\n",
       "</style>\n",
       "<table border=\"1\" class=\"dataframe\">\n",
       "  <thead>\n",
       "    <tr style=\"text-align: right;\">\n",
       "      <th></th>\n",
       "      <th>Difference off Neutral Model</th>\n",
       "      <th>Kingdom</th>\n",
       "      <th>Phylum</th>\n",
       "      <th>Class</th>\n",
       "      <th>Order</th>\n",
       "      <th>Family</th>\n",
       "      <th>Genus</th>\n",
       "      <th>Species</th>\n",
       "    </tr>\n",
       "  </thead>\n",
       "  <tbody>\n",
       "    <tr>\n",
       "      <th>2</th>\n",
       "      <td>0.962040</td>\n",
       "      <td>k__Viruses</td>\n",
       "      <td>p__Peploviricota</td>\n",
       "      <td>c__Herviviricetes</td>\n",
       "      <td>o__Herpesvirales</td>\n",
       "      <td>f__Herpesviridae</td>\n",
       "      <td>g__Roseolovirus</td>\n",
       "      <td>s__Human betaherpesvirus 6A</td>\n",
       "    </tr>\n",
       "    <tr>\n",
       "      <th>1</th>\n",
       "      <td>0.935281</td>\n",
       "      <td>k__Viruses</td>\n",
       "      <td>p__Peploviricota</td>\n",
       "      <td>c__Herviviricetes</td>\n",
       "      <td>o__Herpesvirales</td>\n",
       "      <td>f__Herpesviridae</td>\n",
       "      <td>g__Roseolovirus</td>\n",
       "      <td>s__Human betaherpesvirus 6B</td>\n",
       "    </tr>\n",
       "    <tr>\n",
       "      <th>3</th>\n",
       "      <td>0.761747</td>\n",
       "      <td>k__Bacteria</td>\n",
       "      <td>p__Proteobacteria</td>\n",
       "      <td>c__Epsilonproteobacteria</td>\n",
       "      <td>o__Campylobacterales</td>\n",
       "      <td>f__Helicobacteraceae</td>\n",
       "      <td>g__Helicobacter</td>\n",
       "      <td>s__pylori</td>\n",
       "    </tr>\n",
       "    <tr>\n",
       "      <th>4</th>\n",
       "      <td>0.629403</td>\n",
       "      <td>k__Bacteria</td>\n",
       "      <td>p__Proteobacteria</td>\n",
       "      <td>c__Gammaproteobacteria</td>\n",
       "      <td>o__Pasteurellales</td>\n",
       "      <td>f__Pasteurellaceae</td>\n",
       "      <td>g__Haemophilus</td>\n",
       "      <td>s__parahaemolyticus</td>\n",
       "    </tr>\n",
       "    <tr>\n",
       "      <th>0</th>\n",
       "      <td>0.580051</td>\n",
       "      <td>k__Bacteria</td>\n",
       "      <td>p__Proteobacteria</td>\n",
       "      <td>c__Gammaproteobacteria</td>\n",
       "      <td>o__Pseudomonadales</td>\n",
       "      <td>f__Pseudomonadaceae</td>\n",
       "      <td>g__Pseudomonas</td>\n",
       "      <td>s__sp. J380</td>\n",
       "    </tr>\n",
       "  </tbody>\n",
       "</table>\n",
       "</div>"
      ],
      "text/plain": [
       "   Difference off Neutral Model      Kingdom             Phylum  \\\n",
       "2                      0.962040   k__Viruses   p__Peploviricota   \n",
       "1                      0.935281   k__Viruses   p__Peploviricota   \n",
       "3                      0.761747  k__Bacteria  p__Proteobacteria   \n",
       "4                      0.629403  k__Bacteria  p__Proteobacteria   \n",
       "0                      0.580051  k__Bacteria  p__Proteobacteria   \n",
       "\n",
       "                      Class                 Order                Family  \\\n",
       "2         c__Herviviricetes      o__Herpesvirales      f__Herpesviridae   \n",
       "1         c__Herviviricetes      o__Herpesvirales      f__Herpesviridae   \n",
       "3  c__Epsilonproteobacteria  o__Campylobacterales  f__Helicobacteraceae   \n",
       "4    c__Gammaproteobacteria     o__Pasteurellales    f__Pasteurellaceae   \n",
       "0    c__Gammaproteobacteria    o__Pseudomonadales   f__Pseudomonadaceae   \n",
       "\n",
       "             Genus                      Species  \n",
       "2  g__Roseolovirus  s__Human betaherpesvirus 6A  \n",
       "1  g__Roseolovirus  s__Human betaherpesvirus 6B  \n",
       "3  g__Helicobacter                    s__pylori  \n",
       "4   g__Haemophilus          s__parahaemolyticus  \n",
       "0   g__Pseudomonas                  s__sp. J380  "
      ]
     },
     "metadata": {},
     "output_type": "display_data"
    },
    {
     "name": "stdout",
     "output_type": "stream",
     "text": [
      "=========================================================\n",
      "\n"
     ]
    },
    {
     "data": {
      "image/png": "[encoded data removed]",
      "text/plain": [
       "<Figure size 432x288 with 1 Axes>"
      ]
     },
     "metadata": {
      "needs_background": "light"
     },
     "output_type": "display_data"
    }
   ],
   "source": [
    "'''Choose True or False for the following parameters:\n",
    "               norm_graph : True/False : Prints and saves the neutral evolution graph without any coloring\n",
    "               colored_graph : True/False : Prints and saves the neutral evolution graph without any coloring\n",
    "               non_neutral : True/False : Prints and saves the most non-neutral microbes in csv file\n",
    "'''\n",
    "norm_graph = True\n",
    "colored_graph = True\n",
    "non_neutral = True\n",
    "\n",
    "#Run with no output files\n",
    "#Neufit_Pipeline_Main('combined', 'hutchKraken', 'combined_biome', norm_graph, colored_graph, non_neutral, non_save = True)\n",
    "\n",
    "#Run with all possible output files\n",
    "Neufit_Pipeline_Main('combined', 'hutchKraken', 'combined_biome', norm_graph, colored_graph, non_neutral, full_non_neutral = True)"
   ]
  },
  {
   "cell_type": "markdown",
   "metadata": {},
   "source": [
    "### Greg TCGA Multi - Location Data"
   ]
  },
  {
   "cell_type": "code",
   "execution_count": null,
   "metadata": {
    "collapsed": true
   },
   "outputs": [],
   "source": [
    "print(biom2data_tax(TCGA_HNEC_EAC_WGS_Greg, '116639_feature-table-TCGA-WGS-PT-ESCA-HNSC.biom', 'greg_d1'))\n",
    "\n",
    "print(biom2data_tax(TCGA_HNEC_EAC_WGS_Greg, '116640_feature-table-TCGA-WGS-STN-ESCA-HNSC.biom', 'greg_d2'))"
   ]
  },
  {
   "cell_type": "markdown",
   "metadata": {
    "heading_collapsed": true
   },
   "source": [
    "# Extra Notes"
   ]
  },
  {
   "cell_type": "code",
   "execution_count": 8,
   "metadata": {
    "collapsed": true,
    "hidden": true
   },
   "outputs": [
    {
     "ename": "NameError",
     "evalue": "name 'data_file_name' is not defined",
     "output_type": "error",
     "traceback": [
      "\u001b[0;31m---------------------------------------------------------------------------\u001b[0m",
      "\u001b[0;31mNameError\u001b[0m                                 Traceback (most recent call last)",
      "\u001b[0;32m<ipython-input-8-4a603b109f0a>\u001b[0m in \u001b[0;36m<module>\u001b[0;34m()\u001b[0m\n\u001b[1;32m      2\u001b[0m \u001b[0;34m\u001b[0m\u001b[0m\n\u001b[1;32m      3\u001b[0m \u001b[0;31m# Read data\u001b[0m\u001b[0;34m\u001b[0m\u001b[0;34m\u001b[0m\u001b[0m\n\u001b[0;32m----> 4\u001b[0;31m \u001b[0mprint\u001b[0m \u001b[0;34m(\u001b[0m\u001b[0;34m'reading '\u001b[0m \u001b[0;34m+\u001b[0m \u001b[0mdata_file_name\u001b[0m\u001b[0;34m)\u001b[0m\u001b[0;34m\u001b[0m\u001b[0m\n\u001b[0m\u001b[1;32m      5\u001b[0m \u001b[0mabundances\u001b[0m \u001b[0;34m=\u001b[0m \u001b[0mpd\u001b[0m\u001b[0;34m.\u001b[0m\u001b[0mread_table\u001b[0m\u001b[0;34m(\u001b[0m\u001b[0mdata_file\u001b[0m\u001b[0;34m,\u001b[0m \u001b[0mheader\u001b[0m\u001b[0;34m=\u001b[0m\u001b[0;36m0\u001b[0m\u001b[0;34m,\u001b[0m \u001b[0mindex_col\u001b[0m\u001b[0;34m=\u001b[0m\u001b[0;36m0\u001b[0m\u001b[0;34m,\u001b[0m \u001b[0msep\u001b[0m\u001b[0;34m=\u001b[0m\u001b[0;34m'\\t'\u001b[0m\u001b[0;34m)\u001b[0m\u001b[0;34m.\u001b[0m\u001b[0mastype\u001b[0m\u001b[0;34m(\u001b[0m\u001b[0mint\u001b[0m\u001b[0;34m)\u001b[0m\u001b[0;34m\u001b[0m\u001b[0m\n\u001b[1;32m      6\u001b[0m \u001b[0mabundances\u001b[0m \u001b[0;34m=\u001b[0m \u001b[0mabundances\u001b[0m\u001b[0;34m[\u001b[0m\u001b[0mabundances\u001b[0m\u001b[0;34m.\u001b[0m\u001b[0msum\u001b[0m\u001b[0;34m(\u001b[0m\u001b[0;36m1\u001b[0m\u001b[0;34m)\u001b[0m \u001b[0;34m>\u001b[0m \u001b[0marg_ignore_level\u001b[0m\u001b[0;34m]\u001b[0m\u001b[0;34m\u001b[0m\u001b[0m\n",
      "\u001b[0;31mNameError\u001b[0m: name 'data_file_name' is not defined"
     ]
    }
   ],
   "source": [
    "# Read data\n",
    "print ('reading ' + data_file_name)\n",
    "abundances = pd.read_table(data_file, header=0, index_col=0, sep='\\t').astype(int)\n",
    "abundances = abundances[abundances.sum(1) > arg_ignore_level]\n",
    "print ('dataset contains ' + str(abundances.shape[1]) + ' samples (sample_id, reads):')\n",
    "print (abundances.sum(0))\n",
    "\n",
    "# Determine uniform read depth\n",
    "if arg_rarefaction_level == 0 or arg_rarefaction_level > max(abundances.sum(0)):\n",
    "    arg_rarefaction_level = min(abundances.sum(0))\n",
    "    print ('rarefying to highest possible uniform read depth'),\n",
    "else:\n",
    "    print ('rarefying to custom rarefaction level'),\n",
    "print ('(' + str(arg_rarefaction_level) + ' reads per sample)')\n",
    "\n",
    "# Optionally subsample the abundance table, unless all samples already have the required uniform read depth\n",
    "if not all(n_reads == arg_rarefaction_level for n_reads in abundances.sum(0)):\n",
    "    abundances = subsample(abundances, arg_rarefaction_level)\n",
    "    abundances = abundances[abundances.sum(1) > 0]\n",
    "\n",
    "# Dataset shape\n",
    "n_otus, n_samples = abundances.shape\n",
    "n_reads = arg_rarefaction_level\n",
    "\n",
    "print ('fitting neutral expectation to dataset with ' + str(n_samples) + ' samples and ' + str(n_otus) + ' otus')\n",
    "# Calculate mean relative abundances and occurrence frequencies\n",
    "mean_relative_abundance = (1.0*abundances.sum(1))/n_reads/n_samples\n",
    "occurrence_frequency = (1.0*np.count_nonzero(abundances, axis=1))/n_samples\n",
    "\n",
    "occurr_freqs = pd.DataFrame(mean_relative_abundance, columns=['mean_abundance'])\n",
    "occurr_freqs.index.name = 'otu_id'\n",
    "occurr_freqs['occurrence'] = occurrence_frequency\n",
    "occurr_freqs = occurr_freqs.sort_values(by=['mean_abundance'])\n",
    "\n",
    "# Join with taxonomic information (optional)\n",
    "if tax_file != None: #Changed <> to !=\n",
    "    taxonomy = pd.read_table(tax_file, header=0, index_col=0, sep='\\t')\n",
    "    taxonomy.index.name = 'otu_id'\n",
    "    occurr_freqs = occurr_freqs.join(taxonomy)\n",
    "# Fit the neutral model\n",
    "params = Parameters()\n",
    "params.add('N', value=n_reads, vary=False)\n",
    "params.add('m', value=0.5, min=0.0, max=1.0)\n",
    "beta_model = Model(beta_cdf)\n",
    "beta_fit = beta_model.fit(occurr_freqs['occurrence'], params, p=occurr_freqs['mean_abundance'])\n",
    "\n",
    "# Report fit statistics\n",
    "r_square = 1.0 - np.sum(np.square(occurr_freqs['occurrence'] - beta_fit.best_fit))/np.sum(np.square(occurr_freqs['occurrence'] - np.mean(occurr_freqs['occurrence'])))\n",
    "print(fit_report(beta_fit))\n",
    "print ('R^2 = ' + '{:1.2f}'.format(r_square))\n",
    "\n",
    "# Adding the neutral prediction to results\n",
    "occurr_freqs['predicted_occurrence'] = beta_fit.best_fit\n",
    "occurr_freqs['lower_conf_int'], occurr_freqs['upper_conf_int'] = proportion_confint(occurr_freqs['predicted_occurrence']*n_samples, n_samples, alpha=0.05, method='wilson')\n",
    "\n",
    "# Save non-neutral otus (here simply determined by lying outside the confidence intervals)\n",
    "above = occurr_freqs[occurr_freqs['occurrence'] > occurr_freqs['upper_conf_int']]\n",
    "below = occurr_freqs[occurr_freqs['occurrence'] < occurr_freqs['lower_conf_int']]\n",
    "pd.concat((above, below)).to_csv(splitext(data_file_name)[0] + '_nonneutral.csv')"
   ]
  },
  {
   "cell_type": "code",
   "execution_count": null,
   "metadata": {
    "collapsed": true,
    "hidden": true
   },
   "outputs": [],
   "source": []
  },
  {
   "cell_type": "code",
   "execution_count": null,
   "metadata": {
    "collapsed": true,
    "hidden": true
   },
   "outputs": [],
   "source": [
    "    \n",
    "    #qtable = q2.Artifact.import_data('FeatureTable[Frequency]', featureTable)\n",
    "     #pandas_featureTable = featureTable.to_dataframe() #https://biom-format.org/documentation/generated/biom.table.Table.to_dataframe.html\n",
    "    \n",
    "    '''\n",
    "        qiime tools import \\\n",
    "      --input-path 102399_reference-hit.seqs.fa \\\n",
    "      --type 'FeatureData[Sequence]' \\\n",
    "      --output-path 102399_rep-seqs.qza\n",
    "\n",
    "    qiime tools import \\\n",
    "      --input-path 102399_insertion_tree.relabelled.tre \\\n",
    "      --type 'Phylogeny[Rooted]' \\\n",
    "      --output-path 102399_rooted-tree.qza\n",
    "\n",
    "    qiime feature-classifier classify-sklearn \\\n",
    "      --i-classifier gg-13-8-99-515-806-nb-classifier.qza \\\n",
    "      --i-reads 102399_rep-seqs.qza \\\n",
    "      --o-classification 102399_taxonomy.qza\n",
    "\n",
    "    qiime metadata tabulate \\\n",
    "      --m-input-file 102399_taxonomy.qza \\\n",
    "      --o-visualization 102399_taxonomy.qzv\n",
    "    \n",
    "    \n",
    "        qiime tools import \\\n",
    "    >   --input-path kraken_test/all_test.biom \\\n",
    "    >   --type 'FeatureData[Taxonomy]' \\\n",
    "    >   --input-format BIOMV210Format \\\n",
    "    >   --output-path qiime_test/feature-table.qza\n",
    "\n",
    "    >>> from qiime2.plugins import feature_table\n",
    "    >>> from qiime2 import Artifact\n",
    "    >>> unrarefied_table = Artifact.load('table.qza') \n",
    "    \n",
    "    qtax = q2.Artifact.import_data('FeatureData[Taxonomy]', fullFilename)\n",
    "    #qtax = q2.Artifact.import_data('FeatureData[Taxonomy]', fullFilename)\n",
    "    #df = ps.DataFrame(qtax.matrix_data.toarray())\n",
    "    df = qtax.view(ps.DataFrame)\n",
    "    '''   "
   ]
  },
  {
   "cell_type": "code",
   "execution_count": null,
   "metadata": {
    "collapsed": true,
    "hidden": true
   },
   "outputs": [],
   "source": [
    "fullFilename = alex_kraken_biom + '/' + 'combined_biome'\n",
    "bt = load_table(fullFilename)\n",
    "bt\n",
    "print(bt.ids('observation'))\n",
    "print(bt.metadata_to_dataframe('observation'))"
   ]
  },
  {
   "cell_type": "code",
   "execution_count": null,
   "metadata": {
    "collapsed": true,
    "hidden": true
   },
   "outputs": [],
   "source": [
    "# this is the table\n",
    "table = q2.Artifact.import_data('FeatureTable[Frequency]', bt)\n",
    "\n",
    "# you can save it like this\n",
    "table.save('path/to/dir/table.qza')\n",
    "\n",
    "# this is the feature metadata fromat\n",
    "metadata = q2.Metdata(bt.metadata_to_dataframe('observation'))\n",
    "\n",
    "# same way to save it\n",
    "metadata.save('path/to/dir/metadata.qza')\n",
    "\n",
    "# or you can save it as the feature metadata type\n",
    "feature_metadata = q2.Artifact.import_data(\"FeatureData[Taxonomy]\", bt.metadata_to_dataframe('observation'))\n",
    "feature_metadata.save('path/to/dir/feature_metadata.qza')"
   ]
  },
  {
   "cell_type": "code",
   "execution_count": null,
   "metadata": {
    "hidden": true
   },
   "outputs": [],
   "source": [
    "#Combined (All BE)\n",
    "\n",
    "'''\n",
    "Neufit Pipeline Inputs\n",
    "\n",
    "output_filename : the name which will be at the front of all the files; ex. combined\n",
    "dataset_type : the dataset type we have from here: (hutch_kraken, greg_TCGA)\n",
    "'''\n",
    "\n",
    "#Filename headers\n",
    "output_filename = 'combined'\n",
    "\n",
    "#Convert data from biom to csv files for Neufit\n",
    "fnData, fnTaxonomy = biom2data_tax(hutchKrakenAlex_biom, 'combined_biome', output_filename)\n",
    "\n",
    "#Run Neufit\n",
    "occurr_freqs, n_reads, n_samples, r_square, beta_fit, file_header = main_neufit(output_filename, fnData, fnTaxonomy)\n",
    "\n",
    "#Neufit Plotting and Non-neutral Outline\n",
    "neufit_plot(occurr_freqs, n_reads, n_samples, r_square, beta_fit, file_header)\n",
    "custom_color_plot(occurr_freqs, n_reads, n_samples, r_square, beta_fit, file_header)\n",
    "non_neutral_outliers(file_header, occurr_freqs)\n",
    "\n",
    "'''\n",
    "#Progressers Only\n",
    "output_filename = 'progressor'\n",
    "fnData, fnTaxonomy = biom2data_tax(alex_kraken_biom, 'P_biome', output_filename)\n",
    "file_header = main_neufit(output_filename, fnData, fnTaxonomy)\n",
    "'''"
   ]
  }
 ],
 "metadata": {
  "kernelspec": {
   "display_name": "neufit",
   "language": "python",
   "name": "neufit"
  },
  "language_info": {
   "codemirror_mode": {
    "name": "ipython",
    "version": 3
   },
   "file_extension": ".py",
   "mimetype": "text/x-python",
   "name": "python",
   "nbconvert_exporter": "python",
   "pygments_lexer": "ipython3",
   "version": "3.5.5"
  }
 },
 "nbformat": 4,
 "nbformat_minor": 2
}
